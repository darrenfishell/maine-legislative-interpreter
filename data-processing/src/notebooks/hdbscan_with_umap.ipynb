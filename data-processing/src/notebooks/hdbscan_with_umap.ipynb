{
 "cells": [
  {
   "metadata": {
    "ExecuteTime": {
     "end_time": "2024-11-25T03:19:04.652756Z",
     "start_time": "2024-11-25T03:19:04.649538Z"
    }
   },
   "cell_type": "code",
   "source": [
    "from random import sample\n",
    "from re import search\n",
    "\n",
    "import numpy as np\n",
    "from numba.cuda import mapped\n",
    "\n",
    "from src.pipeline import umap_clustering as uc\n",
    "from src.database.db_writer import Database\n",
    "from sklearn.model_selection import ParameterGrid"
   ],
   "id": "8e9e90c42db0d6e8",
   "outputs": [],
   "execution_count": 3
  },
  {
   "metadata": {
    "ExecuteTime": {
     "end_time": "2024-11-25T03:19:04.660491Z",
     "start_time": "2024-11-25T03:19:04.658040Z"
    }
   },
   "cell_type": "code",
   "source": [
    "def ingest_data():\n",
    "    db_name = 'maine_legislation_and_testimony'\n",
    "    db = Database(db_name)\n",
    "    query = '''\n",
    "    SELECT \n",
    "        Organization AS organization,\n",
    "        COUNT(*) OVER (PARTITION BY Organization) AS count\n",
    "    FROM TESTIMONY_HEADER th\n",
    "    '''\n",
    "    org_df = db.return_query_as_df(query)\n",
    "    return org_df"
   ],
   "id": "e6ee96635b90d3db",
   "outputs": [],
   "execution_count": 4
  },
  {
   "metadata": {
    "ExecuteTime": {
     "end_time": "2024-11-25T03:19:04.705986Z",
     "start_time": "2024-11-25T03:19:04.666379Z"
    }
   },
   "cell_type": "code",
   "source": [
    "sample_frac = 0.2\n",
    "X = ingest_data()"
   ],
   "id": "16f1710d02675e68",
   "outputs": [],
   "execution_count": 5
  },
  {
   "metadata": {
    "ExecuteTime": {
     "end_time": "2024-11-25T03:19:04.721132Z",
     "start_time": "2024-11-25T03:19:04.719184Z"
    }
   },
   "cell_type": "code",
   "source": [
    "param_grid = {\n",
    "    'umap__n_neighbors': np.linspace(20, 50, 3, dtype=int),\n",
    "    'umap__min_dist': np.linspace(0.1, 0.4, 4),\n",
    "    'umap__n_components': np.linspace(2, 30, 4, dtype=int), \n",
    "    'hdbscan__min_cluster_size': np.linspace(5, 25, 3, dtype=int)\n",
    "}"
   ],
   "id": "4b6fc3850314238a",
   "outputs": [],
   "execution_count": 6
  },
  {
   "metadata": {},
   "cell_type": "markdown",
   "source": [
    "## Best params from experiment 1\n",
    "\n",
    "Best score: 0.7666997880285907\n",
    "Sample: 10%\n",
    "```\n",
    "{\n",
    "    'umap__n_neighbors': np.int64(10), \n",
    "    'umap__n_components': np.int64(34), \n",
    "    'umap__min_dist': np.float64(0.25), \n",
    "    'hdbscan__min_samples': np.int64(5), \n",
    "    'hdbscan__min_cluster_size': np.int64(10), \n",
    "    'hdbscan__cluster_selection_epsilon': 0.0\n",
    "}\n",
    "```\n",
    "Best run 2: \n",
    "Sample: 30%\n",
    "```\n",
    "{\n",
    "    'umap__n_neighbors': 30, \n",
    "    'umap__n_components': 20, \n",
    "    'umap__min_dist': 0.25, \n",
    "    'hdbscan__min_samples': 5, \n",
    "    'hdbscan__min_cluster_size': 5, \n",
    "    'hdbscan__cluster_selection_epsilon': 0\n",
    "}\n",
    "```"
   ],
   "id": "b9fcf0ed1e9ce178"
  },
  {
   "metadata": {
    "ExecuteTime": {
     "end_time": "2024-11-25T03:19:04.730851Z",
     "start_time": "2024-11-25T03:19:04.726074Z"
    }
   },
   "cell_type": "code",
   "source": [
    "from importlib import reload\n",
    "reload(uc)"
   ],
   "id": "1516cb3034aae94e",
   "outputs": [
    {
     "data": {
      "text/plain": [
       "<module 'src.pipeline.umap_clustering' from '/Users/Darren/git-clones/ds5500-capstone-project/src/pipeline/umap_clustering.py'>"
      ]
     },
     "execution_count": 7,
     "metadata": {},
     "output_type": "execute_result"
    }
   ],
   "execution_count": 7
  },
  {
   "cell_type": "code",
   "id": "initial_id",
   "metadata": {
    "collapsed": true,
    "ExecuteTime": {
     "end_time": "2024-11-25T03:37:29.316935Z",
     "start_time": "2024-11-25T03:19:07.377552Z"
    }
   },
   "source": [
    "n_iter = 30\n",
    "pipeline = uc.create_clustering_pipeline()\n",
    "\n",
    "search_params = dict(\n",
    "    n_iter=n_iter, \n",
    "    sample_frac=sample_frac, \n",
    "    cluster_col='organization',\n",
    "    search_type='random'\n",
    ")\n",
    "\n",
    "search_result = uc.clustering_hyperparameter_search(pipeline, param_grid, X, **search_params)"
   ],
   "outputs": [
    {
     "name": "stdout",
     "output_type": "stream",
     "text": [
      "Sampling 20.0 percent of 128437 observations\n",
      "Evaluating 30 of 144 hyperparameter configurations over 25687 observations\n"
     ]
    },
    {
     "name": "stderr",
     "output_type": "stream",
     "text": [
      "Hyperparameter Search:   0%|          | 0/30 [00:00<?, ?it/s][Parallel(n_jobs=-1)]: Using backend LokyBackend with 8 concurrent workers.\n",
      "Hyperparameter Search:  53%|█████▎    | 16/30 [03:31<03:04, 13.21s/it][Parallel(n_jobs=-1)]: Done   2 tasks      | elapsed:  4.1min\n",
      "Hyperparameter Search: 100%|██████████| 30/30 [07:46<00:00, 15.56s/it]\n",
      "/Users/Darren/miniconda3/envs/umap_pipeline/lib/python3.10/site-packages/joblib/externals/loky/process_executor.py:752: UserWarning: A worker stopped while some jobs were given to the executor. This can be caused by a too short worker timeout or by a memory leak.\n",
      "  warnings.warn(\n",
      "[Parallel(n_jobs=-1)]: Done  22 out of  30 | elapsed: 15.1min remaining:  5.5min\n",
      "[Parallel(n_jobs=-1)]: Done  30 out of  30 | elapsed: 17.7min finished\n"
     ]
    },
    {
     "name": "stdout",
     "output_type": "stream",
     "text": [
      "Best parameters: {'umap__n_neighbors': np.int64(20), 'umap__n_components': np.int64(30), 'umap__min_dist': np.float64(0.1), 'hdbscan__min_cluster_size': np.int64(5)}\n",
      "Best score: 0.7909287726144892\n"
     ]
    }
   ],
   "execution_count": 8
  },
  {
   "metadata": {
    "ExecuteTime": {
     "end_time": "2024-11-25T04:19:22.790072Z",
     "start_time": "2024-11-25T04:19:22.599165Z"
    }
   },
   "cell_type": "code",
   "source": "search_result.head(10)",
   "id": "7207d4974e2f37d6",
   "outputs": [
    {
     "data": {
      "text/plain": [
       "                                               params     score  \\\n",
       "26  {'umap__n_neighbors': 20, 'umap__n_components'...  0.790929   \n",
       "5   {'umap__n_neighbors': 20, 'umap__n_components'...  0.772761   \n",
       "16  {'umap__n_neighbors': 20, 'umap__n_components'...  0.763660   \n",
       "10  {'umap__n_neighbors': 20, 'umap__n_components'...  0.753386   \n",
       "9   {'umap__n_neighbors': 20, 'umap__n_components'...  0.752528   \n",
       "24  {'umap__n_neighbors': 35, 'umap__n_components'...  0.750688   \n",
       "8   {'umap__n_neighbors': 20, 'umap__n_components'...  0.746741   \n",
       "25  {'umap__n_neighbors': 20, 'umap__n_components'...  0.743893   \n",
       "17  {'umap__n_neighbors': 20, 'umap__n_components'...  0.742839   \n",
       "27  {'umap__n_neighbors': 35, 'umap__n_components'...  0.739948   \n",
       "\n",
       "                                           embeddings  \\\n",
       "26  [[3.8620307445526123, 7.552438735961914, 5.873...   \n",
       "5   [[0.3788496255874634, -18.490711212158203], [3...   \n",
       "16  [[8.463165283203125, 1.5468413829803467, 11.63...   \n",
       "10  [[8.488434791564941, 8.991987228393555, 11.576...   \n",
       "9   [[4.763209342956543, 7.368696689605713, 9.7110...   \n",
       "24  [[8.154902458190918, 6.0413079261779785, 11.09...   \n",
       "8   [[4.579568386077881, 7.829644203186035, 11.555...   \n",
       "25  [[2.9779036045074463, 5.146974086761475, 6.168...   \n",
       "17  [[2.267648458480835, 4.615531921386719, -0.113...   \n",
       "27  [[5.110751152038574, -0.07681722193956375, -6....   \n",
       "\n",
       "                                               labels  \\\n",
       "26  [121, 898, -1, 57, 312, 811, 72, 64, 67, 210, ...   \n",
       "5   [45, 870, -1, 220, 245, -1, 10, 72, 148, 35, 6...   \n",
       "16  [102, 809, -1, 116, 226, 675, 26, 87, 90, 41, ...   \n",
       "10  [136, 414, -1, 80, 174, 287, 7, 4, 65, 93, 356...   \n",
       "9   [81, 689, -1, 84, 303, 613, 54, 0, 164, 205, 5...   \n",
       "24  [32, 443, -1, 43, 182, 395, 4, 13, 153, 11, 40...   \n",
       "8   [137, 455, -1, 9, 198, 350, 6, 51, 61, 191, 38...   \n",
       "25  [145, 697, -1, 121, 233, 382, 77, 308, 26, 414...   \n",
       "17  [10, 429, 441, 76, 159, 441, 46, 56, 226, 275,...   \n",
       "27  [70, 906, -1, 4, 367, -1, 24, 18, 72, 91, 737,...   \n",
       "\n",
       "                                                model  \\\n",
       "26  (SentenceTransformerEncoder(model=SentenceTran...   \n",
       "5   (SentenceTransformerEncoder(model=SentenceTran...   \n",
       "16  (SentenceTransformerEncoder(model=SentenceTran...   \n",
       "10  (SentenceTransformerEncoder(model=SentenceTran...   \n",
       "9   (SentenceTransformerEncoder(model=SentenceTran...   \n",
       "24  (SentenceTransformerEncoder(model=SentenceTran...   \n",
       "8   (SentenceTransformerEncoder(model=SentenceTran...   \n",
       "25  (SentenceTransformerEncoder(model=SentenceTran...   \n",
       "17  (SentenceTransformerEncoder(model=SentenceTran...   \n",
       "27  (SentenceTransformerEncoder(model=SentenceTran...   \n",
       "\n",
       "                                           labeled_df  \n",
       "26                                           ORIGI...  \n",
       "5                                            ORIGI...  \n",
       "16                                           ORIGI...  \n",
       "10                                           ORIGI...  \n",
       "9                                            ORIGI...  \n",
       "24                                           ORIGI...  \n",
       "8                                            ORIGI...  \n",
       "25                                           ORIGI...  \n",
       "17                                           ORIGI...  \n",
       "27                                           ORIGI...  "
      ],
      "text/html": [
       "<div>\n",
       "<style scoped>\n",
       "    .dataframe tbody tr th:only-of-type {\n",
       "        vertical-align: middle;\n",
       "    }\n",
       "\n",
       "    .dataframe tbody tr th {\n",
       "        vertical-align: top;\n",
       "    }\n",
       "\n",
       "    .dataframe thead th {\n",
       "        text-align: right;\n",
       "    }\n",
       "</style>\n",
       "<table border=\"1\" class=\"dataframe\">\n",
       "  <thead>\n",
       "    <tr style=\"text-align: right;\">\n",
       "      <th></th>\n",
       "      <th>params</th>\n",
       "      <th>score</th>\n",
       "      <th>embeddings</th>\n",
       "      <th>labels</th>\n",
       "      <th>model</th>\n",
       "      <th>labeled_df</th>\n",
       "    </tr>\n",
       "  </thead>\n",
       "  <tbody>\n",
       "    <tr>\n",
       "      <th>26</th>\n",
       "      <td>{'umap__n_neighbors': 20, 'umap__n_components'...</td>\n",
       "      <td>0.790929</td>\n",
       "      <td>[[3.8620307445526123, 7.552438735961914, 5.873...</td>\n",
       "      <td>[121, 898, -1, 57, 312, 811, 72, 64, 67, 210, ...</td>\n",
       "      <td>(SentenceTransformerEncoder(model=SentenceTran...</td>\n",
       "      <td>ORIGI...</td>\n",
       "    </tr>\n",
       "    <tr>\n",
       "      <th>5</th>\n",
       "      <td>{'umap__n_neighbors': 20, 'umap__n_components'...</td>\n",
       "      <td>0.772761</td>\n",
       "      <td>[[0.3788496255874634, -18.490711212158203], [3...</td>\n",
       "      <td>[45, 870, -1, 220, 245, -1, 10, 72, 148, 35, 6...</td>\n",
       "      <td>(SentenceTransformerEncoder(model=SentenceTran...</td>\n",
       "      <td>ORIGI...</td>\n",
       "    </tr>\n",
       "    <tr>\n",
       "      <th>16</th>\n",
       "      <td>{'umap__n_neighbors': 20, 'umap__n_components'...</td>\n",
       "      <td>0.763660</td>\n",
       "      <td>[[8.463165283203125, 1.5468413829803467, 11.63...</td>\n",
       "      <td>[102, 809, -1, 116, 226, 675, 26, 87, 90, 41, ...</td>\n",
       "      <td>(SentenceTransformerEncoder(model=SentenceTran...</td>\n",
       "      <td>ORIGI...</td>\n",
       "    </tr>\n",
       "    <tr>\n",
       "      <th>10</th>\n",
       "      <td>{'umap__n_neighbors': 20, 'umap__n_components'...</td>\n",
       "      <td>0.753386</td>\n",
       "      <td>[[8.488434791564941, 8.991987228393555, 11.576...</td>\n",
       "      <td>[136, 414, -1, 80, 174, 287, 7, 4, 65, 93, 356...</td>\n",
       "      <td>(SentenceTransformerEncoder(model=SentenceTran...</td>\n",
       "      <td>ORIGI...</td>\n",
       "    </tr>\n",
       "    <tr>\n",
       "      <th>9</th>\n",
       "      <td>{'umap__n_neighbors': 20, 'umap__n_components'...</td>\n",
       "      <td>0.752528</td>\n",
       "      <td>[[4.763209342956543, 7.368696689605713, 9.7110...</td>\n",
       "      <td>[81, 689, -1, 84, 303, 613, 54, 0, 164, 205, 5...</td>\n",
       "      <td>(SentenceTransformerEncoder(model=SentenceTran...</td>\n",
       "      <td>ORIGI...</td>\n",
       "    </tr>\n",
       "    <tr>\n",
       "      <th>24</th>\n",
       "      <td>{'umap__n_neighbors': 35, 'umap__n_components'...</td>\n",
       "      <td>0.750688</td>\n",
       "      <td>[[8.154902458190918, 6.0413079261779785, 11.09...</td>\n",
       "      <td>[32, 443, -1, 43, 182, 395, 4, 13, 153, 11, 40...</td>\n",
       "      <td>(SentenceTransformerEncoder(model=SentenceTran...</td>\n",
       "      <td>ORIGI...</td>\n",
       "    </tr>\n",
       "    <tr>\n",
       "      <th>8</th>\n",
       "      <td>{'umap__n_neighbors': 20, 'umap__n_components'...</td>\n",
       "      <td>0.746741</td>\n",
       "      <td>[[4.579568386077881, 7.829644203186035, 11.555...</td>\n",
       "      <td>[137, 455, -1, 9, 198, 350, 6, 51, 61, 191, 38...</td>\n",
       "      <td>(SentenceTransformerEncoder(model=SentenceTran...</td>\n",
       "      <td>ORIGI...</td>\n",
       "    </tr>\n",
       "    <tr>\n",
       "      <th>25</th>\n",
       "      <td>{'umap__n_neighbors': 20, 'umap__n_components'...</td>\n",
       "      <td>0.743893</td>\n",
       "      <td>[[2.9779036045074463, 5.146974086761475, 6.168...</td>\n",
       "      <td>[145, 697, -1, 121, 233, 382, 77, 308, 26, 414...</td>\n",
       "      <td>(SentenceTransformerEncoder(model=SentenceTran...</td>\n",
       "      <td>ORIGI...</td>\n",
       "    </tr>\n",
       "    <tr>\n",
       "      <th>17</th>\n",
       "      <td>{'umap__n_neighbors': 20, 'umap__n_components'...</td>\n",
       "      <td>0.742839</td>\n",
       "      <td>[[2.267648458480835, 4.615531921386719, -0.113...</td>\n",
       "      <td>[10, 429, 441, 76, 159, 441, 46, 56, 226, 275,...</td>\n",
       "      <td>(SentenceTransformerEncoder(model=SentenceTran...</td>\n",
       "      <td>ORIGI...</td>\n",
       "    </tr>\n",
       "    <tr>\n",
       "      <th>27</th>\n",
       "      <td>{'umap__n_neighbors': 35, 'umap__n_components'...</td>\n",
       "      <td>0.739948</td>\n",
       "      <td>[[5.110751152038574, -0.07681722193956375, -6....</td>\n",
       "      <td>[70, 906, -1, 4, 367, -1, 24, 18, 72, 91, 737,...</td>\n",
       "      <td>(SentenceTransformerEncoder(model=SentenceTran...</td>\n",
       "      <td>ORIGI...</td>\n",
       "    </tr>\n",
       "  </tbody>\n",
       "</table>\n",
       "</div>"
      ]
     },
     "execution_count": 9,
     "metadata": {},
     "output_type": "execute_result"
    }
   ],
   "execution_count": 9
  },
  {
   "metadata": {},
   "cell_type": "code",
   "source": [
    "best_params = search_result.iloc[0]['params']\n",
    "best_params"
   ],
   "id": "4f164f3c4b1108",
   "outputs": [],
   "execution_count": 10
  },
  {
   "metadata": {},
   "cell_type": "code",
   "source": [
    "# Apply the best parameters to get final clustering\n",
    "pipeline.set_params(**best_params)\n",
    "pipeline.fit(X['organization'])\n",
    "\n",
    "# Final clustering labels and embeddings\n",
    "final_embeddings = pipeline.named_steps['umap'].embedding_\n",
    "final_labels = pipeline.named_steps['hdbscan'].labels_\n",
    "\n",
    "# Assign representative labels to each cluster\n",
    "cluster_representatives = uc.assign_representative_labels(X['organization'], final_labels)\n",
    "\n",
    "print(\"Cluster Representatives:\")\n",
    "for cluster_id, representative_label in cluster_representatives.items():\n",
    "    print(f\"Cluster {cluster_id}: {representative_label}\")\n",
    "    "
   ],
   "id": "e45f0f5483d6a90d",
   "outputs": [],
   "execution_count": 13
  },
  {
   "metadata": {},
   "cell_type": "code",
   "source": [
    "import duckdb\n",
    "\n",
    "duckdb.query('''\n",
    "    SELECT DISTINCT ORG_NAME, CLUSTER_LABEL\n",
    "    FROM mapped_df\n",
    "    WHERE LOWER(ORG_NAME) LIKE '%sierra%'\n",
    "''').df()"
   ],
   "id": "b9217d7b8a2d8527",
   "outputs": [],
   "execution_count": 14
  },
  {
   "metadata": {},
   "cell_type": "code",
   "source": "search_result.head()",
   "id": "d76edab9c45916fc",
   "outputs": [],
   "execution_count": 17
  },
  {
   "metadata": {},
   "cell_type": "code",
   "source": [
    "for idx, r in search_result.iterrows():\n",
    "    df = search_result['labeled_df']\n",
    "    cluster_df = duckdb.query('''\n",
    "        SELECT DISTINCT ORG_NAME, CLUSTER_LABEL\n",
    "        FROM mapped_df\n",
    "        WHERE LOWER(CLUSTER_LABEL) = 'sierra club maine'\n",
    "    ''').df()\n",
    "    display(cluster_df)"
   ],
   "id": "24a110e05699f5dd",
   "outputs": [],
   "execution_count": 18
  }
 ],
 "metadata": {
  "kernelspec": {
   "display_name": "UMAP Pipeline",
   "language": "python",
   "name": "umap_pipeline"
  },
  "language_info": {
   "codemirror_mode": {
    "name": "ipython",
    "version": 2
   },
   "file_extension": ".py",
   "mimetype": "text/x-python",
   "name": "python",
   "nbconvert_exporter": "python",
   "pygments_lexer": "ipython2",
   "version": "2.7.6"
  }
 },
 "nbformat": 4,
 "nbformat_minor": 5
}
