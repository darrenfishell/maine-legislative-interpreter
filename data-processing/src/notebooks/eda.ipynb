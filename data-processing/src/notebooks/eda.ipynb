{
 "cells": [
  {
   "cell_type": "markdown",
   "source": [
    "## Basic scraper for bill list\n",
    "\n",
    "From new state legislative search (earliest session 120)"
   ],
   "metadata": {
    "collapsed": false
   },
   "id": "dc9282fec76a9df8"
  },
  {
   "cell_type": "code",
   "execution_count": 1,
   "outputs": [],
   "source": [
    "import pandas as pd\n",
    "import parse_bills as pb\n",
    "import requests\n",
    "import sqlite3 as sql"
   ],
   "metadata": {
    "collapsed": false,
    "ExecuteTime": {
     "end_time": "2024-10-09T00:09:34.214114Z",
     "start_time": "2024-10-09T00:09:33.687389Z"
    }
   },
   "id": "a8242a9c48a8058f"
  },
  {
   "cell_type": "code",
   "execution_count": 2,
   "outputs": [
    {
     "data": {
      "text/plain": "131"
     },
     "execution_count": 2,
     "metadata": {},
     "output_type": "execute_result"
    }
   ],
   "source": [
    "cur_leg = requests.get('https://legislature.maine.gov/backend/breeze/data/getCurrentLegislature').json()[0]\n",
    "cur_leg"
   ],
   "metadata": {
    "collapsed": false,
    "ExecuteTime": {
     "end_time": "2024-10-09T00:09:34.523332Z",
     "start_time": "2024-10-09T00:09:34.215686Z"
    }
   },
   "id": "19562b05d33b8cd"
  },
  {
   "cell_type": "markdown",
   "source": [
    "## First legislature fixed at 120"
   ],
   "metadata": {
    "collapsed": false
   },
   "id": "b20c1626a3cef2e3"
  },
  {
   "cell_type": "code",
   "execution_count": 3,
   "outputs": [
    {
     "data": {
      "text/plain": "[131]"
     },
     "execution_count": 3,
     "metadata": {},
     "output_type": "execute_result"
    }
   ],
   "source": [
    "start_leg = 131\n",
    "leg_list = list(range(start_leg, cur_leg + 1))\n",
    "leg_list"
   ],
   "metadata": {
    "collapsed": false,
    "ExecuteTime": {
     "end_time": "2024-10-09T00:09:34.536029Z",
     "start_time": "2024-10-09T00:09:34.524157Z"
    }
   },
   "id": "5516f5afcbb02bcd"
  },
  {
   "cell_type": "code",
   "execution_count": 4,
   "outputs": [
    {
     "name": "stdout",
     "output_type": "stream",
     "text": [
      "https://legislature.maine.gov/mrs-search/api/billtext?term=&title=&legislature=131&requestItemType=false&lmSponsorPrimary=false&reqAmendExists=false&reqAmendAdoptH=false&reqAmendAdoptS=false&reqChapterExists=false&reqFNRequired=false&reqEmergency=false&reqGovernor=false&reqBond=false&reqMandate=false&reqPublicLand=false&showExtraParameters=true&mustHave=&mustNotHave=&offset=0&pageSize=20&sortByScore=false&showBillText=false&sortAscending=false&excludeOrders=false\n",
      "Legislature 131\n",
      "Generated 258 URLs | page size: 20 | results: 5160\n",
      "\n",
      "\n",
      "Generated 258 URLs\n"
     ]
    }
   ],
   "source": [
    "from importlib import reload\n",
    "reload(pb)\n",
    "urls = pb.generate_query_list(session_list=leg_list)"
   ],
   "metadata": {
    "collapsed": false,
    "ExecuteTime": {
     "end_time": "2024-10-09T00:09:34.838202Z",
     "start_time": "2024-10-09T00:09:34.529565Z"
    }
   },
   "id": "ae8c82200b9df63"
  },
  {
   "cell_type": "code",
   "execution_count": 17,
   "outputs": [
    {
     "name": "stderr",
     "output_type": "stream",
     "text": [
      "Fetching Data:  21%|██        | 107/516 [00:06<00:23, 17.50query/s]\n"
     ]
    },
    {
     "ename": "CancelledError",
     "evalue": "",
     "output_type": "error",
     "traceback": [
      "\u001B[0;31m---------------------------------------------------------------------------\u001B[0m",
      "\u001B[0;31mCancelledError\u001B[0m                            Traceback (most recent call last)",
      "Cell \u001B[0;32mIn[17], line 1\u001B[0m\n\u001B[0;32m----> 1\u001B[0m r \u001B[38;5;241m=\u001B[39m \u001B[38;5;28;01mawait\u001B[39;00m pb\u001B[38;5;241m.\u001B[39mrun_in_batches(\u001B[38;5;241m10\u001B[39m, urls)\n",
      "File \u001B[0;32m~/git-clones/ds5500-capstone-project/src/parse_bills.py:54\u001B[0m, in \u001B[0;36mrun_in_batches\u001B[0;34m(batch_size, url_queries)\u001B[0m\n\u001B[1;32m     52\u001B[0m \u001B[38;5;28;01mif\u001B[39;00m \u001B[38;5;28mlen\u001B[39m(tasks) \u001B[38;5;241m==\u001B[39m batch_size:\n\u001B[1;32m     53\u001B[0m     \u001B[38;5;28;01mfor\u001B[39;00m completed_task \u001B[38;5;129;01min\u001B[39;00m asyncio\u001B[38;5;241m.\u001B[39mas_completed(tasks):\n\u001B[0;32m---> 54\u001B[0m         result \u001B[38;5;241m=\u001B[39m \u001B[38;5;28;01mawait\u001B[39;00m completed_task\n\u001B[1;32m     55\u001B[0m         results\u001B[38;5;241m.\u001B[39mappend(result)\n\u001B[1;32m     56\u001B[0m         pbar\u001B[38;5;241m.\u001B[39mupdate(\u001B[38;5;241m1\u001B[39m)  \u001B[38;5;66;03m# Update the progress bar after each task completes\u001B[39;00m\n",
      "File \u001B[0;32m~/miniconda3/envs/me_legis_testimony_interpreter/lib/python3.11/asyncio/tasks.py:611\u001B[0m, in \u001B[0;36mas_completed.<locals>._wait_for_one\u001B[0;34m()\u001B[0m\n\u001B[1;32m    610\u001B[0m \u001B[38;5;28;01masync\u001B[39;00m \u001B[38;5;28;01mdef\u001B[39;00m \u001B[38;5;21m_wait_for_one\u001B[39m():\n\u001B[0;32m--> 611\u001B[0m     f \u001B[38;5;241m=\u001B[39m \u001B[38;5;28;01mawait\u001B[39;00m done\u001B[38;5;241m.\u001B[39mget()\n\u001B[1;32m    612\u001B[0m     \u001B[38;5;28;01mif\u001B[39;00m f \u001B[38;5;129;01mis\u001B[39;00m \u001B[38;5;28;01mNone\u001B[39;00m:\n\u001B[1;32m    613\u001B[0m         \u001B[38;5;66;03m# Dummy value from _on_timeout().\u001B[39;00m\n\u001B[1;32m    614\u001B[0m         \u001B[38;5;28;01mraise\u001B[39;00m exceptions\u001B[38;5;241m.\u001B[39mTimeoutError\n",
      "File \u001B[0;32m~/miniconda3/envs/me_legis_testimony_interpreter/lib/python3.11/asyncio/queues.py:158\u001B[0m, in \u001B[0;36mQueue.get\u001B[0;34m(self)\u001B[0m\n\u001B[1;32m    156\u001B[0m \u001B[38;5;28mself\u001B[39m\u001B[38;5;241m.\u001B[39m_getters\u001B[38;5;241m.\u001B[39mappend(getter)\n\u001B[1;32m    157\u001B[0m \u001B[38;5;28;01mtry\u001B[39;00m:\n\u001B[0;32m--> 158\u001B[0m     \u001B[38;5;28;01mawait\u001B[39;00m getter\n\u001B[1;32m    159\u001B[0m \u001B[38;5;28;01mexcept\u001B[39;00m:\n\u001B[1;32m    160\u001B[0m     getter\u001B[38;5;241m.\u001B[39mcancel()  \u001B[38;5;66;03m# Just in case getter is not done yet.\u001B[39;00m\n",
      "\u001B[0;31mCancelledError\u001B[0m: "
     ]
    }
   ],
   "source": [
    "r = await pb.run_in_batches(10, urls)"
   ],
   "metadata": {
    "collapsed": false,
    "ExecuteTime": {
     "end_time": "2024-10-08T23:43:40.004104Z",
     "start_time": "2024-10-08T23:43:33.811019Z"
    }
   },
   "id": "fa0124c18f2eb982"
  },
  {
   "cell_type": "code",
   "execution_count": null,
   "outputs": [],
   "source": [
    "src = [y[0]['_source'] for y in [x['hits']['hits'] for x in r]]\n",
    "df = pd.json_normalize(src)\n",
    "conn = sql.connect('data/maine_legislation.db')\n",
    "df.to_sql('maine_bill_text', conn, if_exists='replace', index=False)\n",
    "conn.close()"
   ],
   "metadata": {
    "collapsed": false,
    "ExecuteTime": {
     "end_time": "2024-10-04T03:32:52.586567Z",
     "start_time": "2024-10-04T03:32:52.586377Z"
    }
   },
   "id": "46b5171c8ba63229"
  },
  {
   "cell_type": "markdown",
   "source": [
    "## Format testimony search from bill"
   ],
   "metadata": {
    "collapsed": false
   },
   "id": "74c1ecfcade994a"
  },
  {
   "cell_type": "markdown",
   "source": [
    "## Query Paper Numbers and session for testimony results\n"
   ],
   "metadata": {
    "collapsed": false
   },
   "id": "78d4220cc9454f1"
  },
  {
   "cell_type": "code",
   "execution_count": 19,
   "outputs": [],
   "source": [
    "conn = sql.connect('data/maine_legislation.db')\n",
    "query = '''\n",
    "SELECT DISTINCT paperNumber, legislature\n",
    "FROM maine_bill_text mbt \n",
    "WHERE paperNumber IS NOT NULL \n",
    "ORDER BY legislature, paperNumber\n",
    "'''\n",
    "doc_leg_list = conn.execute(query).fetchall()\n",
    "conn.close()"
   ],
   "metadata": {
    "collapsed": false,
    "ExecuteTime": {
     "end_time": "2024-10-04T17:10:31.812778Z",
     "start_time": "2024-10-04T17:10:16.373759Z"
    }
   },
   "id": "259f443e8e0895b8"
  },
  {
   "cell_type": "code",
   "execution_count": 20,
   "outputs": [
    {
     "data": {
      "text/plain": "  paperNumber  legislature\n0      HP0006          120\n1      HP0010          120\n2      HP0015          120\n3      HP0021          120\n4      HP0023          120",
      "text/html": "<div>\n<style scoped>\n    .dataframe tbody tr th:only-of-type {\n        vertical-align: middle;\n    }\n\n    .dataframe tbody tr th {\n        vertical-align: top;\n    }\n\n    .dataframe thead th {\n        text-align: right;\n    }\n</style>\n<table border=\"1\" class=\"dataframe\">\n  <thead>\n    <tr style=\"text-align: right;\">\n      <th></th>\n      <th>paperNumber</th>\n      <th>legislature</th>\n    </tr>\n  </thead>\n  <tbody>\n    <tr>\n      <th>0</th>\n      <td>HP0006</td>\n      <td>120</td>\n    </tr>\n    <tr>\n      <th>1</th>\n      <td>HP0010</td>\n      <td>120</td>\n    </tr>\n    <tr>\n      <th>2</th>\n      <td>HP0015</td>\n      <td>120</td>\n    </tr>\n    <tr>\n      <th>3</th>\n      <td>HP0021</td>\n      <td>120</td>\n    </tr>\n    <tr>\n      <th>4</th>\n      <td>HP0023</td>\n      <td>120</td>\n    </tr>\n  </tbody>\n</table>\n</div>"
     },
     "execution_count": 20,
     "metadata": {},
     "output_type": "execute_result"
    }
   ],
   "source": [
    "conn = sql.connect('data/maine_legislation.db')\n",
    "pd.read_sql(query, conn).head()"
   ],
   "metadata": {
    "collapsed": false,
    "ExecuteTime": {
     "end_time": "2024-10-04T17:11:12.228305Z",
     "start_time": "2024-10-04T17:11:06.925652Z"
    }
   },
   "id": "edc7d55bf72baa83"
  },
  {
   "cell_type": "code",
   "execution_count": 22,
   "outputs": [
    {
     "name": "stderr",
     "output_type": "stream",
     "text": [
      "Fetching Data:  55%|█████▍    | 3193/5832 [03:41<10:23,  4.23query/s]ERROR:root:Error fetching https://legislature.maine.gov/backend/breeze/data/CommitteeTestimony?%24filter=%28%28%28Request%2FPaperNumber+eq+%27SP0601%27%29+and+%28Request%2FLegislature+eq+125%29%29+and+%28Inactive+ne+true%29%29+and+%28not+%28startswith%28LastName%2C+%27%40%27%29+eq+true%29%29&%24orderby=LastName%2CFirstName%2COrganization&%24expand=Request&%24select=Id%2CSourceDocument%2CRequestId%2CFileType%2CFileSize%2CNamePrefix%2CFirstName%2CLastName%2CNameSuffix%2COrganization%2CPresentedDate%2CPolicyArea%2CTopic%2CCreated%2CCreatedBy%2CLastEdited%2CLastEditedBy%2CPrivate%2CInactive%2CTestimonySubmissionId%2CHearingDate%2CLDNumber%2CRequest%2CCommitteeTestimonyDocumentContents: Unterminated string starting at: line 1 column 1455109 (char 1455108)\n",
      "ERROR:root:Error fetching https://legislature.maine.gov/backend/breeze/data/CommitteeTestimony?%24filter=%28%28%28Request%2FPaperNumber+eq+%27SP0601%27%29+and+%28Request%2FLegislature+eq+125%29%29+and+%28Inactive+ne+true%29%29+and+%28not+%28startswith%28LastName%2C+%27%40%27%29+eq+true%29%29&%24orderby=LastName%2CFirstName%2COrganization&%24expand=Request&%24select=Id%2CSourceDocument%2CRequestId%2CFileType%2CFileSize%2CNamePrefix%2CFirstName%2CLastName%2CNameSuffix%2COrganization%2CPresentedDate%2CPolicyArea%2CTopic%2CCreated%2CCreatedBy%2CLastEdited%2CLastEditedBy%2CPrivate%2CInactive%2CTestimonySubmissionId%2CHearingDate%2CLDNumber%2CRequest%2CCommitteeTestimonyDocumentContents: Unterminated string starting at: line 1 column 3306235 (char 3306234)\n",
      "ERROR:root:Error fetching https://legislature.maine.gov/backend/breeze/data/CommitteeTestimony?%24filter=%28%28%28Request%2FPaperNumber+eq+%27SP0601%27%29+and+%28Request%2FLegislature+eq+125%29%29+and+%28Inactive+ne+true%29%29+and+%28not+%28startswith%28LastName%2C+%27%40%27%29+eq+true%29%29&%24orderby=LastName%2CFirstName%2COrganization&%24expand=Request&%24select=Id%2CSourceDocument%2CRequestId%2CFileType%2CFileSize%2CNamePrefix%2CFirstName%2CLastName%2CNameSuffix%2COrganization%2CPresentedDate%2CPolicyArea%2CTopic%2CCreated%2CCreatedBy%2CLastEdited%2CLastEditedBy%2CPrivate%2CInactive%2CTestimonySubmissionId%2CHearingDate%2CLDNumber%2CRequest%2CCommitteeTestimonyDocumentContents: Unterminated string starting at: line 1 column 1553606 (char 1553605)\n",
      "Fetching Data:  55%|█████▍    | 3194/5832 [04:00<10:22,  4.23query/s]ERROR:root:Error fetching https://legislature.maine.gov/backend/breeze/data/CommitteeTestimony?%24filter=%28%28%28Request%2FPaperNumber+eq+%27SP0601%27%29+and+%28Request%2FLegislature+eq+125%29%29+and+%28Inactive+ne+true%29%29+and+%28not+%28startswith%28LastName%2C+%27%40%27%29+eq+true%29%29&%24orderby=LastName%2CFirstName%2COrganization&%24expand=Request&%24select=Id%2CSourceDocument%2CRequestId%2CFileType%2CFileSize%2CNamePrefix%2CFirstName%2CLastName%2CNameSuffix%2COrganization%2CPresentedDate%2CPolicyArea%2CTopic%2CCreated%2CCreatedBy%2CLastEdited%2CLastEditedBy%2CPrivate%2CInactive%2CTestimonySubmissionId%2CHearingDate%2CLDNumber%2CRequest%2CCommitteeTestimonyDocumentContents: Unterminated string starting at: line 1 column 3306235 (char 3306234)\n",
      "Fetching Data:  55%|█████▌    | 3217/5832 [04:25<22:36,  1.93query/s]  ERROR:root:Error fetching https://legislature.maine.gov/backend/breeze/data/CommitteeTestimony?%24filter=%28%28%28Request%2FPaperNumber+eq+%27HP0036%27%29+and+%28Request%2FLegislature+eq+126%29%29+and+%28Inactive+ne+true%29%29+and+%28not+%28startswith%28LastName%2C+%27%40%27%29+eq+true%29%29&%24orderby=LastName%2CFirstName%2COrganization&%24expand=Request&%24select=Id%2CSourceDocument%2CRequestId%2CFileType%2CFileSize%2CNamePrefix%2CFirstName%2CLastName%2CNameSuffix%2COrganization%2CPresentedDate%2CPolicyArea%2CTopic%2CCreated%2CCreatedBy%2CLastEdited%2CLastEditedBy%2CPrivate%2CInactive%2CTestimonySubmissionId%2CHearingDate%2CLDNumber%2CRequest%2CCommitteeTestimonyDocumentContents: Unterminated string starting at: line 1 column 406436 (char 406435)\n",
      "Fetching Data:  55%|█████▌    | 3218/5832 [04:26<32:13,  1.35query/s]ERROR:root:Error fetching https://legislature.maine.gov/backend/breeze/data/CommitteeTestimony?%24filter=%28%28%28Request%2FPaperNumber+eq+%27HP0041%27%29+and+%28Request%2FLegislature+eq+126%29%29+and+%28Inactive+ne+true%29%29+and+%28not+%28startswith%28LastName%2C+%27%40%27%29+eq+true%29%29&%24orderby=LastName%2CFirstName%2COrganization&%24expand=Request&%24select=Id%2CSourceDocument%2CRequestId%2CFileType%2CFileSize%2CNamePrefix%2CFirstName%2CLastName%2CNameSuffix%2COrganization%2CPresentedDate%2CPolicyArea%2CTopic%2CCreated%2CCreatedBy%2CLastEdited%2CLastEditedBy%2CPrivate%2CInactive%2CTestimonySubmissionId%2CHearingDate%2CLDNumber%2CRequest%2CCommitteeTestimonyDocumentContents: Unterminated string starting at: line 1 column 4323 (char 4322)\n",
      "Fetching Data:  55%|█████▌    | 3222/5832 [04:28<26:40,  1.63query/s]ERROR:root:Error fetching https://legislature.maine.gov/backend/breeze/data/CommitteeTestimony?%24filter=%28%28%28Request%2FPaperNumber+eq+%27HP0071%27%29+and+%28Request%2FLegislature+eq+126%29%29+and+%28Inactive+ne+true%29%29+and+%28not+%28startswith%28LastName%2C+%27%40%27%29+eq+true%29%29&%24orderby=LastName%2CFirstName%2COrganization&%24expand=Request&%24select=Id%2CSourceDocument%2CRequestId%2CFileType%2CFileSize%2CNamePrefix%2CFirstName%2CLastName%2CNameSuffix%2COrganization%2CPresentedDate%2CPolicyArea%2CTopic%2CCreated%2CCreatedBy%2CLastEdited%2CLastEditedBy%2CPrivate%2CInactive%2CTestimonySubmissionId%2CHearingDate%2CLDNumber%2CRequest%2CCommitteeTestimonyDocumentContents: Unterminated string starting at: line 1 column 1749691 (char 1749690)\n",
      "Fetching Data:  55%|█████▌    | 3223/5832 [04:30<43:54,  1.01s/query]ERROR:root:Error fetching https://legislature.maine.gov/backend/breeze/data/CommitteeTestimony?%24filter=%28%28%28Request%2FPaperNumber+eq+%27HP0041%27%29+and+%28Request%2FLegislature+eq+126%29%29+and+%28Inactive+ne+true%29%29+and+%28not+%28startswith%28LastName%2C+%27%40%27%29+eq+true%29%29&%24orderby=LastName%2CFirstName%2COrganization&%24expand=Request&%24select=Id%2CSourceDocument%2CRequestId%2CFileType%2CFileSize%2CNamePrefix%2CFirstName%2CLastName%2CNameSuffix%2COrganization%2CPresentedDate%2CPolicyArea%2CTopic%2CCreated%2CCreatedBy%2CLastEdited%2CLastEditedBy%2CPrivate%2CInactive%2CTestimonySubmissionId%2CHearingDate%2CLDNumber%2CRequest%2CCommitteeTestimonyDocumentContents: Unterminated string starting at: line 1 column 1660919 (char 1660918)\n",
      "Fetching Data:  56%|█████▌    | 3237/5832 [04:41<20:39,  2.09query/s]  ERROR:root:Error fetching https://legislature.maine.gov/backend/breeze/data/CommitteeTestimony?%24filter=%28%28%28Request%2FPaperNumber+eq+%27HP0136%27%29+and+%28Request%2FLegislature+eq+126%29%29+and+%28Inactive+ne+true%29%29+and+%28not+%28startswith%28LastName%2C+%27%40%27%29+eq+true%29%29&%24orderby=LastName%2CFirstName%2COrganization&%24expand=Request&%24select=Id%2CSourceDocument%2CRequestId%2CFileType%2CFileSize%2CNamePrefix%2CFirstName%2CLastName%2CNameSuffix%2COrganization%2CPresentedDate%2CPolicyArea%2CTopic%2CCreated%2CCreatedBy%2CLastEdited%2CLastEditedBy%2CPrivate%2CInactive%2CTestimonySubmissionId%2CHearingDate%2CLDNumber%2CRequest%2CCommitteeTestimonyDocumentContents: Unterminated string starting at: line 1 column 330868 (char 330867)\n",
      "ERROR:root:Error fetching https://legislature.maine.gov/backend/breeze/data/CommitteeTestimony?%24filter=%28%28%28Request%2FPaperNumber+eq+%27HP0136%27%29+and+%28Request%2FLegislature+eq+126%29%29+and+%28Inactive+ne+true%29%29+and+%28not+%28startswith%28LastName%2C+%27%40%27%29+eq+true%29%29&%24orderby=LastName%2CFirstName%2COrganization&%24expand=Request&%24select=Id%2CSourceDocument%2CRequestId%2CFileType%2CFileSize%2CNamePrefix%2CFirstName%2CLastName%2CNameSuffix%2COrganization%2CPresentedDate%2CPolicyArea%2CTopic%2CCreated%2CCreatedBy%2CLastEdited%2CLastEditedBy%2CPrivate%2CInactive%2CTestimonySubmissionId%2CHearingDate%2CLDNumber%2CRequest%2CCommitteeTestimonyDocumentContents: Unterminated string starting at: line 1 column 330868 (char 330867)\n",
      "Fetching Data:  56%|█████▌    | 3239/5832 [04:45<44:13,  1.02s/query]ERROR:root:Error fetching https://legislature.maine.gov/backend/breeze/data/CommitteeTestimony?%24filter=%28%28%28Request%2FPaperNumber+eq+%27HP0136%27%29+and+%28Request%2FLegislature+eq+126%29%29+and+%28Inactive+ne+true%29%29+and+%28not+%28startswith%28LastName%2C+%27%40%27%29+eq+true%29%29&%24orderby=LastName%2CFirstName%2COrganization&%24expand=Request&%24select=Id%2CSourceDocument%2CRequestId%2CFileType%2CFileSize%2CNamePrefix%2CFirstName%2CLastName%2CNameSuffix%2COrganization%2CPresentedDate%2CPolicyArea%2CTopic%2CCreated%2CCreatedBy%2CLastEdited%2CLastEditedBy%2CPrivate%2CInactive%2CTestimonySubmissionId%2CHearingDate%2CLDNumber%2CRequest%2CCommitteeTestimonyDocumentContents: Unterminated string starting at: line 1 column 4518 (char 4517)\n",
      "ERROR:root:Error fetching https://legislature.maine.gov/backend/breeze/data/CommitteeTestimony?%24filter=%28%28%28Request%2FPaperNumber+eq+%27HP0136%27%29+and+%28Request%2FLegislature+eq+126%29%29+and+%28Inactive+ne+true%29%29+and+%28not+%28startswith%28LastName%2C+%27%40%27%29+eq+true%29%29&%24orderby=LastName%2CFirstName%2COrganization&%24expand=Request&%24select=Id%2CSourceDocument%2CRequestId%2CFileType%2CFileSize%2CNamePrefix%2CFirstName%2CLastName%2CNameSuffix%2COrganization%2CPresentedDate%2CPolicyArea%2CTopic%2CCreated%2CCreatedBy%2CLastEdited%2CLastEditedBy%2CPrivate%2CInactive%2CTestimonySubmissionId%2CHearingDate%2CLDNumber%2CRequest%2CCommitteeTestimonyDocumentContents: Unterminated string starting at: line 1 column 330868 (char 330867)\n",
      "ERROR:root:Error fetching https://legislature.maine.gov/backend/breeze/data/CommitteeTestimony?%24filter=%28%28%28Request%2FPaperNumber+eq+%27HP0136%27%29+and+%28Request%2FLegislature+eq+126%29%29+and+%28Inactive+ne+true%29%29+and+%28not+%28startswith%28LastName%2C+%27%40%27%29+eq+true%29%29&%24orderby=LastName%2CFirstName%2COrganization&%24expand=Request&%24select=Id%2CSourceDocument%2CRequestId%2CFileType%2CFileSize%2CNamePrefix%2CFirstName%2CLastName%2CNameSuffix%2COrganization%2CPresentedDate%2CPolicyArea%2CTopic%2CCreated%2CCreatedBy%2CLastEdited%2CLastEditedBy%2CPrivate%2CInactive%2CTestimonySubmissionId%2CHearingDate%2CLDNumber%2CRequest%2CCommitteeTestimonyDocumentContents: Unterminated string starting at: line 1 column 330868 (char 330867)\n",
      "ERROR:root:Max retries reached for https://legislature.maine.gov/backend/breeze/data/CommitteeTestimony?%24filter=%28%28%28Request%2FPaperNumber+eq+%27HP0136%27%29+and+%28Request%2FLegislature+eq+126%29%29+and+%28Inactive+ne+true%29%29+and+%28not+%28startswith%28LastName%2C+%27%40%27%29+eq+true%29%29&%24orderby=LastName%2CFirstName%2COrganization&%24expand=Request&%24select=Id%2CSourceDocument%2CRequestId%2CFileType%2CFileSize%2CNamePrefix%2CFirstName%2CLastName%2CNameSuffix%2COrganization%2CPresentedDate%2CPolicyArea%2CTopic%2CCreated%2CCreatedBy%2CLastEdited%2CLastEditedBy%2CPrivate%2CInactive%2CTestimonySubmissionId%2CHearingDate%2CLDNumber%2CRequest%2CCommitteeTestimonyDocumentContents\n",
      "Fetching Data:  56%|█████▌    | 3240/5832 [05:21<6:56:21,  9.64s/query]ERROR:root:Error fetching https://legislature.maine.gov/backend/breeze/data/CommitteeTestimony?%24filter=%28%28%28Request%2FPaperNumber+eq+%27HP0197%27%29+and+%28Request%2FLegislature+eq+126%29%29+and+%28Inactive+ne+true%29%29+and+%28not+%28startswith%28LastName%2C+%27%40%27%29+eq+true%29%29&%24orderby=LastName%2CFirstName%2COrganization&%24expand=Request&%24select=Id%2CSourceDocument%2CRequestId%2CFileType%2CFileSize%2CNamePrefix%2CFirstName%2CLastName%2CNameSuffix%2COrganization%2CPresentedDate%2CPolicyArea%2CTopic%2CCreated%2CCreatedBy%2CLastEdited%2CLastEditedBy%2CPrivate%2CInactive%2CTestimonySubmissionId%2CHearingDate%2CLDNumber%2CRequest%2CCommitteeTestimonyDocumentContents: Unterminated string starting at: line 1 column 4371 (char 4370)\n",
      "Fetching Data:  56%|█████▌    | 3241/5832 [05:26<6:01:07,  8.36s/query]ERROR:root:Error fetching https://legislature.maine.gov/backend/breeze/data/CommitteeTestimony?%24filter=%28%28%28Request%2FPaperNumber+eq+%27HP0207%27%29+and+%28Request%2FLegislature+eq+126%29%29+and+%28Inactive+ne+true%29%29+and+%28not+%28startswith%28LastName%2C+%27%40%27%29+eq+true%29%29&%24orderby=LastName%2CFirstName%2COrganization&%24expand=Request&%24select=Id%2CSourceDocument%2CRequestId%2CFileType%2CFileSize%2CNamePrefix%2CFirstName%2CLastName%2CNameSuffix%2COrganization%2CPresentedDate%2CPolicyArea%2CTopic%2CCreated%2CCreatedBy%2CLastEdited%2CLastEditedBy%2CPrivate%2CInactive%2CTestimonySubmissionId%2CHearingDate%2CLDNumber%2CRequest%2CCommitteeTestimonyDocumentContents: Unterminated string starting at: line 1 column 4353 (char 4352)\n",
      "ERROR:root:Error fetching https://legislature.maine.gov/backend/breeze/data/CommitteeTestimony?%24filter=%28%28%28Request%2FPaperNumber+eq+%27HP0202%27%29+and+%28Request%2FLegislature+eq+126%29%29+and+%28Inactive+ne+true%29%29+and+%28not+%28startswith%28LastName%2C+%27%40%27%29+eq+true%29%29&%24orderby=LastName%2CFirstName%2COrganization&%24expand=Request&%24select=Id%2CSourceDocument%2CRequestId%2CFileType%2CFileSize%2CNamePrefix%2CFirstName%2CLastName%2CNameSuffix%2COrganization%2CPresentedDate%2CPolicyArea%2CTopic%2CCreated%2CCreatedBy%2CLastEdited%2CLastEditedBy%2CPrivate%2CInactive%2CTestimonySubmissionId%2CHearingDate%2CLDNumber%2CRequest%2CCommitteeTestimonyDocumentContents: Unterminated string starting at: line 1 column 333855 (char 333854)\n",
      "Fetching Data:  56%|█████▌    | 3245/5832 [05:29<2:11:30,  3.05s/query]ERROR:root:Error fetching https://legislature.maine.gov/backend/breeze/data/CommitteeTestimony?%24filter=%28%28%28Request%2FPaperNumber+eq+%27HP0243%27%29+and+%28Request%2FLegislature+eq+126%29%29+and+%28Inactive+ne+true%29%29+and+%28not+%28startswith%28LastName%2C+%27%40%27%29+eq+true%29%29&%24orderby=LastName%2CFirstName%2COrganization&%24expand=Request&%24select=Id%2CSourceDocument%2CRequestId%2CFileType%2CFileSize%2CNamePrefix%2CFirstName%2CLastName%2CNameSuffix%2COrganization%2CPresentedDate%2CPolicyArea%2CTopic%2CCreated%2CCreatedBy%2CLastEdited%2CLastEditedBy%2CPrivate%2CInactive%2CTestimonySubmissionId%2CHearingDate%2CLDNumber%2CRequest%2CCommitteeTestimonyDocumentContents: Unterminated string starting at: line 1 column 641937 (char 641936)\n",
      "Fetching Data:  56%|█████▌    | 3247/5832 [05:30<1:19:42,  1.85s/query]ERROR:root:Error fetching https://legislature.maine.gov/backend/breeze/data/CommitteeTestimony?%24filter=%28%28%28Request%2FPaperNumber+eq+%27HP0252%27%29+and+%28Request%2FLegislature+eq+126%29%29+and+%28Inactive+ne+true%29%29+and+%28not+%28startswith%28LastName%2C+%27%40%27%29+eq+true%29%29&%24orderby=LastName%2CFirstName%2COrganization&%24expand=Request&%24select=Id%2CSourceDocument%2CRequestId%2CFileType%2CFileSize%2CNamePrefix%2CFirstName%2CLastName%2CNameSuffix%2COrganization%2CPresentedDate%2CPolicyArea%2CTopic%2CCreated%2CCreatedBy%2CLastEdited%2CLastEditedBy%2CPrivate%2CInactive%2CTestimonySubmissionId%2CHearingDate%2CLDNumber%2CRequest%2CCommitteeTestimonyDocumentContents: Unterminated string starting at: line 1 column 481022 (char 481021)\n",
      "Fetching Data:  56%|█████▌    | 3248/5832 [05:30<1:04:54,  1.51s/query]ERROR:root:Error fetching https://legislature.maine.gov/backend/breeze/data/CommitteeTestimony?%24filter=%28%28%28Request%2FPaperNumber+eq+%27HP0228%27%29+and+%28Request%2FLegislature+eq+126%29%29+and+%28Inactive+ne+true%29%29+and+%28not+%28startswith%28LastName%2C+%27%40%27%29+eq+true%29%29&%24orderby=LastName%2CFirstName%2COrganization&%24expand=Request&%24select=Id%2CSourceDocument%2CRequestId%2CFileType%2CFileSize%2CNamePrefix%2CFirstName%2CLastName%2CNameSuffix%2COrganization%2CPresentedDate%2CPolicyArea%2CTopic%2CCreated%2CCreatedBy%2CLastEdited%2CLastEditedBy%2CPrivate%2CInactive%2CTestimonySubmissionId%2CHearingDate%2CLDNumber%2CRequest%2CCommitteeTestimonyDocumentContents: Unterminated string starting at: line 1 column 565647 (char 565646)\n",
      "Fetching Data:  56%|█████▌    | 3250/5832 [05:31<36:54,  1.17query/s]  ERROR:root:Error fetching https://legislature.maine.gov/backend/breeze/data/CommitteeTestimony?%24filter=%28%28%28Request%2FPaperNumber+eq+%27HP0202%27%29+and+%28Request%2FLegislature+eq+126%29%29+and+%28Inactive+ne+true%29%29+and+%28not+%28startswith%28LastName%2C+%27%40%27%29+eq+true%29%29&%24orderby=LastName%2CFirstName%2COrganization&%24expand=Request&%24select=Id%2CSourceDocument%2CRequestId%2CFileType%2CFileSize%2CNamePrefix%2CFirstName%2CLastName%2CNameSuffix%2COrganization%2CPresentedDate%2CPolicyArea%2CTopic%2CCreated%2CCreatedBy%2CLastEdited%2CLastEditedBy%2CPrivate%2CInactive%2CTestimonySubmissionId%2CHearingDate%2CLDNumber%2CRequest%2CCommitteeTestimonyDocumentContents: Unterminated string starting at: line 1 column 333855 (char 333854)\n",
      "ERROR:root:Error fetching https://legislature.maine.gov/backend/breeze/data/CommitteeTestimony?%24filter=%28%28%28Request%2FPaperNumber+eq+%27HP0252%27%29+and+%28Request%2FLegislature+eq+126%29%29+and+%28Inactive+ne+true%29%29+and+%28not+%28startswith%28LastName%2C+%27%40%27%29+eq+true%29%29&%24orderby=LastName%2CFirstName%2COrganization&%24expand=Request&%24select=Id%2CSourceDocument%2CRequestId%2CFileType%2CFileSize%2CNamePrefix%2CFirstName%2CLastName%2CNameSuffix%2COrganization%2CPresentedDate%2CPolicyArea%2CTopic%2CCreated%2CCreatedBy%2CLastEdited%2CLastEditedBy%2CPrivate%2CInactive%2CTestimonySubmissionId%2CHearingDate%2CLDNumber%2CRequest%2CCommitteeTestimonyDocumentContents: Unterminated string starting at: line 1 column 217771 (char 217770)\n",
      "ERROR:root:Error fetching https://legislature.maine.gov/backend/breeze/data/CommitteeTestimony?%24filter=%28%28%28Request%2FPaperNumber+eq+%27HP0243%27%29+and+%28Request%2FLegislature+eq+126%29%29+and+%28Inactive+ne+true%29%29+and+%28not+%28startswith%28LastName%2C+%27%40%27%29+eq+true%29%29&%24orderby=LastName%2CFirstName%2COrganization&%24expand=Request&%24select=Id%2CSourceDocument%2CRequestId%2CFileType%2CFileSize%2CNamePrefix%2CFirstName%2CLastName%2CNameSuffix%2COrganization%2CPresentedDate%2CPolicyArea%2CTopic%2CCreated%2CCreatedBy%2CLastEdited%2CLastEditedBy%2CPrivate%2CInactive%2CTestimonySubmissionId%2CHearingDate%2CLDNumber%2CRequest%2CCommitteeTestimonyDocumentContents: Unterminated string starting at: line 1 column 766072 (char 766071)\n",
      "ERROR:root:Error fetching https://legislature.maine.gov/backend/breeze/data/CommitteeTestimony?%24filter=%28%28%28Request%2FPaperNumber+eq+%27HP0228%27%29+and+%28Request%2FLegislature+eq+126%29%29+and+%28Inactive+ne+true%29%29+and+%28not+%28startswith%28LastName%2C+%27%40%27%29+eq+true%29%29&%24orderby=LastName%2CFirstName%2COrganization&%24expand=Request&%24select=Id%2CSourceDocument%2CRequestId%2CFileType%2CFileSize%2CNamePrefix%2CFirstName%2CLastName%2CNameSuffix%2COrganization%2CPresentedDate%2CPolicyArea%2CTopic%2CCreated%2CCreatedBy%2CLastEdited%2CLastEditedBy%2CPrivate%2CInactive%2CTestimonySubmissionId%2CHearingDate%2CLDNumber%2CRequest%2CCommitteeTestimonyDocumentContents: Unterminated string starting at: line 1 column 565647 (char 565646)\n",
      "Fetching Data:  56%|█████▌    | 3251/5832 [05:37<1:44:15,  2.42s/query]ERROR:root:Error fetching https://legislature.maine.gov/backend/breeze/data/CommitteeTestimony?%24filter=%28%28%28Request%2FPaperNumber+eq+%27HP0252%27%29+and+%28Request%2FLegislature+eq+126%29%29+and+%28Inactive+ne+true%29%29+and+%28not+%28startswith%28LastName%2C+%27%40%27%29+eq+true%29%29&%24orderby=LastName%2CFirstName%2COrganization&%24expand=Request&%24select=Id%2CSourceDocument%2CRequestId%2CFileType%2CFileSize%2CNamePrefix%2CFirstName%2CLastName%2CNameSuffix%2COrganization%2CPresentedDate%2CPolicyArea%2CTopic%2CCreated%2CCreatedBy%2CLastEdited%2CLastEditedBy%2CPrivate%2CInactive%2CTestimonySubmissionId%2CHearingDate%2CLDNumber%2CRequest%2CCommitteeTestimonyDocumentContents: Unterminated string starting at: line 1 column 578313 (char 578312)\n",
      "ERROR:root:Error fetching https://legislature.maine.gov/backend/breeze/data/CommitteeTestimony?%24filter=%28%28%28Request%2FPaperNumber+eq+%27HP0243%27%29+and+%28Request%2FLegislature+eq+126%29%29+and+%28Inactive+ne+true%29%29+and+%28not+%28startswith%28LastName%2C+%27%40%27%29+eq+true%29%29&%24orderby=LastName%2CFirstName%2COrganization&%24expand=Request&%24select=Id%2CSourceDocument%2CRequestId%2CFileType%2CFileSize%2CNamePrefix%2CFirstName%2CLastName%2CNameSuffix%2COrganization%2CPresentedDate%2CPolicyArea%2CTopic%2CCreated%2CCreatedBy%2CLastEdited%2CLastEditedBy%2CPrivate%2CInactive%2CTestimonySubmissionId%2CHearingDate%2CLDNumber%2CRequest%2CCommitteeTestimonyDocumentContents: Unterminated string starting at: line 1 column 886723 (char 886722)\n",
      "ERROR:root:Error fetching https://legislature.maine.gov/backend/breeze/data/CommitteeTestimony?%24filter=%28%28%28Request%2FPaperNumber+eq+%27HP0202%27%29+and+%28Request%2FLegislature+eq+126%29%29+and+%28Inactive+ne+true%29%29+and+%28not+%28startswith%28LastName%2C+%27%40%27%29+eq+true%29%29&%24orderby=LastName%2CFirstName%2COrganization&%24expand=Request&%24select=Id%2CSourceDocument%2CRequestId%2CFileType%2CFileSize%2CNamePrefix%2CFirstName%2CLastName%2CNameSuffix%2COrganization%2CPresentedDate%2CPolicyArea%2CTopic%2CCreated%2CCreatedBy%2CLastEdited%2CLastEditedBy%2CPrivate%2CInactive%2CTestimonySubmissionId%2CHearingDate%2CLDNumber%2CRequest%2CCommitteeTestimonyDocumentContents: Unterminated string starting at: line 1 column 333855 (char 333854)\n",
      "Fetching Data:  56%|█████▌    | 3252/5832 [05:42<2:18:24,  3.22s/query]ERROR:root:Error fetching https://legislature.maine.gov/backend/breeze/data/CommitteeTestimony?%24filter=%28%28%28Request%2FPaperNumber+eq+%27HP0252%27%29+and+%28Request%2FLegislature+eq+126%29%29+and+%28Inactive+ne+true%29%29+and+%28not+%28startswith%28LastName%2C+%27%40%27%29+eq+true%29%29&%24orderby=LastName%2CFirstName%2COrganization&%24expand=Request&%24select=Id%2CSourceDocument%2CRequestId%2CFileType%2CFileSize%2CNamePrefix%2CFirstName%2CLastName%2CNameSuffix%2COrganization%2CPresentedDate%2CPolicyArea%2CTopic%2CCreated%2CCreatedBy%2CLastEdited%2CLastEditedBy%2CPrivate%2CInactive%2CTestimonySubmissionId%2CHearingDate%2CLDNumber%2CRequest%2CCommitteeTestimonyDocumentContents: Unterminated string starting at: line 1 column 578313 (char 578312)\n",
      "ERROR:root:Error fetching https://legislature.maine.gov/backend/breeze/data/CommitteeTestimony?%24filter=%28%28%28Request%2FPaperNumber+eq+%27HP0243%27%29+and+%28Request%2FLegislature+eq+126%29%29+and+%28Inactive+ne+true%29%29+and+%28not+%28startswith%28LastName%2C+%27%40%27%29+eq+true%29%29&%24orderby=LastName%2CFirstName%2COrganization&%24expand=Request&%24select=Id%2CSourceDocument%2CRequestId%2CFileType%2CFileSize%2CNamePrefix%2CFirstName%2CLastName%2CNameSuffix%2COrganization%2CPresentedDate%2CPolicyArea%2CTopic%2CCreated%2CCreatedBy%2CLastEdited%2CLastEditedBy%2CPrivate%2CInactive%2CTestimonySubmissionId%2CHearingDate%2CLDNumber%2CRequest%2CCommitteeTestimonyDocumentContents: Unterminated string starting at: line 1 column 1398002 (char 1398001)\n",
      "ERROR:root:Error fetching https://legislature.maine.gov/backend/breeze/data/CommitteeTestimony?%24filter=%28%28%28Request%2FPaperNumber+eq+%27HP0202%27%29+and+%28Request%2FLegislature+eq+126%29%29+and+%28Inactive+ne+true%29%29+and+%28not+%28startswith%28LastName%2C+%27%40%27%29+eq+true%29%29&%24orderby=LastName%2CFirstName%2COrganization&%24expand=Request&%24select=Id%2CSourceDocument%2CRequestId%2CFileType%2CFileSize%2CNamePrefix%2CFirstName%2CLastName%2CNameSuffix%2COrganization%2CPresentedDate%2CPolicyArea%2CTopic%2CCreated%2CCreatedBy%2CLastEdited%2CLastEditedBy%2CPrivate%2CInactive%2CTestimonySubmissionId%2CHearingDate%2CLDNumber%2CRequest%2CCommitteeTestimonyDocumentContents: Unterminated string starting at: line 1 column 1542484 (char 1542483)\n",
      "ERROR:root:Error fetching https://legislature.maine.gov/backend/breeze/data/CommitteeTestimony?%24filter=%28%28%28Request%2FPaperNumber+eq+%27HP0202%27%29+and+%28Request%2FLegislature+eq+126%29%29+and+%28Inactive+ne+true%29%29+and+%28not+%28startswith%28LastName%2C+%27%40%27%29+eq+true%29%29&%24orderby=LastName%2CFirstName%2COrganization&%24expand=Request&%24select=Id%2CSourceDocument%2CRequestId%2CFileType%2CFileSize%2CNamePrefix%2CFirstName%2CLastName%2CNameSuffix%2COrganization%2CPresentedDate%2CPolicyArea%2CTopic%2CCreated%2CCreatedBy%2CLastEdited%2CLastEditedBy%2CPrivate%2CInactive%2CTestimonySubmissionId%2CHearingDate%2CLDNumber%2CRequest%2CCommitteeTestimonyDocumentContents: Unterminated string starting at: line 1 column 333855 (char 333854)\n",
      "Fetching Data:  56%|█████▌    | 3253/5832 [05:56<4:28:24,  6.24s/query]ERROR:root:Error fetching https://legislature.maine.gov/backend/breeze/data/CommitteeTestimony?%24filter=%28%28%28Request%2FPaperNumber+eq+%27HP0252%27%29+and+%28Request%2FLegislature+eq+126%29%29+and+%28Inactive+ne+true%29%29+and+%28not+%28startswith%28LastName%2C+%27%40%27%29+eq+true%29%29&%24orderby=LastName%2CFirstName%2COrganization&%24expand=Request&%24select=Id%2CSourceDocument%2CRequestId%2CFileType%2CFileSize%2CNamePrefix%2CFirstName%2CLastName%2CNameSuffix%2COrganization%2CPresentedDate%2CPolicyArea%2CTopic%2CCreated%2CCreatedBy%2CLastEdited%2CLastEditedBy%2CPrivate%2CInactive%2CTestimonySubmissionId%2CHearingDate%2CLDNumber%2CRequest%2CCommitteeTestimonyDocumentContents: Unterminated string starting at: line 1 column 578313 (char 578312)\n",
      "ERROR:root:Max retries reached for https://legislature.maine.gov/backend/breeze/data/CommitteeTestimony?%24filter=%28%28%28Request%2FPaperNumber+eq+%27HP0202%27%29+and+%28Request%2FLegislature+eq+126%29%29+and+%28Inactive+ne+true%29%29+and+%28not+%28startswith%28LastName%2C+%27%40%27%29+eq+true%29%29&%24orderby=LastName%2CFirstName%2COrganization&%24expand=Request&%24select=Id%2CSourceDocument%2CRequestId%2CFileType%2CFileSize%2CNamePrefix%2CFirstName%2CLastName%2CNameSuffix%2COrganization%2CPresentedDate%2CPolicyArea%2CTopic%2CCreated%2CCreatedBy%2CLastEdited%2CLastEditedBy%2CPrivate%2CInactive%2CTestimonySubmissionId%2CHearingDate%2CLDNumber%2CRequest%2CCommitteeTestimonyDocumentContents\n",
      "Fetching Data:  56%|█████▌    | 3254/5832 [06:11<6:28:20,  9.04s/query]ERROR:root:Max retries reached for https://legislature.maine.gov/backend/breeze/data/CommitteeTestimony?%24filter=%28%28%28Request%2FPaperNumber+eq+%27HP0252%27%29+and+%28Request%2FLegislature+eq+126%29%29+and+%28Inactive+ne+true%29%29+and+%28not+%28startswith%28LastName%2C+%27%40%27%29+eq+true%29%29&%24orderby=LastName%2CFirstName%2COrganization&%24expand=Request&%24select=Id%2CSourceDocument%2CRequestId%2CFileType%2CFileSize%2CNamePrefix%2CFirstName%2CLastName%2CNameSuffix%2COrganization%2CPresentedDate%2CPolicyArea%2CTopic%2CCreated%2CCreatedBy%2CLastEdited%2CLastEditedBy%2CPrivate%2CInactive%2CTestimonySubmissionId%2CHearingDate%2CLDNumber%2CRequest%2CCommitteeTestimonyDocumentContents\n",
      "Fetching Data:  56%|█████▌    | 3257/5832 [06:16<3:03:21,  4.27s/query]ERROR:root:Error fetching https://legislature.maine.gov/backend/breeze/data/CommitteeTestimony?%24filter=%28%28%28Request%2FPaperNumber+eq+%27HP0316%27%29+and+%28Request%2FLegislature+eq+126%29%29+and+%28Inactive+ne+true%29%29+and+%28not+%28startswith%28LastName%2C+%27%40%27%29+eq+true%29%29&%24orderby=LastName%2CFirstName%2COrganization&%24expand=Request&%24select=Id%2CSourceDocument%2CRequestId%2CFileType%2CFileSize%2CNamePrefix%2CFirstName%2CLastName%2CNameSuffix%2COrganization%2CPresentedDate%2CPolicyArea%2CTopic%2CCreated%2CCreatedBy%2CLastEdited%2CLastEditedBy%2CPrivate%2CInactive%2CTestimonySubmissionId%2CHearingDate%2CLDNumber%2CRequest%2CCommitteeTestimonyDocumentContents: Unterminated string starting at: line 1 column 65947 (char 65946)\n",
      "Fetching Data:  56%|█████▌    | 3258/5832 [06:18<2:25:37,  3.39s/query]ERROR:root:Error fetching https://legislature.maine.gov/backend/breeze/data/CommitteeTestimony?%24filter=%28%28%28Request%2FPaperNumber+eq+%27HP0276%27%29+and+%28Request%2FLegislature+eq+126%29%29+and+%28Inactive+ne+true%29%29+and+%28not+%28startswith%28LastName%2C+%27%40%27%29+eq+true%29%29&%24orderby=LastName%2CFirstName%2COrganization&%24expand=Request&%24select=Id%2CSourceDocument%2CRequestId%2CFileType%2CFileSize%2CNamePrefix%2CFirstName%2CLastName%2CNameSuffix%2COrganization%2CPresentedDate%2CPolicyArea%2CTopic%2CCreated%2CCreatedBy%2CLastEdited%2CLastEditedBy%2CPrivate%2CInactive%2CTestimonySubmissionId%2CHearingDate%2CLDNumber%2CRequest%2CCommitteeTestimonyDocumentContents: Unterminated string starting at: line 1 column 162049 (char 162048)\n",
      "ERROR:root:Error fetching https://legislature.maine.gov/backend/breeze/data/CommitteeTestimony?%24filter=%28%28%28Request%2FPaperNumber+eq+%27HP0327%27%29+and+%28Request%2FLegislature+eq+126%29%29+and+%28Inactive+ne+true%29%29+and+%28not+%28startswith%28LastName%2C+%27%40%27%29+eq+true%29%29&%24orderby=LastName%2CFirstName%2COrganization&%24expand=Request&%24select=Id%2CSourceDocument%2CRequestId%2CFileType%2CFileSize%2CNamePrefix%2CFirstName%2CLastName%2CNameSuffix%2COrganization%2CPresentedDate%2CPolicyArea%2CTopic%2CCreated%2CCreatedBy%2CLastEdited%2CLastEditedBy%2CPrivate%2CInactive%2CTestimonySubmissionId%2CHearingDate%2CLDNumber%2CRequest%2CCommitteeTestimonyDocumentContents: Unterminated string starting at: line 1 column 4518 (char 4517)\n",
      "ERROR:root:Error fetching https://legislature.maine.gov/backend/breeze/data/CommitteeTestimony?%24filter=%28%28%28Request%2FPaperNumber+eq+%27HP0295%27%29+and+%28Request%2FLegislature+eq+126%29%29+and+%28Inactive+ne+true%29%29+and+%28not+%28startswith%28LastName%2C+%27%40%27%29+eq+true%29%29&%24orderby=LastName%2CFirstName%2COrganization&%24expand=Request&%24select=Id%2CSourceDocument%2CRequestId%2CFileType%2CFileSize%2CNamePrefix%2CFirstName%2CLastName%2CNameSuffix%2COrganization%2CPresentedDate%2CPolicyArea%2CTopic%2CCreated%2CCreatedBy%2CLastEdited%2CLastEditedBy%2CPrivate%2CInactive%2CTestimonySubmissionId%2CHearingDate%2CLDNumber%2CRequest%2CCommitteeTestimonyDocumentContents: Unterminated string starting at: line 1 column 360972 (char 360971)\n",
      "Fetching Data:  56%|█████▌    | 3259/5832 [06:19<1:56:31,  2.72s/query]ERROR:root:Error fetching https://legislature.maine.gov/backend/breeze/data/CommitteeTestimony?%24filter=%28%28%28Request%2FPaperNumber+eq+%27HP0276%27%29+and+%28Request%2FLegislature+eq+126%29%29+and+%28Inactive+ne+true%29%29+and+%28not+%28startswith%28LastName%2C+%27%40%27%29+eq+true%29%29&%24orderby=LastName%2CFirstName%2COrganization&%24expand=Request&%24select=Id%2CSourceDocument%2CRequestId%2CFileType%2CFileSize%2CNamePrefix%2CFirstName%2CLastName%2CNameSuffix%2COrganization%2CPresentedDate%2CPolicyArea%2CTopic%2CCreated%2CCreatedBy%2CLastEdited%2CLastEditedBy%2CPrivate%2CInactive%2CTestimonySubmissionId%2CHearingDate%2CLDNumber%2CRequest%2CCommitteeTestimonyDocumentContents: Status 503\n",
      "Fetching Data:  56%|█████▌    | 3264/5832 [06:20<35:52,  1.19query/s]  ERROR:root:Error fetching https://legislature.maine.gov/backend/breeze/data/CommitteeTestimony?%24filter=%28%28%28Request%2FPaperNumber+eq+%27HP0327%27%29+and+%28Request%2FLegislature+eq+126%29%29+and+%28Inactive+ne+true%29%29+and+%28not+%28startswith%28LastName%2C+%27%40%27%29+eq+true%29%29&%24orderby=LastName%2CFirstName%2COrganization&%24expand=Request&%24select=Id%2CSourceDocument%2CRequestId%2CFileType%2CFileSize%2CNamePrefix%2CFirstName%2CLastName%2CNameSuffix%2COrganization%2CPresentedDate%2CPolicyArea%2CTopic%2CCreated%2CCreatedBy%2CLastEdited%2CLastEditedBy%2CPrivate%2CInactive%2CTestimonySubmissionId%2CHearingDate%2CLDNumber%2CRequest%2CCommitteeTestimonyDocumentContents: Unterminated string starting at: line 1 column 4518 (char 4517)\n",
      "Fetching Data:  56%|█████▌    | 3267/5832 [06:22<27:57,  1.53query/s]ERROR:root:Error fetching https://legislature.maine.gov/backend/breeze/data/CommitteeTestimony?%24filter=%28%28%28Request%2FPaperNumber+eq+%27HP0261%27%29+and+%28Request%2FLegislature+eq+126%29%29+and+%28Inactive+ne+true%29%29+and+%28not+%28startswith%28LastName%2C+%27%40%27%29+eq+true%29%29&%24orderby=LastName%2CFirstName%2COrganization&%24expand=Request&%24select=Id%2CSourceDocument%2CRequestId%2CFileType%2CFileSize%2CNamePrefix%2CFirstName%2CLastName%2CNameSuffix%2COrganization%2CPresentedDate%2CPolicyArea%2CTopic%2CCreated%2CCreatedBy%2CLastEdited%2CLastEditedBy%2CPrivate%2CInactive%2CTestimonySubmissionId%2CHearingDate%2CLDNumber%2CRequest%2CCommitteeTestimonyDocumentContents: Unterminated string starting at: line 1 column 1328995 (char 1328994)\n",
      "Fetching Data:  56%|█████▌    | 3269/5832 [06:25<51:59,  1.22s/query]ERROR:root:Error fetching https://legislature.maine.gov/backend/breeze/data/CommitteeTestimony?%24filter=%28%28%28Request%2FPaperNumber+eq+%27HP0261%27%29+and+%28Request%2FLegislature+eq+126%29%29+and+%28Inactive+ne+true%29%29+and+%28not+%28startswith%28LastName%2C+%27%40%27%29+eq+true%29%29&%24orderby=LastName%2CFirstName%2COrganization&%24expand=Request&%24select=Id%2CSourceDocument%2CRequestId%2CFileType%2CFileSize%2CNamePrefix%2CFirstName%2CLastName%2CNameSuffix%2COrganization%2CPresentedDate%2CPolicyArea%2CTopic%2CCreated%2CCreatedBy%2CLastEdited%2CLastEditedBy%2CPrivate%2CInactive%2CTestimonySubmissionId%2CHearingDate%2CLDNumber%2CRequest%2CCommitteeTestimonyDocumentContents: Unterminated string starting at: line 1 column 1328995 (char 1328994)\n",
      "ERROR:root:Error fetching https://legislature.maine.gov/backend/breeze/data/CommitteeTestimony?%24filter=%28%28%28Request%2FPaperNumber+eq+%27HP0261%27%29+and+%28Request%2FLegislature+eq+126%29%29+and+%28Inactive+ne+true%29%29+and+%28not+%28startswith%28LastName%2C+%27%40%27%29+eq+true%29%29&%24orderby=LastName%2CFirstName%2COrganization&%24expand=Request&%24select=Id%2CSourceDocument%2CRequestId%2CFileType%2CFileSize%2CNamePrefix%2CFirstName%2CLastName%2CNameSuffix%2COrganization%2CPresentedDate%2CPolicyArea%2CTopic%2CCreated%2CCreatedBy%2CLastEdited%2CLastEditedBy%2CPrivate%2CInactive%2CTestimonySubmissionId%2CHearingDate%2CLDNumber%2CRequest%2CCommitteeTestimonyDocumentContents: Unterminated string starting at: line 1 column 107788 (char 107787)\n",
      "ERROR:root:Error fetching https://legislature.maine.gov/backend/breeze/data/CommitteeTestimony?%24filter=%28%28%28Request%2FPaperNumber+eq+%27HP0261%27%29+and+%28Request%2FLegislature+eq+126%29%29+and+%28Inactive+ne+true%29%29+and+%28not+%28startswith%28LastName%2C+%27%40%27%29+eq+true%29%29&%24orderby=LastName%2CFirstName%2COrganization&%24expand=Request&%24select=Id%2CSourceDocument%2CRequestId%2CFileType%2CFileSize%2CNamePrefix%2CFirstName%2CLastName%2CNameSuffix%2COrganization%2CPresentedDate%2CPolicyArea%2CTopic%2CCreated%2CCreatedBy%2CLastEdited%2CLastEditedBy%2CPrivate%2CInactive%2CTestimonySubmissionId%2CHearingDate%2CLDNumber%2CRequest%2CCommitteeTestimonyDocumentContents: Unterminated string starting at: line 1 column 107788 (char 107787)\n",
      "Fetching Data:  56%|█████▌    | 3272/5832 [06:53<3:37:38,  5.10s/query]ERROR:root:Error fetching https://legislature.maine.gov/backend/breeze/data/CommitteeTestimony?%24filter=%28%28%28Request%2FPaperNumber+eq+%27HP0347%27%29+and+%28Request%2FLegislature+eq+126%29%29+and+%28Inactive+ne+true%29%29+and+%28not+%28startswith%28LastName%2C+%27%40%27%29+eq+true%29%29&%24orderby=LastName%2CFirstName%2COrganization&%24expand=Request&%24select=Id%2CSourceDocument%2CRequestId%2CFileType%2CFileSize%2CNamePrefix%2CFirstName%2CLastName%2CNameSuffix%2COrganization%2CPresentedDate%2CPolicyArea%2CTopic%2CCreated%2CCreatedBy%2CLastEdited%2CLastEditedBy%2CPrivate%2CInactive%2CTestimonySubmissionId%2CHearingDate%2CLDNumber%2CRequest%2CCommitteeTestimonyDocumentContents: Unterminated string starting at: line 1 column 122038 (char 122037)\n",
      "ERROR:root:Error fetching https://legislature.maine.gov/backend/breeze/data/CommitteeTestimony?%24filter=%28%28%28Request%2FPaperNumber+eq+%27HP0341%27%29+and+%28Request%2FLegislature+eq+126%29%29+and+%28Inactive+ne+true%29%29+and+%28not+%28startswith%28LastName%2C+%27%40%27%29+eq+true%29%29&%24orderby=LastName%2CFirstName%2COrganization&%24expand=Request&%24select=Id%2CSourceDocument%2CRequestId%2CFileType%2CFileSize%2CNamePrefix%2CFirstName%2CLastName%2CNameSuffix%2COrganization%2CPresentedDate%2CPolicyArea%2CTopic%2CCreated%2CCreatedBy%2CLastEdited%2CLastEditedBy%2CPrivate%2CInactive%2CTestimonySubmissionId%2CHearingDate%2CLDNumber%2CRequest%2CCommitteeTestimonyDocumentContents: Unterminated string starting at: line 1 column 101388 (char 101387)\n",
      "ERROR:root:Error fetching https://legislature.maine.gov/backend/breeze/data/CommitteeTestimony?%24filter=%28%28%28Request%2FPaperNumber+eq+%27HP0353%27%29+and+%28Request%2FLegislature+eq+126%29%29+and+%28Inactive+ne+true%29%29+and+%28not+%28startswith%28LastName%2C+%27%40%27%29+eq+true%29%29&%24orderby=LastName%2CFirstName%2COrganization&%24expand=Request&%24select=Id%2CSourceDocument%2CRequestId%2CFileType%2CFileSize%2CNamePrefix%2CFirstName%2CLastName%2CNameSuffix%2COrganization%2CPresentedDate%2CPolicyArea%2CTopic%2CCreated%2CCreatedBy%2CLastEdited%2CLastEditedBy%2CPrivate%2CInactive%2CTestimonySubmissionId%2CHearingDate%2CLDNumber%2CRequest%2CCommitteeTestimonyDocumentContents: Unterminated string starting at: line 1 column 159797 (char 159796)\n",
      "Fetching Data:  56%|█████▌    | 3274/5832 [06:54<1:58:11,  2.77s/query]ERROR:root:Error fetching https://legislature.maine.gov/backend/breeze/data/CommitteeTestimony?%24filter=%28%28%28Request%2FPaperNumber+eq+%27HP0357%27%29+and+%28Request%2FLegislature+eq+126%29%29+and+%28Inactive+ne+true%29%29+and+%28not+%28startswith%28LastName%2C+%27%40%27%29+eq+true%29%29&%24orderby=LastName%2CFirstName%2COrganization&%24expand=Request&%24select=Id%2CSourceDocument%2CRequestId%2CFileType%2CFileSize%2CNamePrefix%2CFirstName%2CLastName%2CNameSuffix%2COrganization%2CPresentedDate%2CPolicyArea%2CTopic%2CCreated%2CCreatedBy%2CLastEdited%2CLastEditedBy%2CPrivate%2CInactive%2CTestimonySubmissionId%2CHearingDate%2CLDNumber%2CRequest%2CCommitteeTestimonyDocumentContents: Unterminated string starting at: line 1 column 4495 (char 4494)\n",
      "Fetching Data:  56%|█████▌    | 3275/5832 [06:55<1:28:40,  2.08s/query]ERROR:root:Error fetching https://legislature.maine.gov/backend/breeze/data/CommitteeTestimony?%24filter=%28%28%28Request%2FPaperNumber+eq+%27HP0375%27%29+and+%28Request%2FLegislature+eq+126%29%29+and+%28Inactive+ne+true%29%29+and+%28not+%28startswith%28LastName%2C+%27%40%27%29+eq+true%29%29&%24orderby=LastName%2CFirstName%2COrganization&%24expand=Request&%24select=Id%2CSourceDocument%2CRequestId%2CFileType%2CFileSize%2CNamePrefix%2CFirstName%2CLastName%2CNameSuffix%2COrganization%2CPresentedDate%2CPolicyArea%2CTopic%2CCreated%2CCreatedBy%2CLastEdited%2CLastEditedBy%2CPrivate%2CInactive%2CTestimonySubmissionId%2CHearingDate%2CLDNumber%2CRequest%2CCommitteeTestimonyDocumentContents: Unterminated string starting at: line 1 column 180311 (char 180310)\n",
      "ERROR:root:Error fetching https://legislature.maine.gov/backend/breeze/data/CommitteeTestimony?%24filter=%28%28%28Request%2FPaperNumber+eq+%27HP0408%27%29+and+%28Request%2FLegislature+eq+126%29%29+and+%28Inactive+ne+true%29%29+and+%28not+%28startswith%28LastName%2C+%27%40%27%29+eq+true%29%29&%24orderby=LastName%2CFirstName%2COrganization&%24expand=Request&%24select=Id%2CSourceDocument%2CRequestId%2CFileType%2CFileSize%2CNamePrefix%2CFirstName%2CLastName%2CNameSuffix%2COrganization%2CPresentedDate%2CPolicyArea%2CTopic%2CCreated%2CCreatedBy%2CLastEdited%2CLastEditedBy%2CPrivate%2CInactive%2CTestimonySubmissionId%2CHearingDate%2CLDNumber%2CRequest%2CCommitteeTestimonyDocumentContents: Unterminated string starting at: line 1 column 159768 (char 159767)\n",
      "Fetching Data:  56%|█████▌    | 3279/5832 [06:57<44:59,  1.06s/query]  ERROR:root:Error fetching https://legislature.maine.gov/backend/breeze/data/CommitteeTestimony?%24filter=%28%28%28Request%2FPaperNumber+eq+%27HP0341%27%29+and+%28Request%2FLegislature+eq+126%29%29+and+%28Inactive+ne+true%29%29+and+%28not+%28startswith%28LastName%2C+%27%40%27%29+eq+true%29%29&%24orderby=LastName%2CFirstName%2COrganization&%24expand=Request&%24select=Id%2CSourceDocument%2CRequestId%2CFileType%2CFileSize%2CNamePrefix%2CFirstName%2CLastName%2CNameSuffix%2COrganization%2CPresentedDate%2CPolicyArea%2CTopic%2CCreated%2CCreatedBy%2CLastEdited%2CLastEditedBy%2CPrivate%2CInactive%2CTestimonySubmissionId%2CHearingDate%2CLDNumber%2CRequest%2CCommitteeTestimonyDocumentContents: Unterminated string starting at: line 1 column 1219807 (char 1219806)\n",
      "ERROR:root:Error fetching https://legislature.maine.gov/backend/breeze/data/CommitteeTestimony?%24filter=%28%28%28Request%2FPaperNumber+eq+%27HP0357%27%29+and+%28Request%2FLegislature+eq+126%29%29+and+%28Inactive+ne+true%29%29+and+%28not+%28startswith%28LastName%2C+%27%40%27%29+eq+true%29%29&%24orderby=LastName%2CFirstName%2COrganization&%24expand=Request&%24select=Id%2CSourceDocument%2CRequestId%2CFileType%2CFileSize%2CNamePrefix%2CFirstName%2CLastName%2CNameSuffix%2COrganization%2CPresentedDate%2CPolicyArea%2CTopic%2CCreated%2CCreatedBy%2CLastEdited%2CLastEditedBy%2CPrivate%2CInactive%2CTestimonySubmissionId%2CHearingDate%2CLDNumber%2CRequest%2CCommitteeTestimonyDocumentContents: Unterminated string starting at: line 1 column 4495 (char 4494)\n",
      "ERROR:root:Error fetching https://legislature.maine.gov/backend/breeze/data/CommitteeTestimony?%24filter=%28%28%28Request%2FPaperNumber+eq+%27HP0408%27%29+and+%28Request%2FLegislature+eq+126%29%29+and+%28Inactive+ne+true%29%29+and+%28not+%28startswith%28LastName%2C+%27%40%27%29+eq+true%29%29&%24orderby=LastName%2CFirstName%2COrganization&%24expand=Request&%24select=Id%2CSourceDocument%2CRequestId%2CFileType%2CFileSize%2CNamePrefix%2CFirstName%2CLastName%2CNameSuffix%2COrganization%2CPresentedDate%2CPolicyArea%2CTopic%2CCreated%2CCreatedBy%2CLastEdited%2CLastEditedBy%2CPrivate%2CInactive%2CTestimonySubmissionId%2CHearingDate%2CLDNumber%2CRequest%2CCommitteeTestimonyDocumentContents: Unterminated string starting at: line 1 column 616019 (char 616018)\n",
      "Fetching Data:  56%|█████▋    | 3282/5832 [07:03<55:38,  1.31s/query]  ERROR:root:Error fetching https://legislature.maine.gov/backend/breeze/data/CommitteeTestimony?%24filter=%28%28%28Request%2FPaperNumber+eq+%27HP0357%27%29+and+%28Request%2FLegislature+eq+126%29%29+and+%28Inactive+ne+true%29%29+and+%28not+%28startswith%28LastName%2C+%27%40%27%29+eq+true%29%29&%24orderby=LastName%2CFirstName%2COrganization&%24expand=Request&%24select=Id%2CSourceDocument%2CRequestId%2CFileType%2CFileSize%2CNamePrefix%2CFirstName%2CLastName%2CNameSuffix%2COrganization%2CPresentedDate%2CPolicyArea%2CTopic%2CCreated%2CCreatedBy%2CLastEdited%2CLastEditedBy%2CPrivate%2CInactive%2CTestimonySubmissionId%2CHearingDate%2CLDNumber%2CRequest%2CCommitteeTestimonyDocumentContents: Unterminated string starting at: line 1 column 4495 (char 4494)\n",
      "Fetching Data:  56%|█████▋    | 3284/5832 [07:06<1:00:58,  1.44s/query]ERROR:root:Error fetching https://legislature.maine.gov/backend/breeze/data/CommitteeTestimony?%24filter=%28%28%28Request%2FPaperNumber+eq+%27HP0357%27%29+and+%28Request%2FLegislature+eq+126%29%29+and+%28Inactive+ne+true%29%29+and+%28not+%28startswith%28LastName%2C+%27%40%27%29+eq+true%29%29&%24orderby=LastName%2CFirstName%2COrganization&%24expand=Request&%24select=Id%2CSourceDocument%2CRequestId%2CFileType%2CFileSize%2CNamePrefix%2CFirstName%2CLastName%2CNameSuffix%2COrganization%2CPresentedDate%2CPolicyArea%2CTopic%2CCreated%2CCreatedBy%2CLastEdited%2CLastEditedBy%2CPrivate%2CInactive%2CTestimonySubmissionId%2CHearingDate%2CLDNumber%2CRequest%2CCommitteeTestimonyDocumentContents: Unterminated string starting at: line 1 column 4495 (char 4494)\n",
      "ERROR:root:Error fetching https://legislature.maine.gov/backend/breeze/data/CommitteeTestimony?%24filter=%28%28%28Request%2FPaperNumber+eq+%27HP0357%27%29+and+%28Request%2FLegislature+eq+126%29%29+and+%28Inactive+ne+true%29%29+and+%28not+%28startswith%28LastName%2C+%27%40%27%29+eq+true%29%29&%24orderby=LastName%2CFirstName%2COrganization&%24expand=Request&%24select=Id%2CSourceDocument%2CRequestId%2CFileType%2CFileSize%2CNamePrefix%2CFirstName%2CLastName%2CNameSuffix%2COrganization%2CPresentedDate%2CPolicyArea%2CTopic%2CCreated%2CCreatedBy%2CLastEdited%2CLastEditedBy%2CPrivate%2CInactive%2CTestimonySubmissionId%2CHearingDate%2CLDNumber%2CRequest%2CCommitteeTestimonyDocumentContents: Unterminated string starting at: line 1 column 4495 (char 4494)\n",
      "ERROR:root:Max retries reached for https://legislature.maine.gov/backend/breeze/data/CommitteeTestimony?%24filter=%28%28%28Request%2FPaperNumber+eq+%27HP0357%27%29+and+%28Request%2FLegislature+eq+126%29%29+and+%28Inactive+ne+true%29%29+and+%28not+%28startswith%28LastName%2C+%27%40%27%29+eq+true%29%29&%24orderby=LastName%2CFirstName%2COrganization&%24expand=Request&%24select=Id%2CSourceDocument%2CRequestId%2CFileType%2CFileSize%2CNamePrefix%2CFirstName%2CLastName%2CNameSuffix%2COrganization%2CPresentedDate%2CPolicyArea%2CTopic%2CCreated%2CCreatedBy%2CLastEdited%2CLastEditedBy%2CPrivate%2CInactive%2CTestimonySubmissionId%2CHearingDate%2CLDNumber%2CRequest%2CCommitteeTestimonyDocumentContents\n",
      "Fetching Data:  56%|█████▋    | 3287/5832 [07:42<4:06:54,  5.82s/query]ERROR:root:Error fetching https://legislature.maine.gov/backend/breeze/data/CommitteeTestimony?%24filter=%28%28%28Request%2FPaperNumber+eq+%27HP0427%27%29+and+%28Request%2FLegislature+eq+126%29%29+and+%28Inactive+ne+true%29%29+and+%28not+%28startswith%28LastName%2C+%27%40%27%29+eq+true%29%29&%24orderby=LastName%2CFirstName%2COrganization&%24expand=Request&%24select=Id%2CSourceDocument%2CRequestId%2CFileType%2CFileSize%2CNamePrefix%2CFirstName%2CLastName%2CNameSuffix%2COrganization%2CPresentedDate%2CPolicyArea%2CTopic%2CCreated%2CCreatedBy%2CLastEdited%2CLastEditedBy%2CPrivate%2CInactive%2CTestimonySubmissionId%2CHearingDate%2CLDNumber%2CRequest%2CCommitteeTestimonyDocumentContents: Unterminated string starting at: line 1 column 139331 (char 139330)\n",
      "Fetching Data:  56%|█████▋    | 3289/5832 [07:44<2:23:06,  3.38s/query]ERROR:root:Error fetching https://legislature.maine.gov/backend/breeze/data/CommitteeTestimony?%24filter=%28%28%28Request%2FPaperNumber+eq+%27HP0463%27%29+and+%28Request%2FLegislature+eq+126%29%29+and+%28Inactive+ne+true%29%29+and+%28not+%28startswith%28LastName%2C+%27%40%27%29+eq+true%29%29&%24orderby=LastName%2CFirstName%2COrganization&%24expand=Request&%24select=Id%2CSourceDocument%2CRequestId%2CFileType%2CFileSize%2CNamePrefix%2CFirstName%2CLastName%2CNameSuffix%2COrganization%2CPresentedDate%2CPolicyArea%2CTopic%2CCreated%2CCreatedBy%2CLastEdited%2CLastEditedBy%2CPrivate%2CInactive%2CTestimonySubmissionId%2CHearingDate%2CLDNumber%2CRequest%2CCommitteeTestimonyDocumentContents: Unterminated string starting at: line 1 column 378546 (char 378545)\n",
      "ERROR:root:Error fetching https://legislature.maine.gov/backend/breeze/data/CommitteeTestimony?%24filter=%28%28%28Request%2FPaperNumber+eq+%27HP0473%27%29+and+%28Request%2FLegislature+eq+126%29%29+and+%28Inactive+ne+true%29%29+and+%28not+%28startswith%28LastName%2C+%27%40%27%29+eq+true%29%29&%24orderby=LastName%2CFirstName%2COrganization&%24expand=Request&%24select=Id%2CSourceDocument%2CRequestId%2CFileType%2CFileSize%2CNamePrefix%2CFirstName%2CLastName%2CNameSuffix%2COrganization%2CPresentedDate%2CPolicyArea%2CTopic%2CCreated%2CCreatedBy%2CLastEdited%2CLastEditedBy%2CPrivate%2CInactive%2CTestimonySubmissionId%2CHearingDate%2CLDNumber%2CRequest%2CCommitteeTestimonyDocumentContents: Unterminated string starting at: line 1 column 330598 (char 330597)\n",
      "Fetching Data:  56%|█████▋    | 3295/5832 [07:45<30:26,  1.39query/s]  ERROR:root:Error fetching https://legislature.maine.gov/backend/breeze/data/CommitteeTestimony?%24filter=%28%28%28Request%2FPaperNumber+eq+%27HP0452%27%29+and+%28Request%2FLegislature+eq+126%29%29+and+%28Inactive+ne+true%29%29+and+%28not+%28startswith%28LastName%2C+%27%40%27%29+eq+true%29%29&%24orderby=LastName%2CFirstName%2COrganization&%24expand=Request&%24select=Id%2CSourceDocument%2CRequestId%2CFileType%2CFileSize%2CNamePrefix%2CFirstName%2CLastName%2CNameSuffix%2COrganization%2CPresentedDate%2CPolicyArea%2CTopic%2CCreated%2CCreatedBy%2CLastEdited%2CLastEditedBy%2CPrivate%2CInactive%2CTestimonySubmissionId%2CHearingDate%2CLDNumber%2CRequest%2CCommitteeTestimonyDocumentContents: Unterminated string starting at: line 1 column 2580350 (char 2580349)\n",
      "ERROR:root:Error fetching https://legislature.maine.gov/backend/breeze/data/CommitteeTestimony?%24filter=%28%28%28Request%2FPaperNumber+eq+%27HP0463%27%29+and+%28Request%2FLegislature+eq+126%29%29+and+%28Inactive+ne+true%29%29+and+%28not+%28startswith%28LastName%2C+%27%40%27%29+eq+true%29%29&%24orderby=LastName%2CFirstName%2COrganization&%24expand=Request&%24select=Id%2CSourceDocument%2CRequestId%2CFileType%2CFileSize%2CNamePrefix%2CFirstName%2CLastName%2CNameSuffix%2COrganization%2CPresentedDate%2CPolicyArea%2CTopic%2CCreated%2CCreatedBy%2CLastEdited%2CLastEditedBy%2CPrivate%2CInactive%2CTestimonySubmissionId%2CHearingDate%2CLDNumber%2CRequest%2CCommitteeTestimonyDocumentContents: Unterminated string starting at: line 1 column 4427 (char 4426)\n",
      "Fetching Data:  57%|█████▋    | 3296/5832 [07:52<1:34:46,  2.24s/query]ERROR:root:Error fetching https://legislature.maine.gov/backend/breeze/data/CommitteeTestimony?%24filter=%28%28%28Request%2FPaperNumber+eq+%27HP0452%27%29+and+%28Request%2FLegislature+eq+126%29%29+and+%28Inactive+ne+true%29%29+and+%28not+%28startswith%28LastName%2C+%27%40%27%29+eq+true%29%29&%24orderby=LastName%2CFirstName%2COrganization&%24expand=Request&%24select=Id%2CSourceDocument%2CRequestId%2CFileType%2CFileSize%2CNamePrefix%2CFirstName%2CLastName%2CNameSuffix%2COrganization%2CPresentedDate%2CPolicyArea%2CTopic%2CCreated%2CCreatedBy%2CLastEdited%2CLastEditedBy%2CPrivate%2CInactive%2CTestimonySubmissionId%2CHearingDate%2CLDNumber%2CRequest%2CCommitteeTestimonyDocumentContents: Unterminated string starting at: line 1 column 1367650 (char 1367649)\n",
      "Fetching Data:  57%|█████▋    | 3297/5832 [07:52<1:18:57,  1.87s/query]ERROR:root:Error fetching https://legislature.maine.gov/backend/breeze/data/CommitteeTestimony?%24filter=%28%28%28Request%2FPaperNumber+eq+%27HP0473%27%29+and+%28Request%2FLegislature+eq+126%29%29+and+%28Inactive+ne+true%29%29+and+%28not+%28startswith%28LastName%2C+%27%40%27%29+eq+true%29%29&%24orderby=LastName%2CFirstName%2COrganization&%24expand=Request&%24select=Id%2CSourceDocument%2CRequestId%2CFileType%2CFileSize%2CNamePrefix%2CFirstName%2CLastName%2CNameSuffix%2COrganization%2CPresentedDate%2CPolicyArea%2CTopic%2CCreated%2CCreatedBy%2CLastEdited%2CLastEditedBy%2CPrivate%2CInactive%2CTestimonySubmissionId%2CHearingDate%2CLDNumber%2CRequest%2CCommitteeTestimonyDocumentContents: Unterminated string starting at: line 1 column 3304922 (char 3304921)\n",
      "ERROR:root:Error fetching https://legislature.maine.gov/backend/breeze/data/CommitteeTestimony?%24filter=%28%28%28Request%2FPaperNumber+eq+%27HP0452%27%29+and+%28Request%2FLegislature+eq+126%29%29+and+%28Inactive+ne+true%29%29+and+%28not+%28startswith%28LastName%2C+%27%40%27%29+eq+true%29%29&%24orderby=LastName%2CFirstName%2COrganization&%24expand=Request&%24select=Id%2CSourceDocument%2CRequestId%2CFileType%2CFileSize%2CNamePrefix%2CFirstName%2CLastName%2CNameSuffix%2COrganization%2CPresentedDate%2CPolicyArea%2CTopic%2CCreated%2CCreatedBy%2CLastEdited%2CLastEditedBy%2CPrivate%2CInactive%2CTestimonySubmissionId%2CHearingDate%2CLDNumber%2CRequest%2CCommitteeTestimonyDocumentContents: Unterminated string starting at: line 1 column 1412790 (char 1412789)\n",
      "Fetching Data:  57%|█████▋    | 3298/5832 [07:58<2:01:53,  2.89s/query]ERROR:root:Error fetching https://legislature.maine.gov/backend/breeze/data/CommitteeTestimony?%24filter=%28%28%28Request%2FPaperNumber+eq+%27HP0473%27%29+and+%28Request%2FLegislature+eq+126%29%29+and+%28Inactive+ne+true%29%29+and+%28not+%28startswith%28LastName%2C+%27%40%27%29+eq+true%29%29&%24orderby=LastName%2CFirstName%2COrganization&%24expand=Request&%24select=Id%2CSourceDocument%2CRequestId%2CFileType%2CFileSize%2CNamePrefix%2CFirstName%2CLastName%2CNameSuffix%2COrganization%2CPresentedDate%2CPolicyArea%2CTopic%2CCreated%2CCreatedBy%2CLastEdited%2CLastEditedBy%2CPrivate%2CInactive%2CTestimonySubmissionId%2CHearingDate%2CLDNumber%2CRequest%2CCommitteeTestimonyDocumentContents: Unterminated string starting at: line 1 column 3304922 (char 3304921)\n",
      "ERROR:root:Error fetching https://legislature.maine.gov/backend/breeze/data/CommitteeTestimony?%24filter=%28%28%28Request%2FPaperNumber+eq+%27HP0452%27%29+and+%28Request%2FLegislature+eq+126%29%29+and+%28Inactive+ne+true%29%29+and+%28not+%28startswith%28LastName%2C+%27%40%27%29+eq+true%29%29&%24orderby=LastName%2CFirstName%2COrganization&%24expand=Request&%24select=Id%2CSourceDocument%2CRequestId%2CFileType%2CFileSize%2CNamePrefix%2CFirstName%2CLastName%2CNameSuffix%2COrganization%2CPresentedDate%2CPolicyArea%2CTopic%2CCreated%2CCreatedBy%2CLastEdited%2CLastEditedBy%2CPrivate%2CInactive%2CTestimonySubmissionId%2CHearingDate%2CLDNumber%2CRequest%2CCommitteeTestimonyDocumentContents: Unterminated string starting at: line 1 column 1412790 (char 1412789)\n",
      "ERROR:root:Error fetching https://legislature.maine.gov/backend/breeze/data/CommitteeTestimony?%24filter=%28%28%28Request%2FPaperNumber+eq+%27HP0473%27%29+and+%28Request%2FLegislature+eq+126%29%29+and+%28Inactive+ne+true%29%29+and+%28not+%28startswith%28LastName%2C+%27%40%27%29+eq+true%29%29&%24orderby=LastName%2CFirstName%2COrganization&%24expand=Request&%24select=Id%2CSourceDocument%2CRequestId%2CFileType%2CFileSize%2CNamePrefix%2CFirstName%2CLastName%2CNameSuffix%2COrganization%2CPresentedDate%2CPolicyArea%2CTopic%2CCreated%2CCreatedBy%2CLastEdited%2CLastEditedBy%2CPrivate%2CInactive%2CTestimonySubmissionId%2CHearingDate%2CLDNumber%2CRequest%2CCommitteeTestimonyDocumentContents: Unterminated string starting at: line 1 column 1849598 (char 1849597)\n",
      "ERROR:root:Error fetching https://legislature.maine.gov/backend/breeze/data/CommitteeTestimony?%24filter=%28%28%28Request%2FPaperNumber+eq+%27HP0473%27%29+and+%28Request%2FLegislature+eq+126%29%29+and+%28Inactive+ne+true%29%29+and+%28not+%28startswith%28LastName%2C+%27%40%27%29+eq+true%29%29&%24orderby=LastName%2CFirstName%2COrganization&%24expand=Request&%24select=Id%2CSourceDocument%2CRequestId%2CFileType%2CFileSize%2CNamePrefix%2CFirstName%2CLastName%2CNameSuffix%2COrganization%2CPresentedDate%2CPolicyArea%2CTopic%2CCreated%2CCreatedBy%2CLastEdited%2CLastEditedBy%2CPrivate%2CInactive%2CTestimonySubmissionId%2CHearingDate%2CLDNumber%2CRequest%2CCommitteeTestimonyDocumentContents: Unterminated string starting at: line 1 column 1792622 (char 1792621)\n",
      "Fetching Data:  57%|█████▋    | 3299/5832 [08:16<5:06:25,  7.26s/query]ERROR:root:Max retries reached for https://legislature.maine.gov/backend/breeze/data/CommitteeTestimony?%24filter=%28%28%28Request%2FPaperNumber+eq+%27HP0473%27%29+and+%28Request%2FLegislature+eq+126%29%29+and+%28Inactive+ne+true%29%29+and+%28not+%28startswith%28LastName%2C+%27%40%27%29+eq+true%29%29&%24orderby=LastName%2CFirstName%2COrganization&%24expand=Request&%24select=Id%2CSourceDocument%2CRequestId%2CFileType%2CFileSize%2CNamePrefix%2CFirstName%2CLastName%2CNameSuffix%2COrganization%2CPresentedDate%2CPolicyArea%2CTopic%2CCreated%2CCreatedBy%2CLastEdited%2CLastEditedBy%2CPrivate%2CInactive%2CTestimonySubmissionId%2CHearingDate%2CLDNumber%2CRequest%2CCommitteeTestimonyDocumentContents\n",
      "Fetching Data:  57%|█████▋    | 3308/5832 [08:39<55:28,  1.32s/query]  ERROR:root:Error fetching https://legislature.maine.gov/backend/breeze/data/CommitteeTestimony?%24filter=%28%28%28Request%2FPaperNumber+eq+%27HP0507%27%29+and+%28Request%2FLegislature+eq+126%29%29+and+%28Inactive+ne+true%29%29+and+%28not+%28startswith%28LastName%2C+%27%40%27%29+eq+true%29%29&%24orderby=LastName%2CFirstName%2COrganization&%24expand=Request&%24select=Id%2CSourceDocument%2CRequestId%2CFileType%2CFileSize%2CNamePrefix%2CFirstName%2CLastName%2CNameSuffix%2COrganization%2CPresentedDate%2CPolicyArea%2CTopic%2CCreated%2CCreatedBy%2CLastEdited%2CLastEditedBy%2CPrivate%2CInactive%2CTestimonySubmissionId%2CHearingDate%2CLDNumber%2CRequest%2CCommitteeTestimonyDocumentContents: Unterminated string starting at: line 1 column 1550525 (char 1550524)\n",
      "ERROR:root:Error fetching https://legislature.maine.gov/backend/breeze/data/CommitteeTestimony?%24filter=%28%28%28Request%2FPaperNumber+eq+%27HP0553%27%29+and+%28Request%2FLegislature+eq+126%29%29+and+%28Inactive+ne+true%29%29+and+%28not+%28startswith%28LastName%2C+%27%40%27%29+eq+true%29%29&%24orderby=LastName%2CFirstName%2COrganization&%24expand=Request&%24select=Id%2CSourceDocument%2CRequestId%2CFileType%2CFileSize%2CNamePrefix%2CFirstName%2CLastName%2CNameSuffix%2COrganization%2CPresentedDate%2CPolicyArea%2CTopic%2CCreated%2CCreatedBy%2CLastEdited%2CLastEditedBy%2CPrivate%2CInactive%2CTestimonySubmissionId%2CHearingDate%2CLDNumber%2CRequest%2CCommitteeTestimonyDocumentContents: Unterminated string starting at: line 1 column 443954 (char 443953)\n",
      "Fetching Data:  57%|█████▋    | 3309/5832 [08:40<49:51,  1.19s/query]ERROR:root:Error fetching https://legislature.maine.gov/backend/breeze/data/CommitteeTestimony?%24filter=%28%28%28Request%2FPaperNumber+eq+%27HP0540%27%29+and+%28Request%2FLegislature+eq+126%29%29+and+%28Inactive+ne+true%29%29+and+%28not+%28startswith%28LastName%2C+%27%40%27%29+eq+true%29%29&%24orderby=LastName%2CFirstName%2COrganization&%24expand=Request&%24select=Id%2CSourceDocument%2CRequestId%2CFileType%2CFileSize%2CNamePrefix%2CFirstName%2CLastName%2CNameSuffix%2COrganization%2CPresentedDate%2CPolicyArea%2CTopic%2CCreated%2CCreatedBy%2CLastEdited%2CLastEditedBy%2CPrivate%2CInactive%2CTestimonySubmissionId%2CHearingDate%2CLDNumber%2CRequest%2CCommitteeTestimonyDocumentContents: Unterminated string starting at: line 1 column 1702140 (char 1702139)\n",
      "Fetching Data:  57%|█████▋    | 3312/5832 [08:41<32:37,  1.29query/s]ERROR:root:Error fetching https://legislature.maine.gov/backend/breeze/data/CommitteeTestimony?%24filter=%28%28%28Request%2FPaperNumber+eq+%27HP0553%27%29+and+%28Request%2FLegislature+eq+126%29%29+and+%28Inactive+ne+true%29%29+and+%28not+%28startswith%28LastName%2C+%27%40%27%29+eq+true%29%29&%24orderby=LastName%2CFirstName%2COrganization&%24expand=Request&%24select=Id%2CSourceDocument%2CRequestId%2CFileType%2CFileSize%2CNamePrefix%2CFirstName%2CLastName%2CNameSuffix%2COrganization%2CPresentedDate%2CPolicyArea%2CTopic%2CCreated%2CCreatedBy%2CLastEdited%2CLastEditedBy%2CPrivate%2CInactive%2CTestimonySubmissionId%2CHearingDate%2CLDNumber%2CRequest%2CCommitteeTestimonyDocumentContents: Unterminated string starting at: line 1 column 443954 (char 443953)\n",
      "ERROR:root:Error fetching https://legislature.maine.gov/backend/breeze/data/CommitteeTestimony?%24filter=%28%28%28Request%2FPaperNumber+eq+%27HP0507%27%29+and+%28Request%2FLegislature+eq+126%29%29+and+%28Inactive+ne+true%29%29+and+%28not+%28startswith%28LastName%2C+%27%40%27%29+eq+true%29%29&%24orderby=LastName%2CFirstName%2COrganization&%24expand=Request&%24select=Id%2CSourceDocument%2CRequestId%2CFileType%2CFileSize%2CNamePrefix%2CFirstName%2CLastName%2CNameSuffix%2COrganization%2CPresentedDate%2CPolicyArea%2CTopic%2CCreated%2CCreatedBy%2CLastEdited%2CLastEditedBy%2CPrivate%2CInactive%2CTestimonySubmissionId%2CHearingDate%2CLDNumber%2CRequest%2CCommitteeTestimonyDocumentContents: Unterminated string starting at: line 1 column 176153 (char 176152)\n",
      "ERROR:root:Error fetching https://legislature.maine.gov/backend/breeze/data/CommitteeTestimony?%24filter=%28%28%28Request%2FPaperNumber+eq+%27HP0540%27%29+and+%28Request%2FLegislature+eq+126%29%29+and+%28Inactive+ne+true%29%29+and+%28not+%28startswith%28LastName%2C+%27%40%27%29+eq+true%29%29&%24orderby=LastName%2CFirstName%2COrganization&%24expand=Request&%24select=Id%2CSourceDocument%2CRequestId%2CFileType%2CFileSize%2CNamePrefix%2CFirstName%2CLastName%2CNameSuffix%2COrganization%2CPresentedDate%2CPolicyArea%2CTopic%2CCreated%2CCreatedBy%2CLastEdited%2CLastEditedBy%2CPrivate%2CInactive%2CTestimonySubmissionId%2CHearingDate%2CLDNumber%2CRequest%2CCommitteeTestimonyDocumentContents: Unterminated string starting at: line 1 column 179597 (char 179596)\n",
      "ERROR:root:Error fetching https://legislature.maine.gov/backend/breeze/data/CommitteeTestimony?%24filter=%28%28%28Request%2FPaperNumber+eq+%27HP0507%27%29+and+%28Request%2FLegislature+eq+126%29%29+and+%28Inactive+ne+true%29%29+and+%28not+%28startswith%28LastName%2C+%27%40%27%29+eq+true%29%29&%24orderby=LastName%2CFirstName%2COrganization&%24expand=Request&%24select=Id%2CSourceDocument%2CRequestId%2CFileType%2CFileSize%2CNamePrefix%2CFirstName%2CLastName%2CNameSuffix%2COrganization%2CPresentedDate%2CPolicyArea%2CTopic%2CCreated%2CCreatedBy%2CLastEdited%2CLastEditedBy%2CPrivate%2CInactive%2CTestimonySubmissionId%2CHearingDate%2CLDNumber%2CRequest%2CCommitteeTestimonyDocumentContents: Unterminated string starting at: line 1 column 825123 (char 825122)\n",
      "ERROR:root:Error fetching https://legislature.maine.gov/backend/breeze/data/CommitteeTestimony?%24filter=%28%28%28Request%2FPaperNumber+eq+%27HP0540%27%29+and+%28Request%2FLegislature+eq+126%29%29+and+%28Inactive+ne+true%29%29+and+%28not+%28startswith%28LastName%2C+%27%40%27%29+eq+true%29%29&%24orderby=LastName%2CFirstName%2COrganization&%24expand=Request&%24select=Id%2CSourceDocument%2CRequestId%2CFileType%2CFileSize%2CNamePrefix%2CFirstName%2CLastName%2CNameSuffix%2COrganization%2CPresentedDate%2CPolicyArea%2CTopic%2CCreated%2CCreatedBy%2CLastEdited%2CLastEditedBy%2CPrivate%2CInactive%2CTestimonySubmissionId%2CHearingDate%2CLDNumber%2CRequest%2CCommitteeTestimonyDocumentContents: Unterminated string starting at: line 1 column 179597 (char 179596)\n",
      "Fetching Data:  57%|█████▋    | 3313/5832 [08:48<1:35:45,  2.28s/query]ERROR:root:Error fetching https://legislature.maine.gov/backend/breeze/data/CommitteeTestimony?%24filter=%28%28%28Request%2FPaperNumber+eq+%27HP0507%27%29+and+%28Request%2FLegislature+eq+126%29%29+and+%28Inactive+ne+true%29%29+and+%28not+%28startswith%28LastName%2C+%27%40%27%29+eq+true%29%29&%24orderby=LastName%2CFirstName%2COrganization&%24expand=Request&%24select=Id%2CSourceDocument%2CRequestId%2CFileType%2CFileSize%2CNamePrefix%2CFirstName%2CLastName%2CNameSuffix%2COrganization%2CPresentedDate%2CPolicyArea%2CTopic%2CCreated%2CCreatedBy%2CLastEdited%2CLastEditedBy%2CPrivate%2CInactive%2CTestimonySubmissionId%2CHearingDate%2CLDNumber%2CRequest%2CCommitteeTestimonyDocumentContents: Unterminated string starting at: line 1 column 634680 (char 634679)\n",
      "Fetching Data:  57%|█████▋    | 3328/5832 [09:12<12:55,  3.23query/s]  ERROR:root:Error fetching https://legislature.maine.gov/backend/breeze/data/CommitteeTestimony?%24filter=%28%28%28Request%2FPaperNumber+eq+%27HP0652%27%29+and+%28Request%2FLegislature+eq+126%29%29+and+%28Inactive+ne+true%29%29+and+%28not+%28startswith%28LastName%2C+%27%40%27%29+eq+true%29%29&%24orderby=LastName%2CFirstName%2COrganization&%24expand=Request&%24select=Id%2CSourceDocument%2CRequestId%2CFileType%2CFileSize%2CNamePrefix%2CFirstName%2CLastName%2CNameSuffix%2COrganization%2CPresentedDate%2CPolicyArea%2CTopic%2CCreated%2CCreatedBy%2CLastEdited%2CLastEditedBy%2CPrivate%2CInactive%2CTestimonySubmissionId%2CHearingDate%2CLDNumber%2CRequest%2CCommitteeTestimonyDocumentContents: Unterminated string starting at: line 1 column 2329738 (char 2329737)\n",
      "Fetching Data:  57%|█████▋    | 3338/5832 [09:27<24:36,  1.69query/s]  ERROR:root:Error fetching https://legislature.maine.gov/backend/breeze/data/CommitteeTestimony?%24filter=%28%28%28Request%2FPaperNumber+eq+%27HP0691%27%29+and+%28Request%2FLegislature+eq+126%29%29+and+%28Inactive+ne+true%29%29+and+%28not+%28startswith%28LastName%2C+%27%40%27%29+eq+true%29%29&%24orderby=LastName%2CFirstName%2COrganization&%24expand=Request&%24select=Id%2CSourceDocument%2CRequestId%2CFileType%2CFileSize%2CNamePrefix%2CFirstName%2CLastName%2CNameSuffix%2COrganization%2CPresentedDate%2CPolicyArea%2CTopic%2CCreated%2CCreatedBy%2CLastEdited%2CLastEditedBy%2CPrivate%2CInactive%2CTestimonySubmissionId%2CHearingDate%2CLDNumber%2CRequest%2CCommitteeTestimonyDocumentContents: Unterminated string starting at: line 1 column 1243352 (char 1243351)\n",
      "Fetching Data:  57%|█████▋    | 3339/5832 [09:30<44:11,  1.06s/query]ERROR:root:Error fetching https://legislature.maine.gov/backend/breeze/data/CommitteeTestimony?%24filter=%28%28%28Request%2FPaperNumber+eq+%27HP0734%27%29+and+%28Request%2FLegislature+eq+126%29%29+and+%28Inactive+ne+true%29%29+and+%28not+%28startswith%28LastName%2C+%27%40%27%29+eq+true%29%29&%24orderby=LastName%2CFirstName%2COrganization&%24expand=Request&%24select=Id%2CSourceDocument%2CRequestId%2CFileType%2CFileSize%2CNamePrefix%2CFirstName%2CLastName%2CNameSuffix%2COrganization%2CPresentedDate%2CPolicyArea%2CTopic%2CCreated%2CCreatedBy%2CLastEdited%2CLastEditedBy%2CPrivate%2CInactive%2CTestimonySubmissionId%2CHearingDate%2CLDNumber%2CRequest%2CCommitteeTestimonyDocumentContents: Unterminated string starting at: line 1 column 718724 (char 718723)\n",
      "Fetching Data:  57%|█████▋    | 3341/5832 [09:32<40:44,  1.02query/s]ERROR:root:Error fetching https://legislature.maine.gov/backend/breeze/data/CommitteeTestimony?%24filter=%28%28%28Request%2FPaperNumber+eq+%27HP0691%27%29+and+%28Request%2FLegislature+eq+126%29%29+and+%28Inactive+ne+true%29%29+and+%28not+%28startswith%28LastName%2C+%27%40%27%29+eq+true%29%29&%24orderby=LastName%2CFirstName%2COrganization&%24expand=Request&%24select=Id%2CSourceDocument%2CRequestId%2CFileType%2CFileSize%2CNamePrefix%2CFirstName%2CLastName%2CNameSuffix%2COrganization%2CPresentedDate%2CPolicyArea%2CTopic%2CCreated%2CCreatedBy%2CLastEdited%2CLastEditedBy%2CPrivate%2CInactive%2CTestimonySubmissionId%2CHearingDate%2CLDNumber%2CRequest%2CCommitteeTestimonyDocumentContents: Unterminated string starting at: line 1 column 2709628 (char 2709627)\n",
      "ERROR:root:Error fetching https://legislature.maine.gov/backend/breeze/data/CommitteeTestimony?%24filter=%28%28%28Request%2FPaperNumber+eq+%27HP0734%27%29+and+%28Request%2FLegislature+eq+126%29%29+and+%28Inactive+ne+true%29%29+and+%28not+%28startswith%28LastName%2C+%27%40%27%29+eq+true%29%29&%24orderby=LastName%2CFirstName%2COrganization&%24expand=Request&%24select=Id%2CSourceDocument%2CRequestId%2CFileType%2CFileSize%2CNamePrefix%2CFirstName%2CLastName%2CNameSuffix%2COrganization%2CPresentedDate%2CPolicyArea%2CTopic%2CCreated%2CCreatedBy%2CLastEdited%2CLastEditedBy%2CPrivate%2CInactive%2CTestimonySubmissionId%2CHearingDate%2CLDNumber%2CRequest%2CCommitteeTestimonyDocumentContents: Unterminated string starting at: line 1 column 718724 (char 718723)\n",
      "ERROR:root:Error fetching https://legislature.maine.gov/backend/breeze/data/CommitteeTestimony?%24filter=%28%28%28Request%2FPaperNumber+eq+%27HP0691%27%29+and+%28Request%2FLegislature+eq+126%29%29+and+%28Inactive+ne+true%29%29+and+%28not+%28startswith%28LastName%2C+%27%40%27%29+eq+true%29%29&%24orderby=LastName%2CFirstName%2COrganization&%24expand=Request&%24select=Id%2CSourceDocument%2CRequestId%2CFileType%2CFileSize%2CNamePrefix%2CFirstName%2CLastName%2CNameSuffix%2COrganization%2CPresentedDate%2CPolicyArea%2CTopic%2CCreated%2CCreatedBy%2CLastEdited%2CLastEditedBy%2CPrivate%2CInactive%2CTestimonySubmissionId%2CHearingDate%2CLDNumber%2CRequest%2CCommitteeTestimonyDocumentContents: Unterminated string starting at: line 1 column 3437632 (char 3437631)\n",
      "Fetching Data:  57%|█████▋    | 3344/5832 [09:42<1:28:22,  2.13s/query]ERROR:root:Error fetching https://legislature.maine.gov/backend/breeze/data/CommitteeTestimony?%24filter=%28%28%28Request%2FPaperNumber+eq+%27HP0691%27%29+and+%28Request%2FLegislature+eq+126%29%29+and+%28Inactive+ne+true%29%29+and+%28not+%28startswith%28LastName%2C+%27%40%27%29+eq+true%29%29&%24orderby=LastName%2CFirstName%2COrganization&%24expand=Request&%24select=Id%2CSourceDocument%2CRequestId%2CFileType%2CFileSize%2CNamePrefix%2CFirstName%2CLastName%2CNameSuffix%2COrganization%2CPresentedDate%2CPolicyArea%2CTopic%2CCreated%2CCreatedBy%2CLastEdited%2CLastEditedBy%2CPrivate%2CInactive%2CTestimonySubmissionId%2CHearingDate%2CLDNumber%2CRequest%2CCommitteeTestimonyDocumentContents: Unterminated string starting at: line 1 column 2615736 (char 2615735)\n",
      "ERROR:root:Error fetching https://legislature.maine.gov/backend/breeze/data/CommitteeTestimony?%24filter=%28%28%28Request%2FPaperNumber+eq+%27HP0691%27%29+and+%28Request%2FLegislature+eq+126%29%29+and+%28Inactive+ne+true%29%29+and+%28not+%28startswith%28LastName%2C+%27%40%27%29+eq+true%29%29&%24orderby=LastName%2CFirstName%2COrganization&%24expand=Request&%24select=Id%2CSourceDocument%2CRequestId%2CFileType%2CFileSize%2CNamePrefix%2CFirstName%2CLastName%2CNameSuffix%2COrganization%2CPresentedDate%2CPolicyArea%2CTopic%2CCreated%2CCreatedBy%2CLastEdited%2CLastEditedBy%2CPrivate%2CInactive%2CTestimonySubmissionId%2CHearingDate%2CLDNumber%2CRequest%2CCommitteeTestimonyDocumentContents: Unterminated string starting at: line 1 column 3437632 (char 3437631)\n",
      "ERROR:root:Max retries reached for https://legislature.maine.gov/backend/breeze/data/CommitteeTestimony?%24filter=%28%28%28Request%2FPaperNumber+eq+%27HP0691%27%29+and+%28Request%2FLegislature+eq+126%29%29+and+%28Inactive+ne+true%29%29+and+%28not+%28startswith%28LastName%2C+%27%40%27%29+eq+true%29%29&%24orderby=LastName%2CFirstName%2COrganization&%24expand=Request&%24select=Id%2CSourceDocument%2CRequestId%2CFileType%2CFileSize%2CNamePrefix%2CFirstName%2CLastName%2CNameSuffix%2COrganization%2CPresentedDate%2CPolicyArea%2CTopic%2CCreated%2CCreatedBy%2CLastEdited%2CLastEditedBy%2CPrivate%2CInactive%2CTestimonySubmissionId%2CHearingDate%2CLDNumber%2CRequest%2CCommitteeTestimonyDocumentContents\n",
      "Fetching Data:  58%|█████▊    | 3357/5832 [10:20<22:30,  1.83query/s]  ERROR:root:Error fetching https://legislature.maine.gov/backend/breeze/data/CommitteeTestimony?%24filter=%28%28%28Request%2FPaperNumber+eq+%27HP0780%27%29+and+%28Request%2FLegislature+eq+126%29%29+and+%28Inactive+ne+true%29%29+and+%28not+%28startswith%28LastName%2C+%27%40%27%29+eq+true%29%29&%24orderby=LastName%2CFirstName%2COrganization&%24expand=Request&%24select=Id%2CSourceDocument%2CRequestId%2CFileType%2CFileSize%2CNamePrefix%2CFirstName%2CLastName%2CNameSuffix%2COrganization%2CPresentedDate%2CPolicyArea%2CTopic%2CCreated%2CCreatedBy%2CLastEdited%2CLastEditedBy%2CPrivate%2CInactive%2CTestimonySubmissionId%2CHearingDate%2CLDNumber%2CRequest%2CCommitteeTestimonyDocumentContents: Unterminated string starting at: line 1 column 1473246 (char 1473245)\n",
      "Fetching Data:  58%|█████▊    | 3359/5832 [10:23<42:26,  1.03s/query]ERROR:root:Error fetching https://legislature.maine.gov/backend/breeze/data/CommitteeTestimony?%24filter=%28%28%28Request%2FPaperNumber+eq+%27HP0780%27%29+and+%28Request%2FLegislature+eq+126%29%29+and+%28Inactive+ne+true%29%29+and+%28not+%28startswith%28LastName%2C+%27%40%27%29+eq+true%29%29&%24orderby=LastName%2CFirstName%2COrganization&%24expand=Request&%24select=Id%2CSourceDocument%2CRequestId%2CFileType%2CFileSize%2CNamePrefix%2CFirstName%2CLastName%2CNameSuffix%2COrganization%2CPresentedDate%2CPolicyArea%2CTopic%2CCreated%2CCreatedBy%2CLastEdited%2CLastEditedBy%2CPrivate%2CInactive%2CTestimonySubmissionId%2CHearingDate%2CLDNumber%2CRequest%2CCommitteeTestimonyDocumentContents: Unterminated string starting at: line 1 column 1473246 (char 1473245)\n",
      "Fetching Data:  58%|█████▊    | 3368/5832 [10:32<24:00,  1.71query/s]  ERROR:root:Error fetching https://legislature.maine.gov/backend/breeze/data/CommitteeTestimony?%24filter=%28%28%28Request%2FPaperNumber+eq+%27HP0827%27%29+and+%28Request%2FLegislature+eq+126%29%29+and+%28Inactive+ne+true%29%29+and+%28not+%28startswith%28LastName%2C+%27%40%27%29+eq+true%29%29&%24orderby=LastName%2CFirstName%2COrganization&%24expand=Request&%24select=Id%2CSourceDocument%2CRequestId%2CFileType%2CFileSize%2CNamePrefix%2CFirstName%2CLastName%2CNameSuffix%2COrganization%2CPresentedDate%2CPolicyArea%2CTopic%2CCreated%2CCreatedBy%2CLastEdited%2CLastEditedBy%2CPrivate%2CInactive%2CTestimonySubmissionId%2CHearingDate%2CLDNumber%2CRequest%2CCommitteeTestimonyDocumentContents: Unterminated string starting at: line 1 column 1311232 (char 1311231)\n",
      "Fetching Data:  58%|█████▊    | 3372/5832 [10:33<15:17,  2.68query/s]ERROR:root:Error fetching https://legislature.maine.gov/backend/breeze/data/CommitteeTestimony?%24filter=%28%28%28Request%2FPaperNumber+eq+%27HP0827%27%29+and+%28Request%2FLegislature+eq+126%29%29+and+%28Inactive+ne+true%29%29+and+%28not+%28startswith%28LastName%2C+%27%40%27%29+eq+true%29%29&%24orderby=LastName%2CFirstName%2COrganization&%24expand=Request&%24select=Id%2CSourceDocument%2CRequestId%2CFileType%2CFileSize%2CNamePrefix%2CFirstName%2CLastName%2CNameSuffix%2COrganization%2CPresentedDate%2CPolicyArea%2CTopic%2CCreated%2CCreatedBy%2CLastEdited%2CLastEditedBy%2CPrivate%2CInactive%2CTestimonySubmissionId%2CHearingDate%2CLDNumber%2CRequest%2CCommitteeTestimonyDocumentContents: Unterminated string starting at: line 1 column 700152 (char 700151)\n",
      "Fetching Data:  58%|█████▊    | 3376/5832 [10:49<1:51:54,  2.73s/query]ERROR:root:Error fetching https://legislature.maine.gov/backend/breeze/data/CommitteeTestimony?%24filter=%28%28%28Request%2FPaperNumber+eq+%27HP0926%27%29+and+%28Request%2FLegislature+eq+126%29%29+and+%28Inactive+ne+true%29%29+and+%28not+%28startswith%28LastName%2C+%27%40%27%29+eq+true%29%29&%24orderby=LastName%2CFirstName%2COrganization&%24expand=Request&%24select=Id%2CSourceDocument%2CRequestId%2CFileType%2CFileSize%2CNamePrefix%2CFirstName%2CLastName%2CNameSuffix%2COrganization%2CPresentedDate%2CPolicyArea%2CTopic%2CCreated%2CCreatedBy%2CLastEdited%2CLastEditedBy%2CPrivate%2CInactive%2CTestimonySubmissionId%2CHearingDate%2CLDNumber%2CRequest%2CCommitteeTestimonyDocumentContents: Unterminated string starting at: line 1 column 894998 (char 894997)\n",
      "Fetching Data:  58%|█████▊    | 3383/5832 [10:55<45:27,  1.11s/query]  ERROR:root:Error fetching https://legislature.maine.gov/backend/breeze/data/CommitteeTestimony?%24filter=%28%28%28Request%2FPaperNumber+eq+%27HP0926%27%29+and+%28Request%2FLegislature+eq+126%29%29+and+%28Inactive+ne+true%29%29+and+%28not+%28startswith%28LastName%2C+%27%40%27%29+eq+true%29%29&%24orderby=LastName%2CFirstName%2COrganization&%24expand=Request&%24select=Id%2CSourceDocument%2CRequestId%2CFileType%2CFileSize%2CNamePrefix%2CFirstName%2CLastName%2CNameSuffix%2COrganization%2CPresentedDate%2CPolicyArea%2CTopic%2CCreated%2CCreatedBy%2CLastEdited%2CLastEditedBy%2CPrivate%2CInactive%2CTestimonySubmissionId%2CHearingDate%2CLDNumber%2CRequest%2CCommitteeTestimonyDocumentContents: Unterminated string starting at: line 1 column 999302 (char 999301)\n",
      "Fetching Data:  58%|█████▊    | 3384/5832 [10:58<1:02:24,  1.53s/query]ERROR:root:Error fetching https://legislature.maine.gov/backend/breeze/data/CommitteeTestimony?%24filter=%28%28%28Request%2FPaperNumber+eq+%27HP0952%27%29+and+%28Request%2FLegislature+eq+126%29%29+and+%28Inactive+ne+true%29%29+and+%28not+%28startswith%28LastName%2C+%27%40%27%29+eq+true%29%29&%24orderby=LastName%2CFirstName%2COrganization&%24expand=Request&%24select=Id%2CSourceDocument%2CRequestId%2CFileType%2CFileSize%2CNamePrefix%2CFirstName%2CLastName%2CNameSuffix%2COrganization%2CPresentedDate%2CPolicyArea%2CTopic%2CCreated%2CCreatedBy%2CLastEdited%2CLastEditedBy%2CPrivate%2CInactive%2CTestimonySubmissionId%2CHearingDate%2CLDNumber%2CRequest%2CCommitteeTestimonyDocumentContents: Unterminated string starting at: line 1 column 978668 (char 978667)\n",
      "ERROR:root:Error fetching https://legislature.maine.gov/backend/breeze/data/CommitteeTestimony?%24filter=%28%28%28Request%2FPaperNumber+eq+%27HP0973%27%29+and+%28Request%2FLegislature+eq+126%29%29+and+%28Inactive+ne+true%29%29+and+%28not+%28startswith%28LastName%2C+%27%40%27%29+eq+true%29%29&%24orderby=LastName%2CFirstName%2COrganization&%24expand=Request&%24select=Id%2CSourceDocument%2CRequestId%2CFileType%2CFileSize%2CNamePrefix%2CFirstName%2CLastName%2CNameSuffix%2COrganization%2CPresentedDate%2CPolicyArea%2CTopic%2CCreated%2CCreatedBy%2CLastEdited%2CLastEditedBy%2CPrivate%2CInactive%2CTestimonySubmissionId%2CHearingDate%2CLDNumber%2CRequest%2CCommitteeTestimonyDocumentContents: Unterminated string starting at: line 1 column 1976817 (char 1976816)\n",
      "Fetching Data:  58%|█████▊    | 3388/5832 [11:04<52:17,  1.28s/query]  ERROR:root:Error fetching https://legislature.maine.gov/backend/breeze/data/CommitteeTestimony?%24filter=%28%28%28Request%2FPaperNumber+eq+%27HP0973%27%29+and+%28Request%2FLegislature+eq+126%29%29+and+%28Inactive+ne+true%29%29+and+%28not+%28startswith%28LastName%2C+%27%40%27%29+eq+true%29%29&%24orderby=LastName%2CFirstName%2COrganization&%24expand=Request&%24select=Id%2CSourceDocument%2CRequestId%2CFileType%2CFileSize%2CNamePrefix%2CFirstName%2CLastName%2CNameSuffix%2COrganization%2CPresentedDate%2CPolicyArea%2CTopic%2CCreated%2CCreatedBy%2CLastEdited%2CLastEditedBy%2CPrivate%2CInactive%2CTestimonySubmissionId%2CHearingDate%2CLDNumber%2CRequest%2CCommitteeTestimonyDocumentContents: Unterminated string starting at: line 1 column 957294 (char 957293)\n",
      "ERROR:root:Error fetching https://legislature.maine.gov/backend/breeze/data/CommitteeTestimony?%24filter=%28%28%28Request%2FPaperNumber+eq+%27HP0952%27%29+and+%28Request%2FLegislature+eq+126%29%29+and+%28Inactive+ne+true%29%29+and+%28not+%28startswith%28LastName%2C+%27%40%27%29+eq+true%29%29&%24orderby=LastName%2CFirstName%2COrganization&%24expand=Request&%24select=Id%2CSourceDocument%2CRequestId%2CFileType%2CFileSize%2CNamePrefix%2CFirstName%2CLastName%2CNameSuffix%2COrganization%2CPresentedDate%2CPolicyArea%2CTopic%2CCreated%2CCreatedBy%2CLastEdited%2CLastEditedBy%2CPrivate%2CInactive%2CTestimonySubmissionId%2CHearingDate%2CLDNumber%2CRequest%2CCommitteeTestimonyDocumentContents: Unterminated string starting at: line 1 column 2149056 (char 2149055)\n",
      "ERROR:root:Error fetching https://legislature.maine.gov/backend/breeze/data/CommitteeTestimony?%24filter=%28%28%28Request%2FPaperNumber+eq+%27HP0973%27%29+and+%28Request%2FLegislature+eq+126%29%29+and+%28Inactive+ne+true%29%29+and+%28not+%28startswith%28LastName%2C+%27%40%27%29+eq+true%29%29&%24orderby=LastName%2CFirstName%2COrganization&%24expand=Request&%24select=Id%2CSourceDocument%2CRequestId%2CFileType%2CFileSize%2CNamePrefix%2CFirstName%2CLastName%2CNameSuffix%2COrganization%2CPresentedDate%2CPolicyArea%2CTopic%2CCreated%2CCreatedBy%2CLastEdited%2CLastEditedBy%2CPrivate%2CInactive%2CTestimonySubmissionId%2CHearingDate%2CLDNumber%2CRequest%2CCommitteeTestimonyDocumentContents: Unterminated string starting at: line 1 column 2285871 (char 2285870)\n",
      "Fetching Data:  58%|█████▊    | 3389/5832 [11:12<2:11:31,  3.23s/query]ERROR:root:Error fetching https://legislature.maine.gov/backend/breeze/data/CommitteeTestimony?%24filter=%28%28%28Request%2FPaperNumber+eq+%27HP0973%27%29+and+%28Request%2FLegislature+eq+126%29%29+and+%28Inactive+ne+true%29%29+and+%28not+%28startswith%28LastName%2C+%27%40%27%29+eq+true%29%29&%24orderby=LastName%2CFirstName%2COrganization&%24expand=Request&%24select=Id%2CSourceDocument%2CRequestId%2CFileType%2CFileSize%2CNamePrefix%2CFirstName%2CLastName%2CNameSuffix%2COrganization%2CPresentedDate%2CPolicyArea%2CTopic%2CCreated%2CCreatedBy%2CLastEdited%2CLastEditedBy%2CPrivate%2CInactive%2CTestimonySubmissionId%2CHearingDate%2CLDNumber%2CRequest%2CCommitteeTestimonyDocumentContents: Unterminated string starting at: line 1 column 2436480 (char 2436479)\n",
      "ERROR:root:Error fetching https://legislature.maine.gov/backend/breeze/data/CommitteeTestimony?%24filter=%28%28%28Request%2FPaperNumber+eq+%27HP0973%27%29+and+%28Request%2FLegislature+eq+126%29%29+and+%28Inactive+ne+true%29%29+and+%28not+%28startswith%28LastName%2C+%27%40%27%29+eq+true%29%29&%24orderby=LastName%2CFirstName%2COrganization&%24expand=Request&%24select=Id%2CSourceDocument%2CRequestId%2CFileType%2CFileSize%2CNamePrefix%2CFirstName%2CLastName%2CNameSuffix%2COrganization%2CPresentedDate%2CPolicyArea%2CTopic%2CCreated%2CCreatedBy%2CLastEdited%2CLastEditedBy%2CPrivate%2CInactive%2CTestimonySubmissionId%2CHearingDate%2CLDNumber%2CRequest%2CCommitteeTestimonyDocumentContents: Unterminated string starting at: line 1 column 3139878 (char 3139877)\n",
      "ERROR:root:Max retries reached for https://legislature.maine.gov/backend/breeze/data/CommitteeTestimony?%24filter=%28%28%28Request%2FPaperNumber+eq+%27HP0973%27%29+and+%28Request%2FLegislature+eq+126%29%29+and+%28Inactive+ne+true%29%29+and+%28not+%28startswith%28LastName%2C+%27%40%27%29+eq+true%29%29&%24orderby=LastName%2CFirstName%2COrganization&%24expand=Request&%24select=Id%2CSourceDocument%2CRequestId%2CFileType%2CFileSize%2CNamePrefix%2CFirstName%2CLastName%2CNameSuffix%2COrganization%2CPresentedDate%2CPolicyArea%2CTopic%2CCreated%2CCreatedBy%2CLastEdited%2CLastEditedBy%2CPrivate%2CInactive%2CTestimonySubmissionId%2CHearingDate%2CLDNumber%2CRequest%2CCommitteeTestimonyDocumentContents\n",
      "Fetching Data:  58%|█████▊    | 3397/5832 [11:51<1:22:05,  2.02s/query]ERROR:root:Error fetching https://legislature.maine.gov/backend/breeze/data/CommitteeTestimony?%24filter=%28%28%28Request%2FPaperNumber+eq+%27HP1005%27%29+and+%28Request%2FLegislature+eq+126%29%29+and+%28Inactive+ne+true%29%29+and+%28not+%28startswith%28LastName%2C+%27%40%27%29+eq+true%29%29&%24orderby=LastName%2CFirstName%2COrganization&%24expand=Request&%24select=Id%2CSourceDocument%2CRequestId%2CFileType%2CFileSize%2CNamePrefix%2CFirstName%2CLastName%2CNameSuffix%2COrganization%2CPresentedDate%2CPolicyArea%2CTopic%2CCreated%2CCreatedBy%2CLastEdited%2CLastEditedBy%2CPrivate%2CInactive%2CTestimonySubmissionId%2CHearingDate%2CLDNumber%2CRequest%2CCommitteeTestimonyDocumentContents: Unterminated string starting at: line 1 column 1476164 (char 1476163)\n",
      "Fetching Data:  58%|█████▊    | 3399/5832 [11:52<59:07,  1.46s/query]  ERROR:root:Error fetching https://legislature.maine.gov/backend/breeze/data/CommitteeTestimony?%24filter=%28%28%28Request%2FPaperNumber+eq+%27HP0982%27%29+and+%28Request%2FLegislature+eq+126%29%29+and+%28Inactive+ne+true%29%29+and+%28not+%28startswith%28LastName%2C+%27%40%27%29+eq+true%29%29&%24orderby=LastName%2CFirstName%2COrganization&%24expand=Request&%24select=Id%2CSourceDocument%2CRequestId%2CFileType%2CFileSize%2CNamePrefix%2CFirstName%2CLastName%2CNameSuffix%2COrganization%2CPresentedDate%2CPolicyArea%2CTopic%2CCreated%2CCreatedBy%2CLastEdited%2CLastEditedBy%2CPrivate%2CInactive%2CTestimonySubmissionId%2CHearingDate%2CLDNumber%2CRequest%2CCommitteeTestimonyDocumentContents: Unterminated string starting at: line 1 column 3419714 (char 3419713)\n",
      "Fetching Data:  58%|█████▊    | 3402/5832 [11:55<49:41,  1.23s/query]ERROR:root:Error fetching https://legislature.maine.gov/backend/breeze/data/CommitteeTestimony?%24filter=%28%28%28Request%2FPaperNumber+eq+%27HP1005%27%29+and+%28Request%2FLegislature+eq+126%29%29+and+%28Inactive+ne+true%29%29+and+%28not+%28startswith%28LastName%2C+%27%40%27%29+eq+true%29%29&%24orderby=LastName%2CFirstName%2COrganization&%24expand=Request&%24select=Id%2CSourceDocument%2CRequestId%2CFileType%2CFileSize%2CNamePrefix%2CFirstName%2CLastName%2CNameSuffix%2COrganization%2CPresentedDate%2CPolicyArea%2CTopic%2CCreated%2CCreatedBy%2CLastEdited%2CLastEditedBy%2CPrivate%2CInactive%2CTestimonySubmissionId%2CHearingDate%2CLDNumber%2CRequest%2CCommitteeTestimonyDocumentContents: Unterminated string starting at: line 1 column 380711 (char 380710)\n",
      "Fetching Data:  58%|█████▊    | 3403/5832 [12:00<1:34:14,  2.33s/query]ERROR:root:Error fetching https://legislature.maine.gov/backend/breeze/data/CommitteeTestimony?%24filter=%28%28%28Request%2FPaperNumber+eq+%27HP0982%27%29+and+%28Request%2FLegislature+eq+126%29%29+and+%28Inactive+ne+true%29%29+and+%28not+%28startswith%28LastName%2C+%27%40%27%29+eq+true%29%29&%24orderby=LastName%2CFirstName%2COrganization&%24expand=Request&%24select=Id%2CSourceDocument%2CRequestId%2CFileType%2CFileSize%2CNamePrefix%2CFirstName%2CLastName%2CNameSuffix%2COrganization%2CPresentedDate%2CPolicyArea%2CTopic%2CCreated%2CCreatedBy%2CLastEdited%2CLastEditedBy%2CPrivate%2CInactive%2CTestimonySubmissionId%2CHearingDate%2CLDNumber%2CRequest%2CCommitteeTestimonyDocumentContents: Unterminated string starting at: line 1 column 3785770 (char 3785769)\n",
      "ERROR:root:Error fetching https://legislature.maine.gov/backend/breeze/data/CommitteeTestimony?%24filter=%28%28%28Request%2FPaperNumber+eq+%27HP1005%27%29+and+%28Request%2FLegislature+eq+126%29%29+and+%28Inactive+ne+true%29%29+and+%28not+%28startswith%28LastName%2C+%27%40%27%29+eq+true%29%29&%24orderby=LastName%2CFirstName%2COrganization&%24expand=Request&%24select=Id%2CSourceDocument%2CRequestId%2CFileType%2CFileSize%2CNamePrefix%2CFirstName%2CLastName%2CNameSuffix%2COrganization%2CPresentedDate%2CPolicyArea%2CTopic%2CCreated%2CCreatedBy%2CLastEdited%2CLastEditedBy%2CPrivate%2CInactive%2CTestimonySubmissionId%2CHearingDate%2CLDNumber%2CRequest%2CCommitteeTestimonyDocumentContents: Unterminated string starting at: line 1 column 1683163 (char 1683162)\n",
      "ERROR:root:Error fetching https://legislature.maine.gov/backend/breeze/data/CommitteeTestimony?%24filter=%28%28%28Request%2FPaperNumber+eq+%27HP0982%27%29+and+%28Request%2FLegislature+eq+126%29%29+and+%28Inactive+ne+true%29%29+and+%28not+%28startswith%28LastName%2C+%27%40%27%29+eq+true%29%29&%24orderby=LastName%2CFirstName%2COrganization&%24expand=Request&%24select=Id%2CSourceDocument%2CRequestId%2CFileType%2CFileSize%2CNamePrefix%2CFirstName%2CLastName%2CNameSuffix%2COrganization%2CPresentedDate%2CPolicyArea%2CTopic%2CCreated%2CCreatedBy%2CLastEdited%2CLastEditedBy%2CPrivate%2CInactive%2CTestimonySubmissionId%2CHearingDate%2CLDNumber%2CRequest%2CCommitteeTestimonyDocumentContents: Unterminated string starting at: line 1 column 2871986 (char 2871985)\n",
      "Fetching Data:  58%|█████▊    | 3404/5832 [12:11<3:22:57,  5.02s/query]ERROR:root:Error fetching https://legislature.maine.gov/backend/breeze/data/CommitteeTestimony?%24filter=%28%28%28Request%2FPaperNumber+eq+%27HP0982%27%29+and+%28Request%2FLegislature+eq+126%29%29+and+%28Inactive+ne+true%29%29+and+%28not+%28startswith%28LastName%2C+%27%40%27%29+eq+true%29%29&%24orderby=LastName%2CFirstName%2COrganization&%24expand=Request&%24select=Id%2CSourceDocument%2CRequestId%2CFileType%2CFileSize%2CNamePrefix%2CFirstName%2CLastName%2CNameSuffix%2COrganization%2CPresentedDate%2CPolicyArea%2CTopic%2CCreated%2CCreatedBy%2CLastEdited%2CLastEditedBy%2CPrivate%2CInactive%2CTestimonySubmissionId%2CHearingDate%2CLDNumber%2CRequest%2CCommitteeTestimonyDocumentContents: Unterminated string starting at: line 1 column 432774 (char 432773)\n",
      "ERROR:root:Error fetching https://legislature.maine.gov/backend/breeze/data/CommitteeTestimony?%24filter=%28%28%28Request%2FPaperNumber+eq+%27HP0982%27%29+and+%28Request%2FLegislature+eq+126%29%29+and+%28Inactive+ne+true%29%29+and+%28not+%28startswith%28LastName%2C+%27%40%27%29+eq+true%29%29&%24orderby=LastName%2CFirstName%2COrganization&%24expand=Request&%24select=Id%2CSourceDocument%2CRequestId%2CFileType%2CFileSize%2CNamePrefix%2CFirstName%2CLastName%2CNameSuffix%2COrganization%2CPresentedDate%2CPolicyArea%2CTopic%2CCreated%2CCreatedBy%2CLastEdited%2CLastEditedBy%2CPrivate%2CInactive%2CTestimonySubmissionId%2CHearingDate%2CLDNumber%2CRequest%2CCommitteeTestimonyDocumentContents: Unterminated string starting at: line 1 column 4420634 (char 4420633)\n",
      "ERROR:root:Max retries reached for https://legislature.maine.gov/backend/breeze/data/CommitteeTestimony?%24filter=%28%28%28Request%2FPaperNumber+eq+%27HP0982%27%29+and+%28Request%2FLegislature+eq+126%29%29+and+%28Inactive+ne+true%29%29+and+%28not+%28startswith%28LastName%2C+%27%40%27%29+eq+true%29%29&%24orderby=LastName%2CFirstName%2COrganization&%24expand=Request&%24select=Id%2CSourceDocument%2CRequestId%2CFileType%2CFileSize%2CNamePrefix%2CFirstName%2CLastName%2CNameSuffix%2COrganization%2CPresentedDate%2CPolicyArea%2CTopic%2CCreated%2CCreatedBy%2CLastEdited%2CLastEditedBy%2CPrivate%2CInactive%2CTestimonySubmissionId%2CHearingDate%2CLDNumber%2CRequest%2CCommitteeTestimonyDocumentContents\n",
      "Fetching Data:  59%|█████▉    | 3427/5832 [13:47<1:26:18,  2.15s/query]ERROR:root:Error fetching https://legislature.maine.gov/backend/breeze/data/CommitteeTestimony?%24filter=%28%28%28Request%2FPaperNumber+eq+%27HP1165%27%29+and+%28Request%2FLegislature+eq+126%29%29+and+%28Inactive+ne+true%29%29+and+%28not+%28startswith%28LastName%2C+%27%40%27%29+eq+true%29%29&%24orderby=LastName%2CFirstName%2COrganization&%24expand=Request&%24select=Id%2CSourceDocument%2CRequestId%2CFileType%2CFileSize%2CNamePrefix%2CFirstName%2CLastName%2CNameSuffix%2COrganization%2CPresentedDate%2CPolicyArea%2CTopic%2CCreated%2CCreatedBy%2CLastEdited%2CLastEditedBy%2CPrivate%2CInactive%2CTestimonySubmissionId%2CHearingDate%2CLDNumber%2CRequest%2CCommitteeTestimonyDocumentContents: Unterminated string starting at: line 1 column 836827 (char 836826)\n",
      "Fetching Data:  59%|█████▉    | 3430/5832 [13:48<43:49,  1.09s/query]  ERROR:root:Error fetching https://legislature.maine.gov/backend/breeze/data/CommitteeTestimony?%24filter=%28%28%28Request%2FPaperNumber+eq+%27HP1169%27%29+and+%28Request%2FLegislature+eq+126%29%29+and+%28Inactive+ne+true%29%29+and+%28not+%28startswith%28LastName%2C+%27%40%27%29+eq+true%29%29&%24orderby=LastName%2CFirstName%2COrganization&%24expand=Request&%24select=Id%2CSourceDocument%2CRequestId%2CFileType%2CFileSize%2CNamePrefix%2CFirstName%2CLastName%2CNameSuffix%2COrganization%2CPresentedDate%2CPolicyArea%2CTopic%2CCreated%2CCreatedBy%2CLastEdited%2CLastEditedBy%2CPrivate%2CInactive%2CTestimonySubmissionId%2CHearingDate%2CLDNumber%2CRequest%2CCommitteeTestimonyDocumentContents: Unterminated string starting at: line 1 column 497149 (char 497148)\n",
      "ERROR:root:Error fetching https://legislature.maine.gov/backend/breeze/data/CommitteeTestimony?%24filter=%28%28%28Request%2FPaperNumber+eq+%27HP1171%27%29+and+%28Request%2FLegislature+eq+126%29%29+and+%28Inactive+ne+true%29%29+and+%28not+%28startswith%28LastName%2C+%27%40%27%29+eq+true%29%29&%24orderby=LastName%2CFirstName%2COrganization&%24expand=Request&%24select=Id%2CSourceDocument%2CRequestId%2CFileType%2CFileSize%2CNamePrefix%2CFirstName%2CLastName%2CNameSuffix%2COrganization%2CPresentedDate%2CPolicyArea%2CTopic%2CCreated%2CCreatedBy%2CLastEdited%2CLastEditedBy%2CPrivate%2CInactive%2CTestimonySubmissionId%2CHearingDate%2CLDNumber%2CRequest%2CCommitteeTestimonyDocumentContents: Unterminated string starting at: line 1 column 642540 (char 642539)\n",
      "ERROR:root:Error fetching https://legislature.maine.gov/backend/breeze/data/CommitteeTestimony?%24filter=%28%28%28Request%2FPaperNumber+eq+%27HP1174%27%29+and+%28Request%2FLegislature+eq+126%29%29+and+%28Inactive+ne+true%29%29+and+%28not+%28startswith%28LastName%2C+%27%40%27%29+eq+true%29%29&%24orderby=LastName%2CFirstName%2COrganization&%24expand=Request&%24select=Id%2CSourceDocument%2CRequestId%2CFileType%2CFileSize%2CNamePrefix%2CFirstName%2CLastName%2CNameSuffix%2COrganization%2CPresentedDate%2CPolicyArea%2CTopic%2CCreated%2CCreatedBy%2CLastEdited%2CLastEditedBy%2CPrivate%2CInactive%2CTestimonySubmissionId%2CHearingDate%2CLDNumber%2CRequest%2CCommitteeTestimonyDocumentContents: Unterminated string starting at: line 1 column 3194478 (char 3194477)\n",
      "Fetching Data:  59%|█████▉    | 3431/5832 [13:51<1:04:32,  1.61s/query]ERROR:root:Error fetching https://legislature.maine.gov/backend/breeze/data/CommitteeTestimony?%24filter=%28%28%28Request%2FPaperNumber+eq+%27HP1171%27%29+and+%28Request%2FLegislature+eq+126%29%29+and+%28Inactive+ne+true%29%29+and+%28not+%28startswith%28LastName%2C+%27%40%27%29+eq+true%29%29&%24orderby=LastName%2CFirstName%2COrganization&%24expand=Request&%24select=Id%2CSourceDocument%2CRequestId%2CFileType%2CFileSize%2CNamePrefix%2CFirstName%2CLastName%2CNameSuffix%2COrganization%2CPresentedDate%2CPolicyArea%2CTopic%2CCreated%2CCreatedBy%2CLastEdited%2CLastEditedBy%2CPrivate%2CInactive%2CTestimonySubmissionId%2CHearingDate%2CLDNumber%2CRequest%2CCommitteeTestimonyDocumentContents: Unterminated string starting at: line 1 column 642540 (char 642539)\n",
      "Fetching Data:  59%|█████▉    | 3442/5832 [14:03<26:08,  1.52query/s]  ERROR:root:Error fetching https://legislature.maine.gov/backend/breeze/data/CommitteeTestimony?%24filter=%28%28%28Request%2FPaperNumber+eq+%27HP1245%27%29+and+%28Request%2FLegislature+eq+126%29%29+and+%28Inactive+ne+true%29%29+and+%28not+%28startswith%28LastName%2C+%27%40%27%29+eq+true%29%29&%24orderby=LastName%2CFirstName%2COrganization&%24expand=Request&%24select=Id%2CSourceDocument%2CRequestId%2CFileType%2CFileSize%2CNamePrefix%2CFirstName%2CLastName%2CNameSuffix%2COrganization%2CPresentedDate%2CPolicyArea%2CTopic%2CCreated%2CCreatedBy%2CLastEdited%2CLastEditedBy%2CPrivate%2CInactive%2CTestimonySubmissionId%2CHearingDate%2CLDNumber%2CRequest%2CCommitteeTestimonyDocumentContents: Unterminated string starting at: line 1 column 2086439 (char 2086438)\n",
      "Fetching Data:  59%|█████▉    | 3444/5832 [14:03<19:50,  2.01query/s]ERROR:root:Error fetching https://legislature.maine.gov/backend/breeze/data/CommitteeTestimony?%24filter=%28%28%28Request%2FPaperNumber+eq+%27HP1209%27%29+and+%28Request%2FLegislature+eq+126%29%29+and+%28Inactive+ne+true%29%29+and+%28not+%28startswith%28LastName%2C+%27%40%27%29+eq+true%29%29&%24orderby=LastName%2CFirstName%2COrganization&%24expand=Request&%24select=Id%2CSourceDocument%2CRequestId%2CFileType%2CFileSize%2CNamePrefix%2CFirstName%2CLastName%2CNameSuffix%2COrganization%2CPresentedDate%2CPolicyArea%2CTopic%2CCreated%2CCreatedBy%2CLastEdited%2CLastEditedBy%2CPrivate%2CInactive%2CTestimonySubmissionId%2CHearingDate%2CLDNumber%2CRequest%2CCommitteeTestimonyDocumentContents: Unterminated string starting at: line 1 column 4120627 (char 4120626)\n",
      "ERROR:root:Error fetching https://legislature.maine.gov/backend/breeze/data/CommitteeTestimony?%24filter=%28%28%28Request%2FPaperNumber+eq+%27HP1242%27%29+and+%28Request%2FLegislature+eq+126%29%29+and+%28Inactive+ne+true%29%29+and+%28not+%28startswith%28LastName%2C+%27%40%27%29+eq+true%29%29&%24orderby=LastName%2CFirstName%2COrganization&%24expand=Request&%24select=Id%2CSourceDocument%2CRequestId%2CFileType%2CFileSize%2CNamePrefix%2CFirstName%2CLastName%2CNameSuffix%2COrganization%2CPresentedDate%2CPolicyArea%2CTopic%2CCreated%2CCreatedBy%2CLastEdited%2CLastEditedBy%2CPrivate%2CInactive%2CTestimonySubmissionId%2CHearingDate%2CLDNumber%2CRequest%2CCommitteeTestimonyDocumentContents: Unterminated string starting at: line 1 column 1354398 (char 1354397)\n",
      "Fetching Data:  59%|█████▉    | 3446/5832 [14:09<56:26,  1.42s/query]  ERROR:root:Error fetching https://legislature.maine.gov/backend/breeze/data/CommitteeTestimony?%24filter=%28%28%28Request%2FPaperNumber+eq+%27HP1245%27%29+and+%28Request%2FLegislature+eq+126%29%29+and+%28Inactive+ne+true%29%29+and+%28not+%28startswith%28LastName%2C+%27%40%27%29+eq+true%29%29&%24orderby=LastName%2CFirstName%2COrganization&%24expand=Request&%24select=Id%2CSourceDocument%2CRequestId%2CFileType%2CFileSize%2CNamePrefix%2CFirstName%2CLastName%2CNameSuffix%2COrganization%2CPresentedDate%2CPolicyArea%2CTopic%2CCreated%2CCreatedBy%2CLastEdited%2CLastEditedBy%2CPrivate%2CInactive%2CTestimonySubmissionId%2CHearingDate%2CLDNumber%2CRequest%2CCommitteeTestimonyDocumentContents: Unterminated string starting at: line 1 column 2086439 (char 2086438)\n",
      "Fetching Data:  59%|█████▉    | 3449/5832 [14:11<42:19,  1.07s/query]ERROR:root:Error fetching https://legislature.maine.gov/backend/breeze/data/CommitteeTestimony?%24filter=%28%28%28Request%2FPaperNumber+eq+%27HP1245%27%29+and+%28Request%2FLegislature+eq+126%29%29+and+%28Inactive+ne+true%29%29+and+%28not+%28startswith%28LastName%2C+%27%40%27%29+eq+true%29%29&%24orderby=LastName%2CFirstName%2COrganization&%24expand=Request&%24select=Id%2CSourceDocument%2CRequestId%2CFileType%2CFileSize%2CNamePrefix%2CFirstName%2CLastName%2CNameSuffix%2COrganization%2CPresentedDate%2CPolicyArea%2CTopic%2CCreated%2CCreatedBy%2CLastEdited%2CLastEditedBy%2CPrivate%2CInactive%2CTestimonySubmissionId%2CHearingDate%2CLDNumber%2CRequest%2CCommitteeTestimonyDocumentContents: Unterminated string starting at: line 1 column 2324481 (char 2324480)\n",
      "ERROR:root:Error fetching https://legislature.maine.gov/backend/breeze/data/CommitteeTestimony?%24filter=%28%28%28Request%2FPaperNumber+eq+%27HP1245%27%29+and+%28Request%2FLegislature+eq+126%29%29+and+%28Inactive+ne+true%29%29+and+%28not+%28startswith%28LastName%2C+%27%40%27%29+eq+true%29%29&%24orderby=LastName%2CFirstName%2COrganization&%24expand=Request&%24select=Id%2CSourceDocument%2CRequestId%2CFileType%2CFileSize%2CNamePrefix%2CFirstName%2CLastName%2CNameSuffix%2COrganization%2CPresentedDate%2CPolicyArea%2CTopic%2CCreated%2CCreatedBy%2CLastEdited%2CLastEditedBy%2CPrivate%2CInactive%2CTestimonySubmissionId%2CHearingDate%2CLDNumber%2CRequest%2CCommitteeTestimonyDocumentContents: Unterminated string starting at: line 1 column 2817460 (char 2817459)\n",
      "Fetching Data:  59%|█████▉    | 3450/5832 [14:30<3:34:46,  5.41s/query]ERROR:root:Error fetching https://legislature.maine.gov/backend/breeze/data/CommitteeTestimony?%24filter=%28%28%28Request%2FPaperNumber+eq+%27HP1253%27%29+and+%28Request%2FLegislature+eq+126%29%29+and+%28Inactive+ne+true%29%29+and+%28not+%28startswith%28LastName%2C+%27%40%27%29+eq+true%29%29&%24orderby=LastName%2CFirstName%2COrganization&%24expand=Request&%24select=Id%2CSourceDocument%2CRequestId%2CFileType%2CFileSize%2CNamePrefix%2CFirstName%2CLastName%2CNameSuffix%2COrganization%2CPresentedDate%2CPolicyArea%2CTopic%2CCreated%2CCreatedBy%2CLastEdited%2CLastEditedBy%2CPrivate%2CInactive%2CTestimonySubmissionId%2CHearingDate%2CLDNumber%2CRequest%2CCommitteeTestimonyDocumentContents: Unterminated string starting at: line 1 column 909731 (char 909730)\n",
      "Fetching Data:  59%|█████▉    | 3452/5832 [14:35<2:32:01,  3.83s/query]ERROR:root:Error fetching https://legislature.maine.gov/backend/breeze/data/CommitteeTestimony?%24filter=%28%28%28Request%2FPaperNumber+eq+%27HP1263%27%29+and+%28Request%2FLegislature+eq+126%29%29+and+%28Inactive+ne+true%29%29+and+%28not+%28startswith%28LastName%2C+%27%40%27%29+eq+true%29%29&%24orderby=LastName%2CFirstName%2COrganization&%24expand=Request&%24select=Id%2CSourceDocument%2CRequestId%2CFileType%2CFileSize%2CNamePrefix%2CFirstName%2CLastName%2CNameSuffix%2COrganization%2CPresentedDate%2CPolicyArea%2CTopic%2CCreated%2CCreatedBy%2CLastEdited%2CLastEditedBy%2CPrivate%2CInactive%2CTestimonySubmissionId%2CHearingDate%2CLDNumber%2CRequest%2CCommitteeTestimonyDocumentContents: Unterminated string starting at: line 1 column 226142 (char 226141)\n",
      "Fetching Data:  59%|█████▉    | 3456/5832 [14:39<1:01:02,  1.54s/query]ERROR:root:Error fetching https://legislature.maine.gov/backend/breeze/data/CommitteeTestimony?%24filter=%28%28%28Request%2FPaperNumber+eq+%27HP1260%27%29+and+%28Request%2FLegislature+eq+126%29%29+and+%28Inactive+ne+true%29%29+and+%28not+%28startswith%28LastName%2C+%27%40%27%29+eq+true%29%29&%24orderby=LastName%2CFirstName%2COrganization&%24expand=Request&%24select=Id%2CSourceDocument%2CRequestId%2CFileType%2CFileSize%2CNamePrefix%2CFirstName%2CLastName%2CNameSuffix%2COrganization%2CPresentedDate%2CPolicyArea%2CTopic%2CCreated%2CCreatedBy%2CLastEdited%2CLastEditedBy%2CPrivate%2CInactive%2CTestimonySubmissionId%2CHearingDate%2CLDNumber%2CRequest%2CCommitteeTestimonyDocumentContents: Unterminated string starting at: line 1 column 2204173 (char 2204172)\n",
      "Fetching Data:  59%|█████▉    | 3459/5832 [14:40<31:18,  1.26query/s]  ERROR:root:Error fetching https://legislature.maine.gov/backend/breeze/data/CommitteeTestimony?%24filter=%28%28%28Request%2FPaperNumber+eq+%27HP1263%27%29+and+%28Request%2FLegislature+eq+126%29%29+and+%28Inactive+ne+true%29%29+and+%28not+%28startswith%28LastName%2C+%27%40%27%29+eq+true%29%29&%24orderby=LastName%2CFirstName%2COrganization&%24expand=Request&%24select=Id%2CSourceDocument%2CRequestId%2CFileType%2CFileSize%2CNamePrefix%2CFirstName%2CLastName%2CNameSuffix%2COrganization%2CPresentedDate%2CPolicyArea%2CTopic%2CCreated%2CCreatedBy%2CLastEdited%2CLastEditedBy%2CPrivate%2CInactive%2CTestimonySubmissionId%2CHearingDate%2CLDNumber%2CRequest%2CCommitteeTestimonyDocumentContents: Unterminated string starting at: line 1 column 226142 (char 226141)\n",
      "Fetching Data:  59%|█████▉    | 3461/5832 [14:42<41:47,  1.06s/query]ERROR:root:Error fetching https://legislature.maine.gov/backend/breeze/data/CommitteeTestimony?%24filter=%28%28%28Request%2FPaperNumber+eq+%27HP1263%27%29+and+%28Request%2FLegislature+eq+126%29%29+and+%28Inactive+ne+true%29%29+and+%28not+%28startswith%28LastName%2C+%27%40%27%29+eq+true%29%29&%24orderby=LastName%2CFirstName%2COrganization&%24expand=Request&%24select=Id%2CSourceDocument%2CRequestId%2CFileType%2CFileSize%2CNamePrefix%2CFirstName%2CLastName%2CNameSuffix%2COrganization%2CPresentedDate%2CPolicyArea%2CTopic%2CCreated%2CCreatedBy%2CLastEdited%2CLastEditedBy%2CPrivate%2CInactive%2CTestimonySubmissionId%2CHearingDate%2CLDNumber%2CRequest%2CCommitteeTestimonyDocumentContents: Unterminated string starting at: line 1 column 3402294 (char 3402293)\n",
      "ERROR:root:Error fetching https://legislature.maine.gov/backend/breeze/data/CommitteeTestimony?%24filter=%28%28%28Request%2FPaperNumber+eq+%27HP1260%27%29+and+%28Request%2FLegislature+eq+126%29%29+and+%28Inactive+ne+true%29%29+and+%28not+%28startswith%28LastName%2C+%27%40%27%29+eq+true%29%29&%24orderby=LastName%2CFirstName%2COrganization&%24expand=Request&%24select=Id%2CSourceDocument%2CRequestId%2CFileType%2CFileSize%2CNamePrefix%2CFirstName%2CLastName%2CNameSuffix%2COrganization%2CPresentedDate%2CPolicyArea%2CTopic%2CCreated%2CCreatedBy%2CLastEdited%2CLastEditedBy%2CPrivate%2CInactive%2CTestimonySubmissionId%2CHearingDate%2CLDNumber%2CRequest%2CCommitteeTestimonyDocumentContents: Unterminated string starting at: line 1 column 1594069 (char 1594068)\n",
      "Fetching Data:  59%|█████▉    | 3463/5832 [14:51<1:26:49,  2.20s/query]ERROR:root:Error fetching https://legislature.maine.gov/backend/breeze/data/CommitteeTestimony?%24filter=%28%28%28Request%2FPaperNumber+eq+%27HP1260%27%29+and+%28Request%2FLegislature+eq+126%29%29+and+%28Inactive+ne+true%29%29+and+%28not+%28startswith%28LastName%2C+%27%40%27%29+eq+true%29%29&%24orderby=LastName%2CFirstName%2COrganization&%24expand=Request&%24select=Id%2CSourceDocument%2CRequestId%2CFileType%2CFileSize%2CNamePrefix%2CFirstName%2CLastName%2CNameSuffix%2COrganization%2CPresentedDate%2CPolicyArea%2CTopic%2CCreated%2CCreatedBy%2CLastEdited%2CLastEditedBy%2CPrivate%2CInactive%2CTestimonySubmissionId%2CHearingDate%2CLDNumber%2CRequest%2CCommitteeTestimonyDocumentContents: Unterminated string starting at: line 1 column 2715229 (char 2715228)\n",
      "Fetching Data:  59%|█████▉    | 3464/5832 [14:52<1:10:27,  1.79s/query]ERROR:root:Error fetching https://legislature.maine.gov/backend/breeze/data/CommitteeTestimony?%24filter=%28%28%28Request%2FPaperNumber+eq+%27HP1260%27%29+and+%28Request%2FLegislature+eq+126%29%29+and+%28Inactive+ne+true%29%29+and+%28not+%28startswith%28LastName%2C+%27%40%27%29+eq+true%29%29&%24orderby=LastName%2CFirstName%2COrganization&%24expand=Request&%24select=Id%2CSourceDocument%2CRequestId%2CFileType%2CFileSize%2CNamePrefix%2CFirstName%2CLastName%2CNameSuffix%2COrganization%2CPresentedDate%2CPolicyArea%2CTopic%2CCreated%2CCreatedBy%2CLastEdited%2CLastEditedBy%2CPrivate%2CInactive%2CTestimonySubmissionId%2CHearingDate%2CLDNumber%2CRequest%2CCommitteeTestimonyDocumentContents: Unterminated string starting at: line 1 column 560549 (char 560548)\n",
      "ERROR:root:Error fetching https://legislature.maine.gov/backend/breeze/data/CommitteeTestimony?%24filter=%28%28%28Request%2FPaperNumber+eq+%27HP1260%27%29+and+%28Request%2FLegislature+eq+126%29%29+and+%28Inactive+ne+true%29%29+and+%28not+%28startswith%28LastName%2C+%27%40%27%29+eq+true%29%29&%24orderby=LastName%2CFirstName%2COrganization&%24expand=Request&%24select=Id%2CSourceDocument%2CRequestId%2CFileType%2CFileSize%2CNamePrefix%2CFirstName%2CLastName%2CNameSuffix%2COrganization%2CPresentedDate%2CPolicyArea%2CTopic%2CCreated%2CCreatedBy%2CLastEdited%2CLastEditedBy%2CPrivate%2CInactive%2CTestimonySubmissionId%2CHearingDate%2CLDNumber%2CRequest%2CCommitteeTestimonyDocumentContents: Unterminated string starting at: line 1 column 2838934 (char 2838933)\n",
      "ERROR:root:Max retries reached for https://legislature.maine.gov/backend/breeze/data/CommitteeTestimony?%24filter=%28%28%28Request%2FPaperNumber+eq+%27HP1260%27%29+and+%28Request%2FLegislature+eq+126%29%29+and+%28Inactive+ne+true%29%29+and+%28not+%28startswith%28LastName%2C+%27%40%27%29+eq+true%29%29&%24orderby=LastName%2CFirstName%2COrganization&%24expand=Request&%24select=Id%2CSourceDocument%2CRequestId%2CFileType%2CFileSize%2CNamePrefix%2CFirstName%2CLastName%2CNameSuffix%2COrganization%2CPresentedDate%2CPolicyArea%2CTopic%2CCreated%2CCreatedBy%2CLastEdited%2CLastEditedBy%2CPrivate%2CInactive%2CTestimonySubmissionId%2CHearingDate%2CLDNumber%2CRequest%2CCommitteeTestimonyDocumentContents\n",
      "Fetching Data:  60%|█████▉    | 3475/5832 [15:33<32:51,  1.20query/s]  ERROR:root:Error fetching https://legislature.maine.gov/backend/breeze/data/CommitteeTestimony?%24filter=%28%28%28Request%2FPaperNumber+eq+%27SP0044%27%29+and+%28Request%2FLegislature+eq+126%29%29+and+%28Inactive+ne+true%29%29+and+%28not+%28startswith%28LastName%2C+%27%40%27%29+eq+true%29%29&%24orderby=LastName%2CFirstName%2COrganization&%24expand=Request&%24select=Id%2CSourceDocument%2CRequestId%2CFileType%2CFileSize%2CNamePrefix%2CFirstName%2CLastName%2CNameSuffix%2COrganization%2CPresentedDate%2CPolicyArea%2CTopic%2CCreated%2CCreatedBy%2CLastEdited%2CLastEditedBy%2CPrivate%2CInactive%2CTestimonySubmissionId%2CHearingDate%2CLDNumber%2CRequest%2CCommitteeTestimonyDocumentContents: Unterminated string starting at: line 1 column 568393 (char 568392)\n",
      "Fetching Data:  60%|█████▉    | 3476/5832 [15:34<35:23,  1.11query/s]ERROR:root:Error fetching https://legislature.maine.gov/backend/breeze/data/CommitteeTestimony?%24filter=%28%28%28Request%2FPaperNumber+eq+%27SP0012%27%29+and+%28Request%2FLegislature+eq+126%29%29+and+%28Inactive+ne+true%29%29+and+%28not+%28startswith%28LastName%2C+%27%40%27%29+eq+true%29%29&%24orderby=LastName%2CFirstName%2COrganization&%24expand=Request&%24select=Id%2CSourceDocument%2CRequestId%2CFileType%2CFileSize%2CNamePrefix%2CFirstName%2CLastName%2CNameSuffix%2COrganization%2CPresentedDate%2CPolicyArea%2CTopic%2CCreated%2CCreatedBy%2CLastEdited%2CLastEditedBy%2CPrivate%2CInactive%2CTestimonySubmissionId%2CHearingDate%2CLDNumber%2CRequest%2CCommitteeTestimonyDocumentContents: Unterminated string starting at: line 1 column 966820 (char 966819)\n",
      "Fetching Data:  60%|█████▉    | 3477/5832 [15:36<52:23,  1.33s/query]ERROR:root:Error fetching https://legislature.maine.gov/backend/breeze/data/CommitteeTestimony?%24filter=%28%28%28Request%2FPaperNumber+eq+%27SP0044%27%29+and+%28Request%2FLegislature+eq+126%29%29+and+%28Inactive+ne+true%29%29+and+%28not+%28startswith%28LastName%2C+%27%40%27%29+eq+true%29%29&%24orderby=LastName%2CFirstName%2COrganization&%24expand=Request&%24select=Id%2CSourceDocument%2CRequestId%2CFileType%2CFileSize%2CNamePrefix%2CFirstName%2CLastName%2CNameSuffix%2COrganization%2CPresentedDate%2CPolicyArea%2CTopic%2CCreated%2CCreatedBy%2CLastEdited%2CLastEditedBy%2CPrivate%2CInactive%2CTestimonySubmissionId%2CHearingDate%2CLDNumber%2CRequest%2CCommitteeTestimonyDocumentContents: Unterminated string starting at: line 1 column 1368707 (char 1368706)\n",
      "Fetching Data:  60%|█████▉    | 3478/5832 [15:40<1:12:31,  1.85s/query]ERROR:root:Error fetching https://legislature.maine.gov/backend/breeze/data/CommitteeTestimony?%24filter=%28%28%28Request%2FPaperNumber+eq+%27SP0044%27%29+and+%28Request%2FLegislature+eq+126%29%29+and+%28Inactive+ne+true%29%29+and+%28not+%28startswith%28LastName%2C+%27%40%27%29+eq+true%29%29&%24orderby=LastName%2CFirstName%2COrganization&%24expand=Request&%24select=Id%2CSourceDocument%2CRequestId%2CFileType%2CFileSize%2CNamePrefix%2CFirstName%2CLastName%2CNameSuffix%2COrganization%2CPresentedDate%2CPolicyArea%2CTopic%2CCreated%2CCreatedBy%2CLastEdited%2CLastEditedBy%2CPrivate%2CInactive%2CTestimonySubmissionId%2CHearingDate%2CLDNumber%2CRequest%2CCommitteeTestimonyDocumentContents: Unterminated string starting at: line 1 column 568393 (char 568392)\n",
      "Fetching Data:  60%|█████▉    | 3481/5832 [15:53<2:00:40,  3.08s/query]ERROR:root:Error fetching https://legislature.maine.gov/backend/breeze/data/CommitteeTestimony?%24filter=%28%28%28Request%2FPaperNumber+eq+%27SP0072%27%29+and+%28Request%2FLegislature+eq+126%29%29+and+%28Inactive+ne+true%29%29+and+%28not+%28startswith%28LastName%2C+%27%40%27%29+eq+true%29%29&%24orderby=LastName%2CFirstName%2COrganization&%24expand=Request&%24select=Id%2CSourceDocument%2CRequestId%2CFileType%2CFileSize%2CNamePrefix%2CFirstName%2CLastName%2CNameSuffix%2COrganization%2CPresentedDate%2CPolicyArea%2CTopic%2CCreated%2CCreatedBy%2CLastEdited%2CLastEditedBy%2CPrivate%2CInactive%2CTestimonySubmissionId%2CHearingDate%2CLDNumber%2CRequest%2CCommitteeTestimonyDocumentContents: Unterminated string starting at: line 1 column 584389 (char 584388)\n",
      "Fetching Data:  60%|█████▉    | 3492/5832 [16:00<24:06,  1.62query/s]  ERROR:root:Error fetching https://legislature.maine.gov/backend/breeze/data/CommitteeTestimony?%24filter=%28%28%28Request%2FPaperNumber+eq+%27SP0109%27%29+and+%28Request%2FLegislature+eq+126%29%29+and+%28Inactive+ne+true%29%29+and+%28not+%28startswith%28LastName%2C+%27%40%27%29+eq+true%29%29&%24orderby=LastName%2CFirstName%2COrganization&%24expand=Request&%24select=Id%2CSourceDocument%2CRequestId%2CFileType%2CFileSize%2CNamePrefix%2CFirstName%2CLastName%2CNameSuffix%2COrganization%2CPresentedDate%2CPolicyArea%2CTopic%2CCreated%2CCreatedBy%2CLastEdited%2CLastEditedBy%2CPrivate%2CInactive%2CTestimonySubmissionId%2CHearingDate%2CLDNumber%2CRequest%2CCommitteeTestimonyDocumentContents: Unterminated string starting at: line 1 column 755629 (char 755628)\n",
      "Fetching Data:  60%|█████▉    | 3492/5832 [16:04<10:46,  3.62query/s]\n"
     ]
    },
    {
     "ename": "CancelledError",
     "evalue": "",
     "output_type": "error",
     "traceback": [
      "\u001B[0;31m---------------------------------------------------------------------------\u001B[0m",
      "\u001B[0;31mCancelledError\u001B[0m                            Traceback (most recent call last)",
      "Cell \u001B[0;32mIn[22], line 23\u001B[0m\n\u001B[1;32m     20\u001B[0m urls \u001B[38;5;241m=\u001B[39m [\u001B[38;5;124mf\u001B[39m\u001B[38;5;124m'\u001B[39m\u001B[38;5;132;01m{\u001B[39;00mbase_url\u001B[38;5;132;01m}\u001B[39;00m\u001B[38;5;124m?\u001B[39m\u001B[38;5;132;01m{\u001B[39;00murlencode(query_param)\u001B[38;5;132;01m}\u001B[39;00m\u001B[38;5;124m'\u001B[39m \u001B[38;5;28;01mfor\u001B[39;00m query_param \u001B[38;5;129;01min\u001B[39;00m query_params]\n\u001B[1;32m     22\u001B[0m \u001B[38;5;66;03m# Encode query parameters into a URL\u001B[39;00m\n\u001B[0;32m---> 23\u001B[0m testimonies \u001B[38;5;241m=\u001B[39m \u001B[38;5;28;01mawait\u001B[39;00m pb\u001B[38;5;241m.\u001B[39mrun_in_batches(\u001B[38;5;241m15\u001B[39m, urls)\n",
      "File \u001B[0;32m~/git-clones/ds5500-capstone-project/src/parse_bills.py:54\u001B[0m, in \u001B[0;36mrun_in_batches\u001B[0;34m(batch_size, url_queries)\u001B[0m\n\u001B[1;32m     52\u001B[0m \u001B[38;5;28;01mif\u001B[39;00m \u001B[38;5;28mlen\u001B[39m(tasks) \u001B[38;5;241m==\u001B[39m batch_size:\n\u001B[1;32m     53\u001B[0m     \u001B[38;5;28;01mfor\u001B[39;00m completed_task \u001B[38;5;129;01min\u001B[39;00m asyncio\u001B[38;5;241m.\u001B[39mas_completed(tasks):\n\u001B[0;32m---> 54\u001B[0m         result \u001B[38;5;241m=\u001B[39m \u001B[38;5;28;01mawait\u001B[39;00m completed_task\n\u001B[1;32m     55\u001B[0m         results\u001B[38;5;241m.\u001B[39mappend(result)\n\u001B[1;32m     56\u001B[0m         pbar\u001B[38;5;241m.\u001B[39mupdate(\u001B[38;5;241m1\u001B[39m)  \u001B[38;5;66;03m# Update the progress bar after each task completes\u001B[39;00m\n",
      "File \u001B[0;32m~/miniconda3/envs/me_legis_testimony_interpreter/lib/python3.11/asyncio/tasks.py:611\u001B[0m, in \u001B[0;36mas_completed.<locals>._wait_for_one\u001B[0;34m()\u001B[0m\n\u001B[1;32m    610\u001B[0m \u001B[38;5;28;01masync\u001B[39;00m \u001B[38;5;28;01mdef\u001B[39;00m \u001B[38;5;21m_wait_for_one\u001B[39m():\n\u001B[0;32m--> 611\u001B[0m     f \u001B[38;5;241m=\u001B[39m \u001B[38;5;28;01mawait\u001B[39;00m done\u001B[38;5;241m.\u001B[39mget()\n\u001B[1;32m    612\u001B[0m     \u001B[38;5;28;01mif\u001B[39;00m f \u001B[38;5;129;01mis\u001B[39;00m \u001B[38;5;28;01mNone\u001B[39;00m:\n\u001B[1;32m    613\u001B[0m         \u001B[38;5;66;03m# Dummy value from _on_timeout().\u001B[39;00m\n\u001B[1;32m    614\u001B[0m         \u001B[38;5;28;01mraise\u001B[39;00m exceptions\u001B[38;5;241m.\u001B[39mTimeoutError\n",
      "File \u001B[0;32m~/miniconda3/envs/me_legis_testimony_interpreter/lib/python3.11/asyncio/queues.py:158\u001B[0m, in \u001B[0;36mQueue.get\u001B[0;34m(self)\u001B[0m\n\u001B[1;32m    156\u001B[0m \u001B[38;5;28mself\u001B[39m\u001B[38;5;241m.\u001B[39m_getters\u001B[38;5;241m.\u001B[39mappend(getter)\n\u001B[1;32m    157\u001B[0m \u001B[38;5;28;01mtry\u001B[39;00m:\n\u001B[0;32m--> 158\u001B[0m     \u001B[38;5;28;01mawait\u001B[39;00m getter\n\u001B[1;32m    159\u001B[0m \u001B[38;5;28;01mexcept\u001B[39;00m:\n\u001B[1;32m    160\u001B[0m     getter\u001B[38;5;241m.\u001B[39mcancel()  \u001B[38;5;66;03m# Just in case getter is not done yet.\u001B[39;00m\n",
      "\u001B[0;31mCancelledError\u001B[0m: "
     ]
    }
   ],
   "source": [
    "from urllib.parse import urlencode\n",
    "\n",
    "base_url = 'https://legislature.maine.gov/backend/breeze/data/CommitteeTestimony'\n",
    "\n",
    "query_params = [{\n",
    "        '$filter': (\n",
    "            f\"(((Request/PaperNumber eq '{paper_number}') and \"\n",
    "            f\"(Request/Legislature eq {legislature})) and \"\n",
    "            \"(Inactive ne true)) and \"\n",
    "            # f\"(PresentedDate lt datetime'{presented_date}') and \"  # Uncomment if needed\n",
    "            \"(not (startswith(LastName, '@') eq true))\"\n",
    "        ),\n",
    "        '$orderby': 'LastName,FirstName,Organization',\n",
    "        '$expand': 'Request',\n",
    "        '$select': 'Id,SourceDocument,RequestId,FileType,FileSize,NamePrefix,FirstName,LastName,NameSuffix,Organization,PresentedDate,PolicyArea,Topic,Created,CreatedBy,LastEdited,LastEditedBy,Private,Inactive,TestimonySubmissionId,HearingDate,LDNumber,Request,CommitteeTestimonyDocumentContents'\n",
    "    }\n",
    "    for paper_number, legislature in doc_leg_list\n",
    "]\n",
    "\n",
    "urls = [f'{base_url}?{urlencode(query_param)}' for query_param in query_params]\n",
    "\n",
    "# Encode query parameters into a URL\n",
    "testimonies = await pb.run_in_batches(15, urls)"
   ],
   "metadata": {
    "collapsed": false,
    "ExecuteTime": {
     "end_time": "2024-10-05T02:37:18.440039Z",
     "start_time": "2024-10-05T02:21:13.626463Z"
    }
   },
   "id": "430f3154aa3398e8"
  },
  {
   "cell_type": "code",
   "execution_count": null,
   "outputs": [],
   "source": [
    "testimony_df = pd.json_normalize(testimonies)"
   ],
   "metadata": {
    "collapsed": false
   },
   "id": "a10b70375c5789d5"
  },
  {
   "cell_type": "code",
   "execution_count": null,
   "outputs": [],
   "source": [
    "conn = sql.connect('data/maine_legislation.db')\n",
    "testimony_df.to_sql('maine_bill_testimony', conn, if_exists='replace', index=False)\n",
    "conn.close()"
   ],
   "metadata": {
    "collapsed": false
   },
   "id": "9080404bdc215259"
  },
  {
   "cell_type": "markdown",
   "source": [
    "## All Testimony"
   ],
   "metadata": {
    "collapsed": false
   },
   "id": "9b4818abfb48b00e"
  },
  {
   "cell_type": "code",
   "execution_count": 23,
   "outputs": [],
   "source": [
    "all_url = 'https://legislature.maine.gov/backend/breeze/data/CommitteeTestimony'\n",
    "all_results = requests.get(all_url)"
   ],
   "metadata": {
    "collapsed": false,
    "ExecuteTime": {
     "end_time": "2024-10-05T02:38:12.739660Z",
     "start_time": "2024-10-05T02:37:34.819113Z"
    }
   },
   "id": "fb81258fb29a5284"
  },
  {
   "cell_type": "code",
   "execution_count": 28,
   "outputs": [
    {
     "data": {
      "text/plain": "137227"
     },
     "execution_count": 28,
     "metadata": {},
     "output_type": "execute_result"
    }
   ],
   "source": [
    "import json\n",
    "all_df = pd.json_normalize(json.loads(all_results.content))\n",
    "len(all_df)"
   ],
   "metadata": {
    "collapsed": false,
    "ExecuteTime": {
     "end_time": "2024-10-05T02:51:35.904341Z",
     "start_time": "2024-10-05T02:51:34.082134Z"
    }
   },
   "id": "52bd5cb4cd61a912"
  },
  {
   "cell_type": "code",
   "execution_count": 29,
   "outputs": [],
   "source": [
    "# src = [y[0]['_source'] for y in [x['hits']['hits'] for x in r]]\n",
    "conn = sql.connect('data/maine_legislation.db')\n",
    "all_df.to_sql('maine_bill_testimony', conn, if_exists='replace', index=False)\n",
    "conn.close()"
   ],
   "metadata": {
    "collapsed": false,
    "ExecuteTime": {
     "end_time": "2024-10-05T02:52:36.743182Z",
     "start_time": "2024-10-05T02:52:35.431474Z"
    }
   },
   "id": "6b2b139f24c79677"
  },
  {
   "cell_type": "code",
   "execution_count": 21,
   "outputs": [
    {
     "data": {
      "text/plain": "Index(['$id', '$type', 'Id', 'SourceDocument', 'RequestId', 'FileType',\n       'FileSize', 'NamePrefix', 'FirstName', 'LastName', 'NameSuffix',\n       'Organization', 'PresentedDate', 'PolicyArea', 'Topic', 'Created',\n       'CreatedBy', 'LastEdited', 'LastEditedBy', 'Private', 'Inactive',\n       'TestimonySubmissionId', 'HearingDate', 'LDNumber', 'Request',\n       'CommitteeTestimonyDocumentContents'],\n      dtype='object')"
     },
     "execution_count": 21,
     "metadata": {},
     "output_type": "execute_result"
    }
   ],
   "source": [
    "all_df.columns"
   ],
   "metadata": {
    "collapsed": false,
    "ExecuteTime": {
     "end_time": "2024-10-05T02:06:57.323747Z",
     "start_time": "2024-10-05T02:06:57.305248Z"
    }
   },
   "id": "408589e65e215b68"
  },
  {
   "cell_type": "markdown",
   "source": [
    "## GET testimony doc from ID"
   ],
   "metadata": {
    "collapsed": false
   },
   "id": "ddbb4f522f13276d"
  },
  {
   "cell_type": "code",
   "execution_count": null,
   "outputs": [],
   "source": [
    "doc_id = 10031266\n",
    "\n",
    "doc_test = f'https://legislature.maine.gov/backend/app/services/getDocument.aspx?doctype=test&documentId={doc_id}'\n",
    "\n",
    "requests.get()"
   ],
   "metadata": {
    "collapsed": false
   },
   "id": "1e7624647c8c78be"
  },
  {
   "cell_type": "code",
   "execution_count": 36,
   "outputs": [],
   "source": [
    "list_url = f'{base_url}?{urlencode(query_params[4000])}'\n",
    "list_url"
   ],
   "metadata": {
    "collapsed": false,
    "ExecuteTime": {
     "end_time": "2024-10-04T04:18:08.460902Z",
     "start_time": "2024-10-04T04:18:08.457475Z"
    }
   },
   "id": "edf16b149d71b986"
  },
  {
   "cell_type": "code",
   "execution_count": 37,
   "outputs": [
    {
     "data": {
      "text/plain": "b'[{\"$id\":\"1\",\"$type\":\"_IB_1lt3YFZUpGY15A9kn7_pEYC1T5Fg[[System.Int32, mscorlib],[System.String, mscorlib],[System.String, mscorlib],[System.String, mscorlib],[System.String, mscorlib],[System.String, mscorlib],[System.String, mscorlib],[System.DateTime, mscorlib],[System.String, mscorlib],[System.String, mscorlib],[System.Boolean, mscorlib]], _IB_1lt3YFZUpGY15A9kn7_pEYC1T5Fg_IdeaBlade\",\"Id\":50406,\"FileType\":\"pdf\",\"NamePrefix\":null,\"FirstName\":\"Patrick\",\"LastName\":\"Gagnon\",\"NameSuffix\":null,\"Organization\":\"Maine State Law Enforcement Assn.\",\"PresentedDate\":\"2017-03-27T00:00:00.000\",\"FileSize\":\"379 KB\",\"Topic\":null,\"Private\":false},{\"$id\":\"2\",\"$type\":\"_IB_1lt3YFZUpGY15A9kn7_pEYC1T5Fg[[System.Int32, mscorlib],[System.String, mscorlib],[System.String, mscorlib],[System.String, mscorlib],[System.String, mscorlib],[System.String, mscorlib],[System.String, mscorlib],[System.DateTime, mscorlib],[System.String, mscorlib],[System.String, mscorlib],[System.Boolean, mscorlib]], _IB_1lt3YFZUpGY15A9kn7_pEYC1T5Fg_IdeaBlade\",\"Id\":50405,\"FileType\":\"pdf\",\"NamePrefix\":\"Rep.\",\"FirstName\":\"Catherine\",\"LastName\":\"Nadeau\",\"NameSuffix\":null,\"Organization\":\"Maine State Legislature\",\"PresentedDate\":\"2017-03-27T00:00:00.000\",\"FileSize\":\"69 KB\",\"Topic\":null,\"Private\":false}]'"
     },
     "execution_count": 37,
     "metadata": {},
     "output_type": "execute_result"
    }
   ],
   "source": [
    "requests.get(list_url).content"
   ],
   "metadata": {
    "collapsed": false,
    "ExecuteTime": {
     "end_time": "2024-10-04T04:18:12.045452Z",
     "start_time": "2024-10-04T04:18:10.401328Z"
    }
   },
   "id": "27f03a03007d93be"
  },
  {
   "cell_type": "code",
   "execution_count": null,
   "outputs": [],
   "source": [],
   "metadata": {
    "collapsed": false
   },
   "id": "a17468f8b48c56ca"
  },
  {
   "cell_type": "markdown",
   "source": [
    "## Retrieve actual testimony document"
   ],
   "metadata": {
    "collapsed": false
   },
   "id": "c8ab3b47387584f1"
  },
  {
   "cell_type": "code",
   "execution_count": null,
   "outputs": [],
   "source": [
    "https://legislature.maine.gov/backend/app/services/getDocument.aspx?doctype=test&documentId=166895"
   ],
   "metadata": {
    "collapsed": false
   },
   "id": "4fb8615b5b783118"
  },
  {
   "cell_type": "markdown",
   "source": [
    "## Bill actions summary"
   ],
   "metadata": {
    "collapsed": false
   },
   "id": "5490c2423674fb50"
  },
  {
   "cell_type": "code",
   "execution_count": null,
   "outputs": [],
   "source": [
    "from urllib.parse import urlencode\n",
    "\n",
    "base_url = 'https://legislature.maine.gov/backend/breeze/data/Request'\n",
    "\n",
    "legislature = 131\n",
    "paper_number = 'SP0008'\n",
    "\n",
    "query_params = {\n",
    "    '$filter': f\"(Legislature eq {legislature}) and (PaperNumber eq '{paper_number}')\",\n",
    "    '$expand': (\n",
    "        'ActionFinalDisp,ActionCouncil,ActionGovernor,ActionRequest,ActionVeto,'\n",
    "        'ActionCommittee,Committee1stRef,Committee2ndRef,CommitteeFrom,RequestItem,'\n",
    "        'RequestTitleSections,RequestAction'\n",
    "    )\n",
    "}\n",
    "\n",
    "# Encode query parameters into a URL\n",
    "full_url = f\"{base_url}?{urlencode(query_params)}\"\n",
    "\n",
    "full_url"
   ],
   "metadata": {
    "collapsed": false
   },
   "id": "cbcd93cc5e0ade71"
  },
  {
   "cell_type": "code",
   "execution_count": null,
   "outputs": [],
   "source": [
    "actions = requests.get(full_url)\n",
    "actions.json()"
   ],
   "metadata": {
    "collapsed": false
   },
   "id": "5e8d039046bdc083"
  },
  {
   "cell_type": "code",
   "execution_count": null,
   "outputs": [],
   "source": [
    "pd.DataFrame([x['ActionFinalDisp'] for x in actions.json()])"
   ],
   "metadata": {
    "collapsed": false
   },
   "id": "ce783907ab9a82de"
  },
  {
   "cell_type": "code",
   "execution_count": null,
   "outputs": [],
   "source": [],
   "metadata": {
    "collapsed": false
   },
   "id": "4cd9106f05d10e8e"
  },
  {
   "cell_type": "markdown",
   "source": [
    "## Asyncio"
   ],
   "metadata": {
    "collapsed": false
   },
   "id": "18f13427b88a6034"
  },
  {
   "cell_type": "code",
   "execution_count": null,
   "outputs": [],
   "source": [
    "import asyncio\n",
    "import aiohttp\n",
    "import random\n",
    "\n",
    "async def fetch_data(session, task_id):\n",
    "    url = f\"https://jsonplaceholder.typicode.com/todos/{task_id}\"\n",
    "    async with session.get(url) as response:\n",
    "        if response.status == 200:\n",
    "            data = await response.json()\n",
    "            return f\"Task {task_id}: {data['title']}\"\n",
    "        else:\n",
    "            return f\"Error fetching task {task_id}\"\n",
    "\n",
    "async def run_in_batches(batch_size, total_tasks):\n",
    "    async with aiohttp.ClientSession() as session:\n",
    "        tasks = []\n",
    "        results = []\n",
    "        for i in range(1, total_tasks + 1):\n",
    "            task = fetch_data(session, i)\n",
    "            tasks.append(task)\n",
    "            if len(tasks) == batch_size:\n",
    "                batch_results = await asyncio.gather(*tasks)\n",
    "                print(f'Batch {i}', batch_results)\n",
    "                results.extend(batch_results)\n",
    "                tasks = []\n",
    "        if tasks:\n",
    "            batch_results = await asyncio.gather(*tasks)\n",
    "            results.extend(batch_results)\n",
    "    return results\n",
    "\n",
    "async def main():\n",
    "    batch_size = 3\n",
    "    total_tasks = 10\n",
    "    results = await run_in_batches(batch_size, total_tasks)\n",
    "    for result in results:\n",
    "        print(result)\n",
    "\n",
    "# Use this if you're running in a script\n",
    "await main()"
   ],
   "metadata": {
    "collapsed": false
   },
   "id": "f6af8c340552773a"
  },
  {
   "cell_type": "markdown",
   "source": [
    "## Tasks out of order"
   ],
   "metadata": {
    "collapsed": false
   },
   "id": "a19ae2f5f2139bdc"
  },
  {
   "cell_type": "code",
   "execution_count": null,
   "outputs": [],
   "source": [
    "import asyncio\n",
    "import aiohttp\n",
    "\n",
    "async def fetch_data(session, task_id):\n",
    "    url = f\"https://jsonplaceholder.typicode.com/todos/{task_id}\"\n",
    "    async with session.get(url) as response:\n",
    "        if response.status == 200:\n",
    "            data = await response.json()\n",
    "            return f\"Task {task_id}: {data['title']}\"\n",
    "        else:\n",
    "            return f\"Error fetching task {task_id}\"\n",
    "\n",
    "async def run_in_batches(batch_size, total_tasks):\n",
    "    async with aiohttp.ClientSession() as session:\n",
    "        tasks = []\n",
    "        results = []\n",
    "        for i in range(1, total_tasks + 1):\n",
    "            task = fetch_data(session, i)\n",
    "            tasks.append(task)\n",
    "            if len(tasks) == batch_size:\n",
    "                for completed_task in asyncio.as_completed(tasks):\n",
    "                    result = await completed_task\n",
    "                    results.append(result)\n",
    "                tasks = []\n",
    "        if tasks:  # If there are any leftover tasks after the last full batch\n",
    "            for completed_task in asyncio.as_completed(tasks):\n",
    "                result = await completed_task\n",
    "                results.append(result)\n",
    "    return results\n",
    "\n",
    "async def main():\n",
    "    batch_size = 3\n",
    "    total_tasks = 10\n",
    "    results = await run_in_batches(batch_size, total_tasks)\n",
    "    for result in results:\n",
    "        print(result)\n",
    "\n",
    "# Use this if you're running in a script\n",
    "await main()"
   ],
   "metadata": {
    "collapsed": false
   },
   "id": "b3758c528a3393de"
  }
 ],
 "metadata": {
  "kernelspec": {
   "display_name": "ME_LEGIS",
   "language": "python",
   "name": "me_legis_testimony_interpreter"
  },
  "language_info": {
   "codemirror_mode": {
    "name": "ipython",
    "version": 2
   },
   "file_extension": ".py",
   "mimetype": "text/x-python",
   "name": "python",
   "nbconvert_exporter": "python",
   "pygments_lexer": "ipython2",
   "version": "2.7.6"
  }
 },
 "nbformat": 4,
 "nbformat_minor": 5
}
