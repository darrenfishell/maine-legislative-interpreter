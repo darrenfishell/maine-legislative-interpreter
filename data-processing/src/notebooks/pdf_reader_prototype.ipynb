{
 "cells": [
  {
   "cell_type": "code",
   "id": "initial_id",
   "metadata": {
    "collapsed": true,
    "ExecuteTime": {
     "end_time": "2024-10-25T01:29:11.817646Z",
     "start_time": "2024-10-25T01:29:11.507871Z"
    }
   },
   "source": [
    "import src.pipeline.endpoints as ep\n",
    "from src.database.db_writer import Database\n",
    "import pandas as pd\n",
    "import requests\n",
    "from urllib.parse import urlencode\n",
    "from pypdf import PdfReader"
   ],
   "outputs": [],
   "execution_count": 2
  },
  {
   "metadata": {
    "ExecuteTime": {
     "end_time": "2024-10-25T01:29:11.834753Z",
     "start_time": "2024-10-25T01:29:11.833087Z"
    }
   },
   "cell_type": "code",
   "source": [
    "url = ep.testimony_text_config['base_url']\n",
    "params = ep.testimony_text_config['params']"
   ],
   "id": "806630f59156e598",
   "outputs": [],
   "execution_count": 3
  },
  {
   "metadata": {
    "ExecuteTime": {
     "end_time": "2024-10-25T01:29:11.843630Z",
     "start_time": "2024-10-25T01:29:11.841592Z"
    }
   },
   "cell_type": "code",
   "source": "db = Database('maine_legislation_and_testimony')",
   "id": "b222ff40203a1860",
   "outputs": [],
   "execution_count": 4
  },
  {
   "metadata": {
    "ExecuteTime": {
     "end_time": "2024-10-25T01:29:27.615526Z",
     "start_time": "2024-10-25T01:29:11.848397Z"
    }
   },
   "cell_type": "code",
   "source": "doc_ids = db.get_testimony_doc_ids(131)",
   "id": "1ed691e64114247",
   "outputs": [],
   "execution_count": 5
  },
  {
   "metadata": {
    "ExecuteTime": {
     "end_time": "2024-10-25T01:29:27.623421Z",
     "start_time": "2024-10-25T01:29:27.620518Z"
    }
   },
   "cell_type": "code",
   "source": "len(doc_ids)",
   "id": "9fdef61a08141c1",
   "outputs": [
    {
     "data": {
      "text/plain": [
       "34264"
      ]
     },
     "execution_count": 6,
     "metadata": {},
     "output_type": "execute_result"
    }
   ],
   "execution_count": 6
  },
  {
   "metadata": {
    "ExecuteTime": {
     "end_time": "2024-10-25T01:29:27.751729Z",
     "start_time": "2024-10-25T01:29:27.691112Z"
    }
   },
   "cell_type": "code",
   "source": [
    "query_list = []\n",
    "query_params = params.copy()\n",
    "for doc_id in doc_ids:\n",
    "    query_params['documentId'] = doc_id\n",
    "    query_list.append(f'{url}?{urlencode(query_params)}')\n",
    "query_list[0:5]"
   ],
   "id": "b3ec43eef6223a32",
   "outputs": [
    {
     "data": {
      "text/plain": [
       "['https://legislature.maine.gov/backend/app/services/getDocument.aspx?doctype=test&documentId=10010256',\n",
       " 'https://legislature.maine.gov/backend/app/services/getDocument.aspx?doctype=test&documentId=166850',\n",
       " 'https://legislature.maine.gov/backend/app/services/getDocument.aspx?doctype=test&documentId=10010249',\n",
       " 'https://legislature.maine.gov/backend/app/services/getDocument.aspx?doctype=test&documentId=166852',\n",
       " 'https://legislature.maine.gov/backend/app/services/getDocument.aspx?doctype=test&documentId=166851']"
      ]
     },
     "execution_count": 7,
     "metadata": {},
     "output_type": "execute_result"
    }
   ],
   "execution_count": 7
  },
  {
   "metadata": {
    "ExecuteTime": {
     "end_time": "2024-10-25T01:29:33.484775Z",
     "start_time": "2024-10-25T01:29:29.912872Z"
    }
   },
   "cell_type": "code",
   "source": [
    "import src.pipeline.async_fetch as fetch\n",
    "\n",
    "pdf_byte_list = await fetch.run_in_batches(query_list[0:20])\n",
    "\n",
    "pdf_byte_list"
   ],
   "id": "8df5d3ed2e98953",
   "outputs": [
    {
     "name": "stderr",
     "output_type": "stream",
     "text": [
      "Fetching Data: 100%|██████████| 20/20 [00:03<00:00,  5.64query/s]\n"
     ]
    },
    {
     "data": {
      "text/plain": [
       "[{'query_url': 'https://legislature.maine.gov/backend/app/services/getDocument.aspx?doctype=test&documentId=166852',\n",
       "  'bytes': <_io.BytesIO at 0x130aba980>},\n",
       " {'query_url': 'https://legislature.maine.gov/backend/app/services/getDocument.aspx?doctype=test&documentId=166850',\n",
       "  'bytes': <_io.BytesIO at 0x130aba750>},\n",
       " {'query_url': 'https://legislature.maine.gov/backend/app/services/getDocument.aspx?doctype=test&documentId=10011051',\n",
       "  'bytes': <_io.BytesIO at 0x1234076a0>},\n",
       " {'query_url': 'https://legislature.maine.gov/backend/app/services/getDocument.aspx?doctype=test&documentId=166851',\n",
       "  'bytes': <_io.BytesIO at 0x130ad90d0>},\n",
       " {'query_url': 'https://legislature.maine.gov/backend/app/services/getDocument.aspx?doctype=test&documentId=10011054',\n",
       "  'bytes': <_io.BytesIO at 0x130aba890>},\n",
       " {'query_url': 'https://legislature.maine.gov/backend/app/services/getDocument.aspx?doctype=test&documentId=167564',\n",
       "  'bytes': <_io.BytesIO at 0x130adb790>},\n",
       " {'query_url': 'https://legislature.maine.gov/backend/app/services/getDocument.aspx?doctype=test&documentId=168630',\n",
       "  'bytes': <_io.BytesIO at 0x130ada9d0>},\n",
       " {'query_url': 'https://legislature.maine.gov/backend/app/services/getDocument.aspx?doctype=test&documentId=10010249',\n",
       "  'bytes': <_io.BytesIO at 0x130adb560>},\n",
       " {'query_url': 'https://legislature.maine.gov/backend/app/services/getDocument.aspx?doctype=test&documentId=168631',\n",
       "  'bytes': <_io.BytesIO at 0x130adacf0>},\n",
       " {'query_url': 'https://legislature.maine.gov/backend/app/services/getDocument.aspx?doctype=test&documentId=10010256',\n",
       "  'bytes': <_io.BytesIO at 0x130ad9da0>},\n",
       " {'query_url': 'https://legislature.maine.gov/backend/app/services/getDocument.aspx?doctype=test&documentId=10011060',\n",
       "  'bytes': <_io.BytesIO at 0x130ad91c0>},\n",
       " {'query_url': 'https://legislature.maine.gov/backend/app/services/getDocument.aspx?doctype=test&documentId=166848',\n",
       "  'bytes': <_io.BytesIO at 0x130adbfb0>},\n",
       " {'query_url': 'https://legislature.maine.gov/backend/app/services/getDocument.aspx?doctype=test&documentId=10011052',\n",
       "  'bytes': <_io.BytesIO at 0x130adb470>},\n",
       " {'query_url': 'https://legislature.maine.gov/backend/app/services/getDocument.aspx?doctype=test&documentId=167562',\n",
       "  'bytes': <_io.BytesIO at 0x130adb8d0>},\n",
       " {'query_url': 'https://legislature.maine.gov/backend/app/services/getDocument.aspx?doctype=test&documentId=167563',\n",
       "  'bytes': <_io.BytesIO at 0x130aa65c0>},\n",
       " {'query_url': 'https://legislature.maine.gov/backend/app/services/getDocument.aspx?doctype=test&documentId=166849',\n",
       "  'bytes': <_io.BytesIO at 0x130adade0>},\n",
       " {'query_url': 'https://legislature.maine.gov/backend/app/services/getDocument.aspx?doctype=test&documentId=167561',\n",
       "  'bytes': <_io.BytesIO at 0x12343ef70>},\n",
       " {'query_url': 'https://legislature.maine.gov/backend/app/services/getDocument.aspx?doctype=test&documentId=10011061',\n",
       "  'bytes': <_io.BytesIO at 0x130ad9580>},\n",
       " {'query_url': 'https://legislature.maine.gov/backend/app/services/getDocument.aspx?doctype=test&documentId=10011063',\n",
       "  'bytes': <_io.BytesIO at 0x130ad9850>},\n",
       " {'query_url': 'https://legislature.maine.gov/backend/app/services/getDocument.aspx?doctype=test&documentId=10011033',\n",
       "  'bytes': <_io.BytesIO at 0x130ada980>}]"
      ]
     },
     "execution_count": 8,
     "metadata": {},
     "output_type": "execute_result"
    }
   ],
   "execution_count": 8
  },
  {
   "metadata": {
    "ExecuteTime": {
     "end_time": "2024-10-25T01:55:37.732068Z",
     "start_time": "2024-10-25T01:55:37.344735Z"
    }
   },
   "cell_type": "code",
   "source": [
    "text = ''\n",
    "for byte_dict in pdf_byte_list:\n",
    "    reader = PdfReader(byte_dict.get('bytes'))\n",
    "    print(f\"Reading doc: {byte_dict['query_url']}\")\n",
    "    for page in reader.pages:\n",
    "        text += page.extract_text()\n",
    "text"
   ],
   "id": "7e73ec8e1c47385",
   "outputs": [
    {
     "name": "stdout",
     "output_type": "stream",
     "text": [
      "Reading doc: https://legislature.maine.gov/backend/app/services/getDocument.aspx?doctype=test&documentId=166852\n",
      "Reading doc: https://legislature.maine.gov/backend/app/services/getDocument.aspx?doctype=test&documentId=166850\n",
      "Reading doc: https://legislature.maine.gov/backend/app/services/getDocument.aspx?doctype=test&documentId=10011051\n",
      "Reading doc: https://legislature.maine.gov/backend/app/services/getDocument.aspx?doctype=test&documentId=166851\n",
      "Reading doc: https://legislature.maine.gov/backend/app/services/getDocument.aspx?doctype=test&documentId=10011054\n",
      "Reading doc: https://legislature.maine.gov/backend/app/services/getDocument.aspx?doctype=test&documentId=167564\n",
      "Reading doc: https://legislature.maine.gov/backend/app/services/getDocument.aspx?doctype=test&documentId=168630\n",
      "Reading doc: https://legislature.maine.gov/backend/app/services/getDocument.aspx?doctype=test&documentId=10010249\n",
      "Reading doc: https://legislature.maine.gov/backend/app/services/getDocument.aspx?doctype=test&documentId=168631\n",
      "Reading doc: https://legislature.maine.gov/backend/app/services/getDocument.aspx?doctype=test&documentId=10010256\n",
      "Reading doc: https://legislature.maine.gov/backend/app/services/getDocument.aspx?doctype=test&documentId=10011060\n",
      "Reading doc: https://legislature.maine.gov/backend/app/services/getDocument.aspx?doctype=test&documentId=166848\n",
      "Reading doc: https://legislature.maine.gov/backend/app/services/getDocument.aspx?doctype=test&documentId=10011052\n",
      "Reading doc: https://legislature.maine.gov/backend/app/services/getDocument.aspx?doctype=test&documentId=167562\n",
      "Reading doc: https://legislature.maine.gov/backend/app/services/getDocument.aspx?doctype=test&documentId=167563\n",
      "Reading doc: https://legislature.maine.gov/backend/app/services/getDocument.aspx?doctype=test&documentId=166849\n",
      "Reading doc: https://legislature.maine.gov/backend/app/services/getDocument.aspx?doctype=test&documentId=167561\n",
      "Reading doc: https://legislature.maine.gov/backend/app/services/getDocument.aspx?doctype=test&documentId=10011061\n",
      "Reading doc: https://legislature.maine.gov/backend/app/services/getDocument.aspx?doctype=test&documentId=10011063\n",
      "Reading doc: https://legislature.maine.gov/backend/app/services/getDocument.aspx?doctype=test&documentId=10011033\n"
     ]
    },
    {
     "data": {
      "text/plain": [
       "'\\\\ \\nD HOUSE OF REPRESENTATIVES \\n; 2 STATE HOUSE STATION \\nAUGUSTA, MAINE 04333-0002 ¢ \\n(207) 287-1400 \\nVicki Doudera TTY: MAINE RELAY 711 \\nl \\n18 Trim Street \\nCamden, ME 04843 \\n(207) 542-1990 \\nVictoria.Doudera@legislature.maine.gov \\x00\\x00\\x00\\x00\\x00\\x00\\x00\\x00\\x00\\x00\\x00\\x00\\x00\\x00\\x00\\x00\\x00\\x00\\x00\\x00\\x00\\x00\\x00\\x00\\x00\\x00\\x00\\x00\\x00  \\nTestimony of Representative Victoria Doudera on LD 19, “An Act to Authorize the \\nNational Institute of Funeral Service to Grant Associate Degrees” \\nFebruary 2, 2023 \\nGreetings Senator Rafferty, Representative Brennan, and members of the Cormnittee On_ \\nEducation and CulturalAffairs. I am Representative Vicki Doudera, and I represent House \\nDistrict 41, the towns of Camden and Rockport. I’m here today to speak in favor of LD 19, “An \\nAct to Authorize the National Institute of Funeral Service to Grant Associate Degrees. ” \\nThis bill asks that the National Institute of Funeral Service be allowed to receive degree granting \\nauthority as a post-secondary institution offering a 64 credit Associate Degree in Applied \\nScience. The bill came to me from a constituent and the first thing I did was reach out to funeral \\nservice professionals in my district, all of whom said that having a way for Maine people to \\nreceive an associate degree in this ﬁeld, here in our state, would help them and their industry. \\nWith our aging population and workforce shortage, the funeral service industry sorely needs new \\npeople going into this profession to meet the ever-growing demand. There is presently no \\nprogram based in Maine to provide this education, and this bill will make that happen. \\nMs. Tracy Lentz, who you will hear from in just a few minutes, is the driving force behind this \\neducational endeavor. You will hear in her testimony how she is diligently working to createa \\nquality program that we will all be proud of. You will hear of her qualiﬁcations, as well as those \\nof her partner, Dr. George Connick, and the steps these two very qualiﬁed educators have taken \\nfor the past two years to make this good idea a reality. \\nThis program is needed. It will be sustainable and will help address the severe shortage of \\nfuneral directors here in Maine. It will give students who take the program an entry into a well \\npaying profession that will never be short of new business. But unfortunately, due to some \\nDistrict 41: Camden and Rockportunforeseen consequences, this program is not l0O% ready at this time. It is a complicated \\nprocess 4 as well it should be — and We expect to have everything in place for ﬁnal approval by \\nthe end of May. \\nI respectfully ask that this committee remove the emergency status of this bill, and delay the \\nwork session until later in the session so that a few things can be ﬁnalized for the Department of \\nEducation. Everyone is working diligently but the fact is we just need a few more months. \\nThank you, \\nRep. Vicki Doudera \\nDistrict 41: Camden and RockportREMARKS \\nby George P. Connick, Ph.D. \\nto the \\nJoint Committee on Education and Cultural Affairs \\nregarding \\n“LD 19: An Act to Authorize the National Institute of Funeral Service \\nto Grant Associate Degrees” \\nFebruary 2, 2023 \\nGOOD AFTERNOON. \\nMy name is George Connick and my wife and I live in Freeport, Maine. \\nLet me begin with a bit of information about my background which I hope will help \\nto put in context my brief remarks. \\nMy career in higher education spans the past 65 years and the first 32 years were \\nspent here in Maine in the University System where \\nI have had the privilege of serving in a number of faculty and administrative \\ncapacities in the University of Maine System such as: \\nDirector of Academic Planning for the merger of the Portland Campus and \\nGorham State College; \\nAcademic Vice President at the University of Southern Maine; \\nPresident of the University of Maine at Augusta for 1 0 years; \\nand President of the Education Network of Maine (the University System’s \\ndistance learning network) until I retired in 1997. \\nFollowing retirement, I changed focus a bit. \\nfrom 2000 until 2006 \\nI was the Executive Director of the \\nAmerican Board of Funeral Service Education, \\nthe national accrediting organization for the 58 funeral \\neducation programs in the U.S. \\nThen, in 2006, I became the \\nExecutive Vice President of \\nAmerican Academy of Funeral Service in New York City and \\nfrom 2019 to 2021 I served as its President \\nand then I retired fully.\\n1These years of higher education experience have taught me that there are \\nessentially three major public policy issues involved in the planning of new \\neducation initiatives: \\nFirst is ACCESS. \\nWho benefits ’? \\nWho is the competition? \\nHow will it be offered \\nAnd dozens or hundreds of additional questions that must be \\nanswered. \\nSecond is QUALITY. \\nWho defines it‘? \\nHow is it measured ‘? \\nWho ensures it? \\nThird is COST. \\nWhat will it cost? \\nWho pays‘? \\nIs it worth the cost? \\nThe Self-Study that President Lentz has prepared documents in detail that \\nthese policy issues and the underlying planning and operational details have all \\nbeen addressed. \\nThe fact that she has the educational background and 25 years professional \\nexperience asa \\nFuneral Director, \\na Funeral Education Instructor, \\nand a DEAN \\nare precisely the qualifications one would look for to start a new funeral service \\nprogram. \\nFinally, from my experience as Executive Director of the accrediting \\nassociation for funeral service, I can assure you that this program is needed and \\nwill be well-received. Maine, NH and VT DO NOT have a funeral education program \\nand there are only 2 in Massachusetts and neither are easily accessible. \\nMaine will be the beneficiary of an ACCESSIBLE, HIGH QUALITY, \\nand COST EFFECTIVE new and needed associate degree program and \\nthe State of Maine won’t have to spend a dime to develop or offer it. \\nI am delighted to recommend this bill for passage so this program can begin soon.\\n2Senator Chipman, Representative Williams, and distinguished members of the Joint Standing \\nCommittee on Transportation, my name is Peggy Akers, and I am a member of Veterans for \\nPeace. Thank you for the opportunity to share my wholehearted support for naming Exit 45 in \\nSouth Portland…the Samantha Smith Way.\\nSamantha Smith left us with a gift of teaching our children the cost of any war. Imagine driving \\noff that exit and sharing the story of this brave young girl with our children, our grandchildren, \\nand all who honor a world beyond war.\\nAs a Vietnam veteran and a nurse at Seeds of Peace Camp for many years, I had the privilege of \\nmeeting so many young people from all over this country and the world who only yearned for a \\nmore peaceful world. There is a plaque and story about this young girl, Samantha Smith, on a \\ntrail at the Seeds of Peace Camp in Otisfield. We always stop and read this brave young girl’s \\nstory and feel empowered to change the world we live in now. Her story and her life should \\nnever be forgotten, and this is a special way to keep it alive.\\nMany thanks for your time. \\nSincerely,\\nPeggy Akers \\nNurse Practitioner \\nVietnam War Veteran\\nPortlandChairman Rafferty, Chairman Brennan and members of the Committee. \\nGood afternoon . My name is Tracy Lentz and I am the President of the National Institute of Funeral Service \\n(NFIS). I want to thank you for the opportunity to speak to you briefly and to answer any questions that you might \\nhave about this proposed new school in Maine ~ \\nAs representative Doudera said, I planned NIFS for over two years. lam asking to receive degree granting \\nauthority as a post-secondary institution offering a 64 credit Associate Degree in Applied Science. \\nOne might ask, whether -I am qualified to plan and implement a funeral school. Idid not do it alone.I \\nselected the board and consultants who had the experience tomake it happen. My consultant, Dr. George \\nConnick, and I both ran the largest mortuary service program in the United States. Dr. Connick was the \\nExecutive Vice President of the school for 15 years and then President for 2+ years until he retired in March \\n2021. I was the Dean of the school in charge of all academic, student and administrative services. I havea \\nMasters Degree in Higher Education and I have been a funeral director 27 years and an online and campus \\nfuneral service professor for the last 15 years. \\nBoard member Dr. Jason Altieri was the president of the second largest funeral school in the US (which \\nis in Texas). The board also includes two Maine funeral directors that will ensure that I understood Maine’s \\nuniqueness and that we serve its needs as funeral service continues to change. Everyone on the board isa \\nlicensed funeral director except the finance person. The two consultants and the registrar are long-time \\nresidents of Maine. \\nMy original application was 66‘ pages with 176 pages of follow up material (handbooks, policies, resumes, etc). After \\nmy initial meeting with the Self-Study Committee appointed by the DOE, I wrote a new document of 109 pages with more in- \\ndepth handbooks, etc. to address the DOE’s concems of quality, presence, and library/computer resources. The DOE \\nCommittee has postponed the review of these documents and has not rescheduled with me yet. But again, all \\nconcerns were addressed. \\nThe Self-Study Committee wanted a longer lease and so I renewed my lease for five years to show my \\ncommitment to Maine. Though I had a digital library in my first DOE document, the DOE wanted a physical location. \\nI agreed with the DOE and in my second document I explained in great detail that I have spoken to Bowdoin College, \\nand they are willing to let NIFS students use their library and computers under the extensive guest policy thatI \\nincluded in the document. lhave also arranged to have 3 computers in my office and will have a person in the office \\nwho will provide student support and can also proctor finals if need be. \\nThe last concern was financial backing. lhave received a $300,000 line of credit which is triple what I need, \\nbecause the American Board of Funeral Service Education (ABFSE) the national accrediting association for all 58 \\naccredited funeral service programs and institutions requires that each program, school or college have enough \\nfinancial resources to teach out any graduating class in case the school were to close. And lastlyl wanted to add \\nthat by teaching remotely, lam able to keep the tuition low to help Maine students. American Academy (AAMI) in \\nN YCis $525 a credit, FINE Mortuary College (in Boston) is $707.00 per credit, Goodwin University (in Connecticut) \\nis $760 a credit and Cape Cod Community College (Massachusetts) is $429.00 for out-of-state students. NIFS has \\nmade the tuition competitive but not overpriced at $350.00 a credit. \\nFinally, and most importantly to students, we will offer every class every semester, with 3 complete \\nsemesters a year, to ensure students can complete the program quickly If they so wish. \\nIn conclusion, not only is the program sustainable, NIFS will help to address the funeral director shortage \\nin the Northeastern states. \\nAnd now, Dr. Connick would like to briefly address the committee and then I would be happy to answer any \\nquestions that you may have. \\nThank you. \\n1/25/23 5:35 PM 1\\x00\\nI\\nI\\nI \\x00\\x00\\nl\\x00\\nT\\x00 \\nIi\\x00 \\nii \\x00\\x00\\x00\\x00\\x00\\x00\\x00\\x00\\x00\\x00\\x00\\x00\\x00\\x00\\x00\\x00\\x00\\x00\\x00\\x00\\x00\\x00\\x00\\x00\\nE\\x00 1 \\n \\n131st  Legislature  \\nSenate of \\nMaine  \\nSenate District 29 \\n \\n    \\nSenator Anne Carney  \\n3 State House Station  \\nAugusta, ME 04333 -0003  \\nOffice (207) 287 -1515  \\n \\n \\n \\nTestimony of Senator Anne Carney introducing  \\n  \\nLD 21, Resolve, Designating Maine Turnpike Approach Road in South Portland as \\nSamantha Smith Way  \\n \\nbefore the Joint Standing Committee on Transportation  \\nFebruary 21, 2023  \\n \\n \\nSenator Chipman, Representative Williams and esteemed members of the \\nCommittee on Transportation, I am Anne Carney, proudly rep resenting Senate \\nDistrict 29, which includes South Portland, Cape Elizabeth and part of \\nScarborough. It is a pleasure  to be with you today to introduce LD 21, Resolve, \\nDesignating Maine Turnpike Approach Road in South Portland as Samantha Smith \\nWay.  \\n \\nThis legislation seeks to direct the Department of Transportation to designate \\nMaine Turnpike Approach Road from Route 1 to the Maine Turnpike in the City of \\nSouth Portland as Samantha Smith Way. Maine Veterans For Peace brought this \\nproposal forward, and they  are hear today to  express the importance of recognizing \\nthis young goodwill ambassador and peace  activist .  \\n \\nSamantha Smith  became an  advocate for peace during a time of great tension \\nbetween the US and the USSR. In the fall of 1982, 10 year old Samantha,  a fifth -\\ngrader at Manchester Elementary School , read a Time magazine story about Soviet \\nleader  Yuri Andropov and the threat of nuclear war. She asked her mother: \"If \\npeople are so afraid of him, why doesn\\'t someone write a letter asking whether he \\nwants t o have a war or not?\" Her mother replied, \"Why don\\'t you?\"  \\n \\nHere is the letter she wrote:   2 Dear Mr. Andropov,  \\n \\nMy name is Samantha Smith. I am 10 years old. Congratulations on your \\nnew job. I have been worrying about Russia and the United States  getting \\ninto a nuclear war. Are you going to vote to have a war or not? If you aren\\'t \\nplease tell me how you are going to help to not have a war. This question \\nyou do not have to answer, but I would like it if you would. Why do you \\nwant to conquer t he world or at least our country?  God made the world for \\nus to share and take care of. Not to fight over or have one group of people \\nown it all. Please let’s do what he wanted and have everybody be happy too.  \\n \\nSamantha Smith  \\n \\nShe did not receive a response , so she wrote to Soviet ambassador to the United \\nStates  Anatoly Dobrynin  asking if Yuri Andropov intended to respond. Due to her \\npersistence, Samantha received a reply and an invitation to visit the Soviet Union \\nin the summer of 1983  as the guests of the Soviet leader . She and her parents spent \\ntwo weeks traveling in the Soviet Union, getting to know children and adults in \\nmany parts of that country.  \\n \\nHer kind, direct and inquisitive nature, contagious optimism , and genuine interest \\nin learning about other s, created a bond between everyday people in the two \\nnations, and inspired many to believe war between the two superpowers could be \\naverted. Through her bold action, Samantha inspired Maine children and many \\nadults as well to speak up on issues of importan ce in their lives.  \\n \\nShe died just two years later, in a plane accident. A memorial statue of Samantha \\nSmith stands just outside the Maine State Museum, about 100 yards from this \\ncommittee room.  \\n \\nToday we ask the committee to pass LD 21. Naming a well -traveled approach \\nramp a fter Samantha Smith will preserve the memory of this remarkable young \\nMainer and, I hope, inspire great conversations on family road trips about the \\nimportance of speaking up for what you believe in and believing you can make the \\nworld a better place.  \\n \\nThank you for your consideration. I’m happy to answer your questions.  \\n \\nAnne Carney  \\nState Senator, District 29  Senator Chipman, Representative Williams, and distinguished members of the Joint Standing \\nCommittee on Transportation, my name is Eric Herter, and I am here today to testify in favor of \\nLD 21. It is highly appropriate, at this moment of intense hostility between Russia and the United \\nStates, and when threat of nuclear war is higher than any time since the 1962 Cuban missile \\ncrisis, that we honor the memory of Maine\\'s brave daughter, Samantha Smith. \\nAged ten in 1982, she wrote Soviet leader Yuri Andropov telling of her concern about possible \\nnuclear war, and asking whether his country sought war or peace. His three-page response \\nstressed Russia\\'s desire for peace, and invited Samantha to come see for herself. Thus, in mid- \\n1983, at a moment of high tension between Russia and the US, 1 1-year-old Samantha visited \\nRussia for two weeks with her parents, receiving much publicity as a cheerful and kindhearted \\nambassador for peace. \\nWe need such an ambassador today! \\n(A personal note: the memory of Samantha Smith may have been whispering in our ears when \\nmy wife and I named our ﬁrst-born \"Samantha.\") \\nThank you for your time. \\nSincerely, \\nEric Heiter \\nVeterans for Peace1;. >(’ \\nHOUSE OF REPRESENTATIVES \\n3 2 STATE HOUSE STATION \\nAUGUSTA, MAINE 04333-0002\\nD\\nM I -. ‘\" \\n-,,_ \\n3+5 (207) 287-1400 \\nBruce White TTY2 MAINE RELAY 71l \\nl Silvermount Street \\nWatewille, ME 04901 \\nPhone: (207) 660-8722 \\nBruce.White@legislatu1\\'e.1naine.gov \\nTestimony of Rep. Bruce White introducing \\nLD 17, An Act to Amend the Membership Requirements of the State Claims \\nCommission \\nBefore the Joint Standing Committee on Transportation \\nSenator Chipman, Representative Williams, and fellow members of the Joint Standing \\nCommittee on Transportation, I am Bruce White, State Representative from District 65 which \\nincludes part of Waterville. I am before today to present LD 17, An Act to Amend the \\nMembership of the State Claims Commission on behalf of the Maine Department of \\nTransportation. \\nLD 17 is a department bill and proposes changes to the composition of the Maine State Claims \\nConnnission. The primary responsibility of the State Claims Commission is to assure that the \\nrights of property owners are protected in cases where Maine DDT has taken property for \\nhighway purposes. The board is comprised of ﬁve members total, two of whom are required to \\nbe certiﬁed real estate appraisers. This bill proposes changes to those two real estate appraiser \\npositions only. \\nMaineDOT is here today to further explain the need for this bill, and I will at this time defer to \\nthem. Thank you and I would be happy to try and answer questions the committeehas, although \\nany questions are likely better suited for the department. \\nDistrict 65: Waterville (part)State of Maine      \\nSTATE BOARD OF EDUCATION\\nTestimony of Fern Desjardins, Chair of the Maine State Board of Education\\nNeither For Nor Against: L.D. 19\\nAn Act to Authorize the National Institute of Funeral Services to Grant Associate Degrees\\nBefore the Joint Standing Committee on Education and Cultural Affairs\\nEmergency Bill\\nIntroduced by: Representative Doudera\\nDate: February 2, 2023\\nSenator Rafferty, Representative Brennan, and Honorable Members of the Joint Standing \\nCommittee on Education and Cultural Affairs:\\nMy name is Fern Desjardins, Chair of the Maine State Board of Education. I am here to speak \\nNeither For Nor Against L.D. 19 An Act to Authorize the National Institute of Funeral Services \\nto Grant Associate Degrees.  \\nThe Maine State Board of Education is not against L.D. 19, but we are concerned with the timing \\nof the bill.  Rule 05-071, CMR 149 clearly identifies the procedures to be followed by a \\npostsecondary institution that seeks to offer any course or programs for which academic credit is \\ngranted or to confer a degree at the Associate level or higher in Maine.  The process starts with \\nthe officials of the applicant institution of higher education notifying the Commissioner of \\nEducation of their intent to obtain legislative authorization to confer a degree at the Associate \\nlevel or higher at least six months prior to the start of a legislative session.  The Commissioner \\nthen follows the steps outlined in Chapter 149 and officials of the applicant institution of higher \\neducation prepare a report providing in-depth information about the institution with attention to \\norganization and governance, institutional objectives, degree requirements, admission \\nrequirements, and a number of other areas identified in the Rule.  Once the report is received, the \\nCommissioner forms a Review Committee authorized to review and evaluate the submitted \\nmaterial and to conduct on-site visits when applicable.  The committee consists of individuals \\nwho are representative of Maine’s institutions of higher education and 1-2 “Observers” from the \\nMaine State Board of Education.  \\nThe Review Committee prepares a draft report detailing the facts based upon their review and \\nthey include a recommendation as to whether the request for degree granting should be \\nauthorized.  Once the accuracy of the facts in the report is determined, the final report and recommendation are forwarded to the Commissioner of Education and President of the applicant \\ninstitution.  Chapter 149 is clear in the next step, which is “At this time, officials of the applicant \\ninstitution will be notified concerning their responsibility to obtain a bill sponsor and to take the \\nnecessary steps to get a bill drafted and filed in preparation for legislative action.”  \\nHere we are today faced with a bill but no Review Committee report because of a number of \\ncircumstances that changed the timeline for the review of the National Institute of Funeral \\nServices (NIFS).  As Chair of the State Board I postponed the most recent NIFS review \\nscheduled for January 20 because we lacked having a liaison, the Department of Education’s \\nDirector of Higher Education and Educator Support Services, to work with the Review \\nCommittee.  \\nThe final step in the procedure for obtaining initial degree authorization and approval is for the \\nState Board of Education to make a recommendation on the request and to transmit it to the Joint \\nStanding Committee on Education and Cultural Affairs and to notify the President of the \\napplicant institution of the action.  \\nThe State Board is not ready for that recommendation because we have not completed the review \\nprocess.  A Review Committee was formed and they are well into a review of the submitted \\nmaterials and the application of standards for evaluating requests as adopted in Rule 05-071 \\nCMR 170.  They need to finish that process and move forward with plans for a virtual review. \\nTherefore, I ask that you allow for the additional time needed for us to follow the procedures \\noutlined in Chapter 149 so that the Review Committee can carry out its responsibilities with due \\ndiligence.  The DOE informed me on January 31 that they have hired a Director of Higher \\nEducation and Educator Supports.  We hope to get the review process going soon with additional \\nsupports being put in place.  \\nYou control the fate of this bill.  It is within your authority to proceed and grant NIFS the right to \\noffer a degree in funeral services even if the DOE and State Board have a statutory process in \\nplace.  However, after the review takes place and the Commissioner forwards the final report and \\nrecommendation for action to the State Board of Education, the Board will ultimately take final \\naction on the request by NIFS.  I think that the need for funeral services in Maine could be more \\neffectively met if we worked together by following the procedures in Chapter 149 that have \\nserved us well.    \\nAgain, the State Board of Education is Neither For Nor Against L.D. 19 An Act to Authorize the \\nNational Institute of Funeral Services to Grant Associate Degrees.  But delaying the work \\nsessions and having the bill work in tandem with the procedures for obtaining initial \\nauthorization and approval would serve us best.  \\nThank you for this opportunity to comment.\\nI would be happy to answer any questions the Committee may have.  The State Board will be \\navailable for work sessions on this bill.r STATE or MAINE \\nDEPARTMENT or TRANSPORTATION \\n.»s- oi 16 STATE HOUSE STATION \\nC ‘ AUGUSTA, MAINE 04333-0016 \\nJanet T. Mills Bruce A. Van Note \\nGOVERNOR COMMISSIONER \\nMarch 15, 2023 \\nTestimony of Meghan Russo \\nMaine Department of Transportation \\nBefore the 131“ Legislature, Joint Standing Committee on Transportation \\nPresenting LD 17 \\nAn Act to Amend the Membership Requirements of the State Claims Commission \\nSenator Chipman, Representative Williams, and distinguished members of the Joint Standing \\nCommittee on Transportation, I am Meghan Russo, Manager of Legislative and Constituent \\nServices at MaineDOT. I am before today to present LD l7, An Act to Amend the Membership \\nof the State Claims Commission. \\n23 MRSA §l52 outlines the membership of the Maine State Claims Commission. The State \\nClaims Commission, which is under the jurisdiction of the Department of Administrative and \\nFinancial Services, was established to ensure that the rights of property owners and/or interested \\nparties are protected and just compensation is awarded whenever MaineDOT purchases private \\nproperty. The current membership of the commission includes ﬁve total members, two of whom \\nare required to be certiﬁed real estate appraisers, two attorneys-at-law, and the ﬁfth member is \\nappointed for each hearing from the county where the land taken lies within. This bill would \\nmake changes to the two certiﬁed real estate appraiser-members of the commission only. \\nLD 17 proposes to change the requirement that the two appraiser-members of the commission \\nhold active real estate appraisal licenses. Instead, it would allow individuals to be appointed who \\nhave held an active license within ﬁve years of their appointment. Allowing for this change will \\nallow for a wider net to be cast in recruitment for potential membership to the Commission. \\nThe State Claims Commission receives approximately 250 to 300 new cases per year. While 50 \\nto 60 percent of these total cases are administratively settled before or on the date of the \\nscheduled hearing by the Commission, the process of serving on the commission can be \\nconsidered daunting for an individual with a busy real estate appraiser career. Because of this it \\nhas proven difﬁcult at times to ﬁnd candidates Willing to serve. Making this change in statute \\nwould allow a recently retired real estate appraisers or an individual who has let their license \\nTHE MAINE DEPARTMENT OF TR/\\\\NSPOR ’lATION IS AN AFFlRl\\\\\\'lA\\'l ‘lV[I ACTION - EQUAL OPPOR\\'I‘UNlT\\\\\\' EMPLOYER \\nPHONE: (207) 624-3000 T’l\\\\ USFRS CALL MAINE RELAY 711 [\"1\\\\X:(Z07) ﬁZ4-3001\\x00lapse to serve on the commission. These would be individuals who have the experience and \\nexpertise that the State Claims Commission needs, but have decided for one reason or another \\nnot to keep their appraiser license. Requiring that the individual must have had an active license \\nwithin ﬁve years of their Commission appointment will ensure that the candidate is well versed \\nin real estate appraisal law and activities. \\nWe urge the committee to vote favorably on LD 17 and would be happy to answer any questions \\nor bring additional information to the work session. \\nl‘HE MAINE DE!’/\\\\R\\'l\"Ml3.N ’1‘()F \\'i\\'RAl\\\\‘SP()R\\'l‘A’l‘l()N IS AN l\\\\w1m1»\\\\\\'1\\':\\\\\\'u ACTION - EQUAL ()PPOR’I‘UNlTY EMPLOYER \\n’H0NE1(207)634-3000 TTY usnns CALL MAINE RELAY 711 FAX: (207) 624-1:001STATE OF MAINE  \\nDEPARTMENT OF EDUCATION  \\n23 STATE HOUSE STATION  \\nAUGUSTA, ME  04333 -0023  \\n \\n \\nJANET T. MILLS                                                                                                                                                                    PENDER MAKIN  \\n              GOVERNOR                                                                                                                                                                              COMMISSIONER  \\n \\n \\nOFFICES LOCATED AT THE BURTON M. CROSS STATE OFFICE BUILDING                          AN EQUAL OPPORTUNITY EMPLOYER  \\nPHONE (207)  624-6600     FAX:  (207) 624 -6700     TTY USERS CALL MAINE RELAY 711                                     ONLINE:  WWW.MAINE.GOV/DOE  \\n \\n \\nFebruary 2, 2023  \\n \\nSenator Rafferty , Senate Chair  \\nRepresentative Brennan , House C hair \\nMembers of the Joint Standing Committee on Education and Cultural Affairs  \\n \\nSenator Rafferty , Representative Brennan , and Distinguished Members of the Education and \\nCultural Affairs Committee:  \\nLD 19, An Act to Authorize the National Institute of Funeral Service to Grant Associate Degrees  \\n(EMERGENCY ), authorizes the National Institute of Funeral Service to grant the degree of \\nAssociate of Applied Science in Funeral Service in Maine.   \\nThe MRS , Chapter 409 , Degree -Granting Institutions , §10704 Initial authority to confer certain \\ndegrees and §10706-A For-profit college and university re view apply in this situation.  The \\nNational Institute of Funeral Service , an online for -profit college,  is currently in the approval \\nprocess as described in Maine Department of Education Rule Chapter 149 , Procedures for \\nObtaining Authorization for Institutions of Higher Education to Confer Academic Degrees or to \\nOffer Degree Courses/Programs in the State of Maine .  The Department supports the State \\nBoard in this process.  The approval process is not expected to conclude until at least  June of this \\nyear.   \\nThe Department will be available to provide additional information  on LD 19 and respond to  any \\nquestions during the upcoming work session.  \\n \\n \\nSincerely,  \\n \\n \\n \\nCourtney Belolan  \\nDirector of Policy & Government Affairs  \\nMaine Department of Education  \\n \\nDocuSign Envelope ID: A8B5E3F8-E748-44EB-9589-75D8B9558E53\\nCertificate Of Completion\\nEnvelope Id: A8B5E3F8E74844EB958975D8B9558E53Status: Completed\\nSubject: Complete with DocuSign: LD 19 Informational Letter.docx\\nSource Envelope: \\nDocument Pages: 1Signatures: 1Envelope Originator: \\nCertificate Pages: 1Initials: 0Danielle Mckay\\nAutoNav: Enabled\\nEnvelopeId Stamping: Enabled\\nTime Zone: (UTC-05:00) Eastern Time (US & Canada)Danielle.Mckay@maine.gov\\nIP Address: 74.75.212.153  \\nRecord Tracking\\nStatus: Original\\n             2/2/2023 9:00:05 AMHolder: Danielle Mckay\\n             Danielle.Mckay@maine.govLocation: DocuSign\\nSecurity Appliance Status: ConnectedPool: StateLocal\\nStorage Appliance Status: ConnectedPool: Maine Department of EducationLocation: DocuSign\\nSigner Events\\nSignature\\nTimestamp\\nCourtney Belolan\\ncourtney.belolan@maine.gov\\nDirector of Policy & Government Affairs\\nSecurity Level: Email, Account Authentication \\n(None)\\n \\nSignature Adoption: Pre-selected Style\\nUsing IP Address: 198.182.163.121\\nSent: 2/2/2023 9:03:01 AM\\nViewed: 2/2/2023 9:14:43 AM \\nSigned: 2/2/2023 9:15:03 AM\\nElectronic Record and Signature Disclosure: \\n      Not Offered via DocuSign\\nIn Person Signer Events\\nSignature\\nTimestamp\\nEditor Delivery Events\\nStatus\\nTimestamp\\nAgent Delivery Events\\nStatus\\nTimestamp\\nIntermediary Delivery Events\\nStatus\\nTimestamp\\nCertified Delivery Events\\nStatus\\nTimestamp\\nCarbon Copy Events\\nStatus\\nTimestamp\\nWitness Events\\nSignature\\nTimestamp\\nNotary Events\\nSignature\\nTimestamp\\nEnvelope Summary Events\\nStatus\\nTimestamps\\nEnvelope SentHashed/Encrypted2/2/2023 9:03:01 AM\\nCertified DeliveredSecurity Checked2/2/2023 9:14:43 AM\\nSigning CompleteSecurity Checked2/2/2023 9:15:03 AM\\nCompletedSecurity Checked2/2/2023 9:15:03 AM\\nPayment Events\\nStatus\\nTimestampsPeter O\\'Brien\\nFryeburg\\nLD 21\\nGreetings.\\nI\\'m writing to support the proposed renaming of exit 45, the “Maine Turnpike \\nApproach” in SOPO to, “Samantha Smith Way.” Recognizing a child pursuing peace \\nis the right thing to do.\\nRegards,\\nPeter O\\'Brien\\nFryeburg, Maine HOUSE OF REPRESENTATIVES \\n“Q; .5 \\n1; 2 STATE HOUSE STATION \\nAUGUSTA, MAINE 04333-0002 \\n(207) 237-1400 \\nJanice Dodge TTY: (207) 2237-4469 \\n17 Vine St \\nBelfast, ME 04915 \\nPhone: (207) 338-1626 \\nJanice.Dodge@les1islature.mainegov \\nFebruary 2, 2023 \\nTestimony of Rep. Jan Dodge presenting \\nLD 15, An Act to Amend the Law Governing the State Grant Program Administered by the Maine \\nHistoric Preservation Commission \\nBefore the Joint Standing Committee on Education and Cultural Affairs \\nGood afternoon, Senator Rafferty, Representative Brennan and esteemed colleagues of the Education and \\nCultural Affairs Committee. My name is Jan Dodge and I represent House District 39, which includes Belfast, \\nNorthport and Belmont. \\nI am before you today to present LD 15, An Act to Amend the Law Governing the State Grant Program \\nAdministered by the Maine Historic Preservation Commission. \\nThis bill proposes to bring language in Sec. 1. 27 MRSA 505, sub. 2, D to be in line with federal language and \\nincludes changing the word “st1ucture(s) ” to property and changes around the words rehabilitation rather than \\nrestoration. The Ofﬁce of Fiscal and Program Review has determined there is no ﬁscal note attached to this bill. \\nI would ask that you direct your questions to Mr. Kirk Mohney of the Maine Historic Preservation Commission. \\nHe has requested this legislation and has worked with the Govemor’s ofﬁce on the requested changes. \\nThank you! \\nDistrict 39: Belfast, Belmont & Northport\\x00Senator Chipman, Representative Williams, and distinguished members of the Joint Standing \\nCommittee on Transportation, my name is Douglas Rawlings, President of the Maine Chapter of \\nVeterans for Peace, I would like to add my voice to my fellow Mainers who are advocating for a \\nroadway to be named after Maine\\'s own Samantha Smith. Not only is this an honor well-\\ndeserved for a family that has seen their loved one taken from them at an early age; it is also a \\ntestament to the power of young people\\'s voices. In this day and age of \"generation gaps,\" \\nwouldn\\'t it be wonderful if people of my generation (I am a so-called \"boomer\") could align with \\nyounger people (\"Generation Z\") to celebrate the life of a true peace activist? As a teacher of \\nPeace Studies at the University of Maine at Farmington, I have witnessed young people\\'s \\neagerness to engage in conversations that are not rife with rancor as a means to advance the \\ncause of peace. What better way to do this than to acknowledge the power of Samantha Smith\\'s \\nexample?\\nAnother benefit to having the Samantha Smith Way in place would be to send a strong signal to \\nthe thousands of visitors our great state welcomes each year. Imagine a family visiting from, say, \\nIowa, when, upon seeing this sign with a girl\\'s name on it, asking: \"Who\\'s she?\" Ah, then the \\nconversation begins as all on board start doing their research. What a gift to give from our state \\nto theirs. Finally, I have to say as a veteran who has been to war it would be a real honor to have \\nour state establish a \"peace memorial\" to recognize one of our own as opposed to another war \\nmemorial. Once again, Maine could lead the way. Dirigo! \\nThank you for your time.\\nSincerely,\\nDoug Rawlings\\nVFP Maine Chapter President STATE or MAINE \\n/ 3 DEPARTMENT or TRANSPORTATION \\n1 16 STATE HOUsE STATION \\'su\\'*~‘\\n» __\\'i \\nll $3. AUGUSTA, MAINE 04333-0016 \\nll °: \\nFebruary 21 20239 \\nJanetT Mills Bruce A Van Note \\nGOVnF€NOP. COMMlSSlONEF§ \\nTestimony of Meghan Russo \\nMaine Department of Transportation \\nBefore the 131\"‘ Legislature, Joint Standing Committee on Transportation \\nNeither For Nor Against \\nLD 21 \\nResolve, Designating Maine Turnpike Approach Road in South Portland as \\n. Samantha Smith Way \\nSenator Chipman, Representative Williams and distinguished members of the Joint \\nStanding Committee on Transportation, I am Meghan Russo, Legislative Liaison for the \\nMaine Department of Transportation. MaineDOT is neither for nor against LD 21, \\nResolve, Designating Maine Turnpike Approach Road in South Portland as Samantha \\nSmith Way, and normally does not testify on bills that name roads and bridges, but \\nbecause this is the ﬁrst such bill in this Legislature, we hope that an overview of past \\npractice regarding such bills will be helpful. \\nMaineDOT considers the naming of bridges, roadways, and other state transportation \\ninfrastructure to be within the purview of the Legislature. Simply put, we build them and \\nyou name them. Accordingly, we generally do not take positions on so-called “naming \\nbills.” However, we usually submit written testimony regarding whether the particular \\ninfrastructure under consideration has been named before, and if so what those name(s) \\nare. In this case, we are not aware of any previous legislatively-sanctioned names for this \\nsection of roadway. \\nWe also note that the Committee historically has asked sponsors of naming bills to \\nproduce written evidence of support for the proposed name from the mtmicipality or \\nmunicipalities in which the infrastructure is located. This avoids some local issues that \\nhave prompted renaming bills in the past. \\nWe hope this information is helpful. In the future, we will simply submit written \\ntestimony on bills that seek to name roads and bridges. Thank you for your time. I am \\nhappy to answer any questions you may have. \\n### \\n{HF MAlNE I)EP1\\\\R\\'I ‘MFNT OP TRANSFURI ‘/\\\\\\'llO]\\\\\\' IS AN AFFlRMA‘l‘i\\\\’l AKTION - EQUAL OlIOR\\'lUNl\\'T ‘Y TMIIOXFR \\nPHONI‘ (Z07) 624-3000 TF1 USPRS (All MAINE RElz\\\\‘\\\\ 711 FA}1:{2O7) ZlSenator Chipman, Representative Williams, and distinguished members of the Joint Standing \\nCommittee on Transportation, my name is Donald W. Kimball, Jr., and I live in South Portland. I \\nam a veteran of the USAF where I served in the Strategic Air Command from 1977-1981 at the \\nformer Pease AFB in NH. I have been a member of Veterans For Peace for twenty years, and am \\nproud to be part of this world-wide group of veterans and their supporters many of whom know \\nthe true costs of war. I\\'m also very proud to be speaking today to advocate for the proposed \\nSamantha Smith Way in South Portland, As many of you know, Maine\\'s \"Littlest \\nDiplomat “ would have been 50 years old this year had her life not been cut tragically short bya \\nplane crash in 1985 in which she and her father Arthur were killed. Samantha\\'s work for peace \\nand understanding between the people of Russia and the United States is never more important \\nthan today as the war in Ukraine brings the world closer to a nuclear holocaust than any time \\nsince the Cuban Missile Crises in 1962. \\nFrom personal experience, I know how close we have come to nuclear war before. While \\nstationed at Pease AFB on November 9, 1979, We came close to launching our alert force of \\nnuclear-armed FB-111\\'s due to a false alarm. Our role back then was one of deterrence, the US \\nwould not strike ﬁrst, but only in response to a launch from an adversary. That Sunday \\nmorning, we received a launch alert from SAC headquarters. A computer error had shown that \\nthe Soviet Union had launched over 2,000 missiles at the US. As the klaxons sounded the alarm \\nand the windows rattled in base housing from the pilots ﬁring up the alert force for takeoff, I \\nknow nuclear war is a REAL possibility. Now more than ever, we need to remember Samantha \\nand her efforts for peace and understanding between our two great nations. Veterans for Peace \\nbelieves there is perhaps no better way to remember Maine\\'s own daughter for peace than to \\nname the connector road off Exit 45 in South Portland “Samantha Smith Way.” When this most \\nﬁtting project is completed, millions of travelers every year will then travel the Samantha Smith \\nWay. \\nThanks to Senator Anne Carney and legislative aide Sam Baker for initiating this legislation, and \\nto this committee for considering it. \\nSincerely, \\nDon Kimball \\nVeterans for Peace \\nSouth Portland» Yresen, \\n\\\\~,‘>‘(\\\\b Q96 ‘V *2 \\n*97z»2o¢¥ \\nlanuary Z7, 2023 \\n]oint Standing Committee on Education and Cultural Affairs \\nHouse of Representatives \\n131“ Maine Legislature \\nIOO State House Station Maine Preservation \\n\"t P.O. Box 488 \\ngr Yarmouth, ME 04096 \\ni \\nwww.mainepreservation.org \\nAugusta, ME 04333 \\nTo WhOl11 it May Concern: \\nMaine Preservation is a statewide non rofit or anization dedicated to romotin and P g P g \\npreserving historic places, buildings, downtowns, and neighborhoods, strengthening \\nthe cultural and economic vitality of Maine communities. \\nAn Act to Amend the Law Governing the State Grant Program Administered by the \\nMaine Historic Preservation Commission (HPI9/LD15) presented by Representative \\n]anice Dodge of Belfast makes minor technical changes to the language of the statute \\nregarding the state restoration grant program. Wl1il€ minor, these changes are needed \\nto align the language of the grant program with current historic preservation \\nterminology that has evolved in federal guidelines and in practice. The proposed \\nlegislation would also eliminate a clause in the grant requiring the State to havea \\nright of first refusal as part of easements it acquires. This stipulation wasa \\nrequirement of federal preservation grant funding that is no longer required by the \\nNational Park Service \\nFor these reasons, Maine Preservation supports passage of HP 19/ LD15. \\nSincerely, \\nTara Kelly \\nExecutive Director 0 OFFICERS \\nCale Pickford, President \\nLincolnville \\nDan Walsh, Vice President \\nFalmouth \\nElizabeth Henshaw, Secretary \\nCamden \\njames Brady, Treasurer \\nPortland \\njohn L. Carpenter, Clerk \\nNorth Yarmouth \\nTRUSTEES \\nSusan Axelrod, Woolwicli \\nRick Bisson, Woolwich \\nR. Tobey Scott, South Freeport \\nScott Stevens, Cape Neddick \\nArron Sturgis, Berwick \\nCyndy Taylor, Scarborough \\nADVISORY \\nTRUSTEES \\nEleanor G. Ames, Portland \\nDeborah Andrews, Yanuouth \\nNancy L. Barba, Portland \\n]udith E. Barrington, Bath \\nPaul Becker, Yarmouth \\nIosh Benthien, Cape Elizabeth \\nSusan E. Burns, Falmouth \\nAndrea Hurd Burns, Norway \\nRichard M. Candce, York \\n]. Donald Cyr, Lille-sur-St. Jean \\nIames M. Day, Castine \\nPauline Dion, East Bootlibay \\nHarland Eastman, Springuale \\nLucy Foster Flight, Cape Elizabeth \\nLes Fossel, Alna \\nHugh French, Eastport \\nChristopher Glass, Camden \\nWilliam Hall, Peaks Island \\nThomas L. Hinkle, Portland \\nThomas johnson, Bath \\nErik Iorgensen, Portland \\nKurt Klebe, Falmouth \\nTheodore S. Koffman, Portland \\njohn C. Leeke, Portland \\nMarc Liberman, Bryant Pond \\nCarolyn Lockwood, Bath \\nAnn Miller, Castine \\nHolly Mitchell, Portland \\nAnne Niles, South Freeport \\nSally Oldham, Portland \\nAlison Prawer, Boothbay Harbor \\nMichael Pullen, Hampden \\nEarle Shettleworth, Jr, Hallowell \\nSusan Snead, Camden \\nDeborah Thompson, Bangor \\nMatthew Tonello, Scarborough \\nHans Underdahl, Yarmouth \\nCynthia Wheelock, Portland \\nRick Whiting, AuburnTestimony of Cecelia Smith \\nIn Support of LD 21 \\nResolve, Designating Maine Turnpike Approach Road in South Portland as Samantha Smith Way \\nFebruary 21, 2023 \\nMe, my mother, and my Chesapeake Bay Retriever sitting in our kitchen, listening to Michael Jackson, \\ntrying to una’erstana\\' why our country might get blown up at any second. \\nSenator Chipman, Representative Williams, and members of the Joint Standing Committee on \\nTransportation, my name is Cecelia Smith, I live in Brunswick Maine and today I am testifying in \\nsupport of LD 21. \\nRecently, the 8\"‘ graders at Brunswick Junior High did a project in which we chose an American who \\nhas changed our countiy’s history for the better, researched their accomplishments, wrote a speech, \\ndressed up and ﬁnally presented to the lower grades as them. For this project, I chose Samantha Smith. \\nThe above quote was the start of my speech. \\nIn my research, I learned many things about America’s youngest ambassador and littlest diplomat, \\nincluding her main accomplishments of writing a letter to the Soviet Premiere at the age of 10. Visiting \\nthe Soviet Union to learn about and befriend Soviet children during the cold war and spreading her \\nmessage through an autobiography and media appearances such as the Tonight Show with Johnny \\nCarson and Good Morning America. \\nI would also like to point out that the Maine Turnpike Approach Road that this bill designates as \\nSamantha Smith Way is a place where many tourists drive. This may show a nice aspect of Maine’s \\nhistory to them. I don’t know about most families, but mine would certainly Google her in that \\nsituation. I also know people who, having grown up with her or in Maine at the same time as her, would \\nsmile to see her being remembered when they drove by. \\nHer efforts helped lead to better relations between our nations and many others, which inspired children \\nacross the country. \\nNaming this approach road after her would continue her legacy and further her message, in a time very \\nsimilar to hers. \\nThank you for taking the time to listen to my testimony today, I would be happy to answer any questions \\nyou may have.Peter Morgan, Jr.\\nRaymond\\nLD 21\\nRegrettably, Samantha Smith will always be remembered as a bold thirteen year old \\ngirl with a great concern for the world around her. \\nAs a peace activist her leadership can inspire young people to pursue communication \\nand conflict resolution in their future lives and careers. \\nWe should promote such goals by empowering such a message; it should be \\nremembered and shared.\\nThe renaming of exit 45, the “Maine Turnpike Approach” in South Portland, to \\n“Samantha Smith Way” would be a suitable effort toward that end.\\nThanks for your support,\\nPeter S. Morgan, Jr.\\n8 Bridges Lane\\nRaymond, Maine  04071\\n207.655.1272\\nUSCG active duty veteran / service \\'69 - \\'73\\nhttps://en.wikipedia.org/wiki/Samantha_Smith   Robert Shetterly\\nAmericans Who Tell the Truth\\nLD 21\\nI\\'m writing in support of naming Exit 45 of the Maine Turnpike approach to South \\nPortland Samantha Smith Way. \\nI doubt that you need any introduction to the special significance of Samantha in \\nMaine history, but it is far more than is usually thought or taught.\\nMy organization, Americans Who Tell the Truth, bases its education program for \\nmiddle school students around the state on Samantha, what we call the Samantha \\nSmith Challenge.\\nhttps://americanswhotellthetruth.org/programs/education/samantha-smith-challenge/  \\nWe challenge students to act for the common good with Samantha as a model --- \\nchoosing an issue they are passionate about, or anxious about, researching it, \\nengaging with organizations already working on it, and making a difference, \\nbecoming spokespeople for the issue.\\nSamantha\\'s trajectory from anxiety about nuclear war to teaching adults how to think \\nabout making peace is the trajectory we want our students to model their citizenship \\non. She taught us all a lesson we need to be taught again & again --- how easily and \\ndangerously we dehumanize others when we are encouraged to fear them and see \\nthem as less than human, and then how easily that fear can be dispelled by sanity and \\ncourage --- even that of an eleven year old.\\nWe can\\'t remind children and adults too often of the necessity of courage and \\ncompassion in solving our urgent problems. And honoring Samantha is a perfect way \\nto do it.\\nSincerely,\\nRobert Shetterly\\nAmericans Who Tell the Truth, Founder \\n \\nLaurie Osher, PhD  \\n13 Mayo Street  \\nOrono, ME 04473  \\nPhone:   (207) 944 -6743 \\nLaurie.Osher@legislature.maine.gov  HOUSE OF REPRESENTATIVES  \\n2 STATE HOUSE STATION  \\nAUGUSTA, MAINE   04333 -0002  \\n(207) 287 -1400  \\nTTY: MAINE RELAY 711  \\n \\n \\n \\nFebruary 12, 2023  \\nTestimony of Representative Laurie Osher in support of  \\n LD 21: Resolve, Designating Maine Turnpike Approach Road in South \\nPortland as Samantha Smith Way  \\nBefore the Joint Standing Committee on Transportation  \\n \\nSenator Chipman, Representative Williams and ho norable members of the Transportation \\nCommittee, I am Representative Laurie Osher from Orono. Thank you for providing me the \\nopportunity to express my support for LD 21: Resolve, Designating Maine Turnpike \\nApproach Road in South Portland as Samantha Smith Way.  \\n \\nSamantha Smith’s conviction and strength is an important story of how individual citizens’ \\nactions are valuable to changing perceptions and policy.  Samantha Smith played a role in the \\ndeescalation of the Cold War, and in doing so, she modeled the i mportance of communicating \\nwith those we fear and making friends with people who we imagine to be so different from \\nourselves.  \\n \\nI thank Senator Carney for introducing this bill so that we can memorialize this young Mainer.   \\n \\nIn 1982, 10 -year-old Samantha  Smith wrote a letter to the Soviet Union’s General Secretary Yuri \\nAndropov.  Her letter began, “I have been worrying about Russia and the United States getting \\ninto a nuclear war. Are you going to vote to have a war or not? If you aren\\'t, please tell me h ow \\nyou are going to help to not have a war.”  General Secretary Andropov replied to her: “We want \\npeace for ourselves and for all peoples of the planet. For our children and for you, Samantha.” \\nHe invited her and her parents to visit the Soviet Union and t o attend the international children\\'s \\ncamp – Artek – on the sea. She wrote a book about her experience entitled “My Journey to the \\nSoviet Union.”  \\n \\nEven before her visit to the Soviet Union in the summer of 1983, the young Mainer Samantha \\nSmith became famou s for her appearances on TV talk shows.  She shared her plain -spoken \\nwisdom with viewers around the country and the world. She was often introduced as the United \\nStates’ youngest ambassador.  After her trip to the Soviet Union, she was invited to Japan, wh ere \\nshe met with Prime Minister Yasuhiro Nakasone and attended the Children\\'s International \\nSymposium in Kobe.  In her speech at the symposium in Japan, she proposed that Soviet and \\nAmerican leaders exchange granddaughters for two weeks every year, suggest ing that a president \\n“wouldn\\'t want to send a bomb to a country his granddaughter would be visiting.”  \\n \\nIn Orono, the University of Maine has already honored Samantha Smith by naming a dormitory \\nafter her in its Doris Twitchell Allen Village residential com munity.  The idea of a 10 -year-old \\nbecoming an ambassador was central to the philosophy of Dr. Doris Twtichell Allen.  Dr. Allen \\n(UMaine ‘23 & ‘26) was a progressive child psychologist from Old Town, Maine.  After World \\nWar II, she launched the Children’s International Summer Village program, now known around \\nthe world as CISV, an organization that brings pre -teens from around the globe to live together \\nduring the summer.  CISV’s history page says, “Doris Allen believed that by creating \\nopportunities for ch ildren of different cultures to come together to learn and make friends, they \\nwould grow up to become ambassadors for a more just and peaceful world.”  Maine’s CISV \\nchapter is one of the most active in the US, hosting summer villages and sending young Main ers \\naround the world.   \\n \\nSamantha didn’t get to continue her work as an ambassador, because she died in an airplane \\ncrash in 1985.  Throughout her short life, she was a beacon of hope and an embodiment of \\npotentiality.  Her letter writing and ambassadorshi p serve as a model for individuals wondering if \\none person’s actions can change the world.  We can honor her and encourage others to learn \\nabout her actions by naming the Maine Turnpike Approach Road in South Portland as \\n“Samantha Smith Way.”  I urge you t o vote Ought to Pass on LD 21: Resolve, Designating \\nMaine Turnpike Approach Road in South Portland as Samantha Smith Way.  '"
      ]
     },
     "execution_count": 11,
     "metadata": {},
     "output_type": "execute_result"
    }
   ],
   "execution_count": 11
  },
  {
   "metadata": {
    "ExecuteTime": {
     "end_time": "2024-10-25T01:07:24.661463Z",
     "start_time": "2024-10-25T01:07:24.657684Z"
    }
   },
   "cell_type": "code",
   "source": [
    "from io import BytesIO\n",
    "pdf_bytes = BytesIO(pdf_content.content)\n",
    "pdf_bytes"
   ],
   "id": "5cb7f948aec1105b",
   "outputs": [
    {
     "data": {
      "text/plain": [
       "<_io.BytesIO at 0x14ee432e0>"
      ]
     },
     "execution_count": 7,
     "metadata": {},
     "output_type": "execute_result"
    }
   ],
   "execution_count": 7
  },
  {
   "metadata": {
    "ExecuteTime": {
     "end_time": "2024-10-25T01:07:36.208276Z",
     "start_time": "2024-10-25T01:07:36.204330Z"
    }
   },
   "cell_type": "code",
   "source": [
    "pdf = PdfReader(pdf_bytes)\n",
    "pdf.pages"
   ],
   "id": "c016724e913bdcba",
   "outputs": [
    {
     "data": {
      "text/plain": [
       "<pypdf._page._VirtualList at 0x14ee15cd0>"
      ]
     },
     "execution_count": 8,
     "metadata": {},
     "output_type": "execute_result"
    }
   ],
   "execution_count": 8
  },
  {
   "metadata": {
    "ExecuteTime": {
     "end_time": "2024-10-25T01:10:23.228323Z",
     "start_time": "2024-10-25T01:10:03.839322Z"
    }
   },
   "cell_type": "code",
   "source": "",
   "id": "50b8b7cc96a072c9",
   "outputs": [
    {
     "name": "stderr",
     "output_type": "stream",
     "text": [
      "Fetching Data:   0%|          | 0/1 [00:00<?, ?query/s]ERROR:root:Error fetching https://legislature.maine.gov/backend/app/services/getDocument.aspx?doctype=test&documentId=10010256: a bytes-like object is required, not 'StreamReader'\n",
      "ERROR:root:Error fetching https://legislature.maine.gov/backend/app/services/getDocument.aspx?doctype=test&documentId=10010256: a bytes-like object is required, not 'StreamReader'\n",
      "ERROR:root:Error fetching https://legislature.maine.gov/backend/app/services/getDocument.aspx?doctype=test&documentId=10010256: a bytes-like object is required, not 'StreamReader'\n",
      "ERROR:root:Error fetching https://legislature.maine.gov/backend/app/services/getDocument.aspx?doctype=test&documentId=10010256: a bytes-like object is required, not 'StreamReader'\n",
      "Fetching Data:   0%|          | 0/1 [00:19<?, ?query/s]\n"
     ]
    },
    {
     "ename": "CancelledError",
     "evalue": "",
     "output_type": "error",
     "traceback": [
      "\u001B[0;31m---------------------------------------------------------------------------\u001B[0m",
      "\u001B[0;31mCancelledError\u001B[0m                            Traceback (most recent call last)",
      "Cell \u001B[0;32mIn[10], line 3\u001B[0m\n\u001B[1;32m      1\u001B[0m \u001B[38;5;28;01mimport\u001B[39;00m \u001B[38;5;21;01msrc\u001B[39;00m\u001B[38;5;21;01m.\u001B[39;00m\u001B[38;5;21;01mpipeline\u001B[39;00m\u001B[38;5;21;01m.\u001B[39;00m\u001B[38;5;21;01masync_fetch\u001B[39;00m \u001B[38;5;28;01mas\u001B[39;00m \u001B[38;5;21;01mfetch\u001B[39;00m\n\u001B[0;32m----> 3\u001B[0m pdf \u001B[38;5;241m=\u001B[39m \u001B[38;5;28;01mawait\u001B[39;00m fetch\u001B[38;5;241m.\u001B[39mrun_in_batches([query_url])\n",
      "File \u001B[0;32m~/git-clones/ds5500-capstone-project/src/pipeline/async_fetch.py:68\u001B[0m, in \u001B[0;36mrun_in_batches\u001B[0;34m(url_queries, batch_size)\u001B[0m\n\u001B[1;32m     66\u001B[0m \u001B[38;5;28;01mif\u001B[39;00m tasks:\n\u001B[1;32m     67\u001B[0m     \u001B[38;5;28;01mfor\u001B[39;00m completed_task \u001B[38;5;129;01min\u001B[39;00m asyncio\u001B[38;5;241m.\u001B[39mas_completed(tasks):\n\u001B[0;32m---> 68\u001B[0m         result \u001B[38;5;241m=\u001B[39m \u001B[38;5;28;01mawait\u001B[39;00m completed_task\n\u001B[1;32m     69\u001B[0m         results\u001B[38;5;241m.\u001B[39mappend(result)\n\u001B[1;32m     70\u001B[0m         pbar\u001B[38;5;241m.\u001B[39mupdate(\u001B[38;5;241m1\u001B[39m)\n",
      "File \u001B[0;32m~/miniconda3/envs/me_legis_testimony_interpreter/lib/python3.11/asyncio/tasks.py:611\u001B[0m, in \u001B[0;36mas_completed.<locals>._wait_for_one\u001B[0;34m()\u001B[0m\n\u001B[1;32m    610\u001B[0m \u001B[38;5;28;01masync\u001B[39;00m \u001B[38;5;28;01mdef\u001B[39;00m \u001B[38;5;21m_wait_for_one\u001B[39m():\n\u001B[0;32m--> 611\u001B[0m     f \u001B[38;5;241m=\u001B[39m \u001B[38;5;28;01mawait\u001B[39;00m done\u001B[38;5;241m.\u001B[39mget()\n\u001B[1;32m    612\u001B[0m     \u001B[38;5;28;01mif\u001B[39;00m f \u001B[38;5;129;01mis\u001B[39;00m \u001B[38;5;28;01mNone\u001B[39;00m:\n\u001B[1;32m    613\u001B[0m         \u001B[38;5;66;03m# Dummy value from _on_timeout().\u001B[39;00m\n\u001B[1;32m    614\u001B[0m         \u001B[38;5;28;01mraise\u001B[39;00m exceptions\u001B[38;5;241m.\u001B[39mTimeoutError\n",
      "File \u001B[0;32m~/miniconda3/envs/me_legis_testimony_interpreter/lib/python3.11/asyncio/queues.py:158\u001B[0m, in \u001B[0;36mQueue.get\u001B[0;34m(self)\u001B[0m\n\u001B[1;32m    156\u001B[0m \u001B[38;5;28mself\u001B[39m\u001B[38;5;241m.\u001B[39m_getters\u001B[38;5;241m.\u001B[39mappend(getter)\n\u001B[1;32m    157\u001B[0m \u001B[38;5;28;01mtry\u001B[39;00m:\n\u001B[0;32m--> 158\u001B[0m     \u001B[38;5;28;01mawait\u001B[39;00m getter\n\u001B[1;32m    159\u001B[0m \u001B[38;5;28;01mexcept\u001B[39;00m:\n\u001B[1;32m    160\u001B[0m     getter\u001B[38;5;241m.\u001B[39mcancel()  \u001B[38;5;66;03m# Just in case getter is not done yet.\u001B[39;00m\n",
      "\u001B[0;31mCancelledError\u001B[0m: "
     ]
    }
   ],
   "execution_count": 10
  }
 ],
 "metadata": {
  "kernelspec": {
   "display_name": "Python 3",
   "language": "python",
   "name": "python3"
  },
  "language_info": {
   "codemirror_mode": {
    "name": "ipython",
    "version": 2
   },
   "file_extension": ".py",
   "mimetype": "text/x-python",
   "name": "python",
   "nbconvert_exporter": "python",
   "pygments_lexer": "ipython2",
   "version": "2.7.6"
  }
 },
 "nbformat": 4,
 "nbformat_minor": 5
}
