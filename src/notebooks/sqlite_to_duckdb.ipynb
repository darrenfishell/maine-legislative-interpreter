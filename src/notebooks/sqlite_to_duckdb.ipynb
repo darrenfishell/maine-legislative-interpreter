{
 "cells": [
  {
   "cell_type": "code",
   "id": "initial_id",
   "metadata": {
    "collapsed": true
   },
   "source": [
    "import duckdb\n",
    "import sqlite3\n",
    "import sys\n",
    "\n",
    "def sqlite_to_duckdb(sqlite_path, duckdb_path):\n",
    "    # Connect to SQLite database\n",
    "    sqlite_conn = sqlite3.connect(sqlite_path)\n",
    "    sqlite_cursor = sqlite_conn.cursor()\n",
    "\n",
    "    # Connect to DuckDB database\n",
    "    duckdb_conn = duckdb.connect(duckdb_path)\n",
    "\n",
    "    # Get list of tables from SQLite\n",
    "    sqlite_cursor.execute(\"SELECT name FROM sqlite_master WHERE type='table';\")\n",
    "    tables = sqlite_cursor.fetchall()\n",
    "\n",
    "    # Install and load SQLite extension in DuckDB\n",
    "    duckdb_conn.execute(\"INSTALL sqlite;\")\n",
    "    duckdb_conn.execute(\"LOAD sqlite;\")\n",
    "\n",
    "    # Attach SQLite database to DuckDB\n",
    "    duckdb_conn.execute(f\"ATTACH '{sqlite_path}' AS sqlite_db (TYPE SQLITE);\")\n",
    "\n",
    "    # Copy each table from SQLite to DuckDB\n",
    "    for table in tables:\n",
    "        table_name = table[0]\n",
    "        print(f\"Copying table: {table_name}\")\n",
    "        duckdb_conn.execute(f\"CREATE TABLE {table_name} AS SELECT * FROM sqlite_db.{table_name};\")\n",
    "\n",
    "    # Close connections\n",
    "    sqlite_conn.close()\n",
    "    duckdb_conn.close()\n",
    "\n",
    "    print(f\"Conversion complete. DuckDB database saved to {duckdb_path}\")\n",
    "\n",
    "# if __name__ == \"__main__\":\n",
    "#     if len(sys.argv) != 3:\n",
    "#         print(\"Usage: python script.py <sqlite_path> <duckdb_path>\")\n",
    "#         sys.exit(1)\n",
    "#     \n",
    "#     sqlite_path = sys.argv[1]\n",
    "#     duckdb_path = sys.argv[2]\n",
    "sqlite_to_duckdb(r'../../data/maine_legislation_and_testimony.db', r'../../data/maine_legislation_and_testimony.duckdb')"
   ],
   "outputs": [],
   "execution_count": null
  }
 ],
 "metadata": {
  "kernelspec": {
   "display_name": "Maine Legislation",
   "language": "python",
   "name": "legislation_pipeline"
  },
  "language_info": {
   "codemirror_mode": {
    "name": "ipython",
    "version": 2
   },
   "file_extension": ".py",
   "mimetype": "text/x-python",
   "name": "python",
   "nbconvert_exporter": "python",
   "pygments_lexer": "ipython2",
   "version": "2.7.6"
  }
 },
 "nbformat": 4,
 "nbformat_minor": 5
}
