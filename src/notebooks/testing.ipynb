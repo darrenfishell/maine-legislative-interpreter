{
 "cells": [
  {
   "cell_type": "code",
   "id": "initial_id",
   "metadata": {
    "collapsed": true,
    "ExecuteTime": {
     "end_time": "2024-10-18T19:51:54.617494Z",
     "start_time": "2024-10-18T19:51:54.448012Z"
    }
   },
   "source": [
    "import requests\n",
    "from src.pipeline import async_fetch as fetch\n",
    "from pathlib import Path\n",
    "from io import BytesIO\n",
    "from pypdf import PdfReader\n",
    "import pickle"
   ],
   "outputs": [],
   "execution_count": 1
  },
  {
   "metadata": {
    "ExecuteTime": {
     "end_time": "2024-10-18T19:51:54.621326Z",
     "start_time": "2024-10-18T19:51:54.619763Z"
    }
   },
   "cell_type": "code",
   "source": [
    "byte_collector = [\n",
    "    { id: 10014, 'url': 'https://legislature.maine.gov/backend/app/services/getDocument.aspx?doctype=test&documentId=10014' },\n",
    "    { id: 10001, 'url': 'https://legislature.maine.gov/backend/app/services/getDocument.aspx?doctype=test&documentId=10001' }\n",
    "]"
   ],
   "id": "ffdcffbd7d43e34b",
   "outputs": [],
   "execution_count": 2
  },
  {
   "metadata": {
    "ExecuteTime": {
     "end_time": "2024-10-18T19:53:04.623580Z",
     "start_time": "2024-10-18T19:53:04.620291Z"
    }
   },
   "cell_type": "code",
   "source": "[url.get('url') for url in byte_collector]",
   "id": "9f4237818f6b9bf5",
   "outputs": [
    {
     "data": {
      "text/plain": [
       "['https://legislature.maine.gov/backend/app/services/getDocument.aspx?doctype=test&documentId=10014',\n",
       " 'https://legislature.maine.gov/backend/app/services/getDocument.aspx?doctype=test&documentId=10001']"
      ]
     },
     "execution_count": 4,
     "metadata": {},
     "output_type": "execute_result"
    }
   ],
   "execution_count": 4
  },
  {
   "metadata": {
    "ExecuteTime": {
     "end_time": "2024-10-18T19:52:28.439094Z",
     "start_time": "2024-10-18T19:51:55.781875Z"
    }
   },
   "cell_type": "code",
   "source": [
    "test = await fetch.run_in_batches([url.get('url') for url in byte_collector])\n",
    "test"
   ],
   "id": "13f6a835038711fb",
   "outputs": [
    {
     "name": "stderr",
     "output_type": "stream",
     "text": [
      "Fetching Data:   0%|          | 0/2 [00:00<?, ?query/s]ERROR:root:Error fetching https://legislature.maine.gov/backend/app/services/getDocument.aspx?doctype=test&documentId=10014: a bytes-like object is required, not 'StreamReader'\n",
      "ERROR:root:Error fetching https://legislature.maine.gov/backend/app/services/getDocument.aspx?doctype=test&documentId=10001: a bytes-like object is required, not 'StreamReader'\n",
      "ERROR:root:Error fetching https://legislature.maine.gov/backend/app/services/getDocument.aspx?doctype=test&documentId=10014: a bytes-like object is required, not 'StreamReader'\n",
      "ERROR:root:Error fetching https://legislature.maine.gov/backend/app/services/getDocument.aspx?doctype=test&documentId=10001: a bytes-like object is required, not 'StreamReader'\n",
      "ERROR:root:Error fetching https://legislature.maine.gov/backend/app/services/getDocument.aspx?doctype=test&documentId=10014: a bytes-like object is required, not 'StreamReader'\n",
      "ERROR:root:Error fetching https://legislature.maine.gov/backend/app/services/getDocument.aspx?doctype=test&documentId=10001: a bytes-like object is required, not 'StreamReader'\n",
      "ERROR:root:Error fetching https://legislature.maine.gov/backend/app/services/getDocument.aspx?doctype=test&documentId=10014: a bytes-like object is required, not 'StreamReader'\n",
      "ERROR:root:Error fetching https://legislature.maine.gov/backend/app/services/getDocument.aspx?doctype=test&documentId=10001: a bytes-like object is required, not 'StreamReader'\n",
      "ERROR:root:Error fetching https://legislature.maine.gov/backend/app/services/getDocument.aspx?doctype=test&documentId=10014: a bytes-like object is required, not 'StreamReader'\n",
      "ERROR:root:Error fetching https://legislature.maine.gov/backend/app/services/getDocument.aspx?doctype=test&documentId=10001: a bytes-like object is required, not 'StreamReader'\n",
      "ERROR:root:Max retries reached for https://legislature.maine.gov/backend/app/services/getDocument.aspx?doctype=test&documentId=10014\n",
      "Fetching Data:  50%|█████     | 1/2 [00:32<00:32, 32.62s/query]ERROR:root:Max retries reached for https://legislature.maine.gov/backend/app/services/getDocument.aspx?doctype=test&documentId=10001\n",
      "Fetching Data: 100%|██████████| 2/2 [00:32<00:00, 16.32s/query]\n"
     ]
    },
    {
     "data": {
      "text/plain": [
       "[None, None]"
      ]
     },
     "execution_count": 3,
     "metadata": {},
     "output_type": "execute_result"
    }
   ],
   "execution_count": 3
  },
  {
   "metadata": {
    "ExecuteTime": {
     "end_time": "2024-10-18T18:31:10.688734Z",
     "start_time": "2024-10-18T18:31:08.161331Z"
    }
   },
   "cell_type": "code",
   "source": [
    "for doc in byte_collector:\n",
    "    response = requests.get(doc['url'])\n",
    "    doc['bytestream'] = BytesIO(response.content)\n",
    "    \n",
    "with open('pdf_bytes.pkl', 'wb') as f:\n",
    "    pickle.dump(byte_collector, f)"
   ],
   "id": "d9362c1391c51d55",
   "outputs": [],
   "execution_count": 32
  },
  {
   "metadata": {
    "ExecuteTime": {
     "end_time": "2024-10-18T18:32:02.712987Z",
     "start_time": "2024-10-18T18:32:02.703650Z"
    }
   },
   "cell_type": "code",
   "source": "pdf_dict = PdfReader( byte_collector[0].get('bytestream') )",
   "id": "783d0320e8c941c0",
   "outputs": [],
   "execution_count": 34
  },
  {
   "metadata": {
    "ExecuteTime": {
     "end_time": "2024-10-18T18:32:37.940354Z",
     "start_time": "2024-10-18T18:32:37.881148Z"
    }
   },
   "cell_type": "code",
   "source": "''.join([text.extract_text() for text in pdf_dict.pages]).replace('\\n', ' ').strip()",
   "id": "6af96446a70ca5a3",
   "outputs": [
    {
     "data": {
      "text/plain": [
       "\"Leading the Way to Great Public Schools for Every Maine Student A l\\\\/laine  L  Education  .1 Association  Lois Kilby-Chesley President  Grace E. Leavitt Vice President  Joyce A. Blakney Treasurer  Michael Thurston NEA Director  Claire Bailey NEA Director  Rob Walker Executive Director  Senator Haskell, Representative Goode, and other esteemed members of the Joint Standing Committee  on Taxation,'  My name is John Kosinski and l am here on behalf of the Maine Education Association. The MEA is in full  support of LD 317, LD 1120, LD 1126, LD 1463, and LD 1255.  l will not pretend to be an expert on corporate tax policy, but the MEA feels strongly we must find  additional revenues to fund our public education system. Simply put, we are faced with two clear  optionsf Either we raise the revenues to fund our schools, or we force property owners to shoulder  more of the responsibility of educating our state's children. The MEA believes closing tax loopholes for  corporations is a far superior method for funding our schools, rather than relying on middle class  homeowners to continue to foot the bill.  Last Tuesday, l testified before this Committee regarding the inability for our state to reach the 55%  funding threshold establishedby the voters in-2004. I spoke about how we are now $200 million away  fromthe demands of the voters. And every time we fail to fund our schools, we are simply shifting this  cost onto localhome owners.'  On Friday, I testified before this Committee about the Essential Programs and Services funding and how  we, under the Governor's budget, face the very real threat that we will be unable to fund our public~  schools at the bare minimum necessary to provide an adequate education to our students. Numbers  from the Maine Department of Education show that we are now likely to fall behind the Essential  Programs and Services figures by $22 million for the first time since Essential Programs and Services was  putinto law. . A  There are a number of misunderstandings about the overall cost of public education in Maine. I have  pulled the numbers from the Maine Department of Education and hope this will help shed some light on  the subject.1  Currently, Maine pays $10,919 per student to educate them in our K-12 public education system. This  figure is a statewide average and includes all of the state contribution and all of the local contribution to  public schools. Of that, $4,826 comes from the state. Again, this is a statewide average and basically  reflects the amount we spent on schools divided byn the number of students. The rest of the funding,  $6,093, come directly from property owners. In other words 44% of the cost of public schools comes  from the state, the rest from local taxpayers. I think we all know that local property owners are at their  35 Community Drive Augusta,ME 04330-8005 207-6226866 800-452-8709 207~623-2129 fax'  ~  www.maine.nea.org *breaking point and need relief. The reason for the referendum in 2004 was largely due to the state  continuing to shift responsibility to the local towns to pay for schools. While we made great progress  until 2008 of the state paying more of the cost of the schools, since then we have fallen backward,  precipitously.  The other reason the MEA supports these bills is because we support increased accountability. Nearly  every day, our public schools are facing greater scrutiny and new accountability measures. Standardized  test scores, graduation rates, and annual yearly progress are all a matter of public record. Every timea  new test score is released, schools are held accountable to the results. We often argue that the  measures we may use to evaluate our schools are sometimes lacking. For example, we would argue that  standardized test scores are an insufficient and skewed measuring stick for our schools. But that does  not mean we are not supportive of greater transparency and accountability.  We are pleased to see that all of these bills are intended to bring greater accountability and scrutiny to  the corporate tax breaks our state doles out. LD 317, LD 1120, LD 1126, LKD 1463 and LD 1255 all, in  one way or another, bring more transparency to corporate tax breaks. Everyday, the MEA is here in  Augusta fighting tooth and nail for every penny that we can move to our schools and relieve the burden  on homeowners whil_e providing our schools the resources they need to be successful. We think it is  only fair that the Legislature is interrogating every single corporate tax break or subsidy to make sure  that we are getting the most bang for our buck.  lf there is a corporate tax break that is not doing what it was intended to do, we should get rid ‘of it. At  the same time, if there are corporate tax breaks that are producing benefits to the state, we should  know that too. Sadly, we feel we have little data to actually evaluate our tax breaks to corporations.  instead, we rely on anecdotes and lobbying prowess. These bills will helpfully inform policy makers so  they can make decisions based on reasoned arguments complete with objective data and analysis.  Thank you in advance for your time, and I will do my best to answer any questions you may have.\""
      ]
     },
     "execution_count": 38,
     "metadata": {},
     "output_type": "execute_result"
    }
   ],
   "execution_count": 38
  },
  {
   "metadata": {
    "ExecuteTime": {
     "end_time": "2024-10-18T18:13:44.910364Z",
     "start_time": "2024-10-18T18:13:44.907885Z"
    }
   },
   "cell_type": "code",
   "source": "pdf_bytes = BytesIO(results.content)",
   "id": "453b2f4c58f71d6e",
   "outputs": [],
   "execution_count": 14
  },
  {
   "metadata": {},
   "cell_type": "code",
   "outputs": [],
   "execution_count": null,
   "source": "",
   "id": "9a77df8c75dc1027"
  },
  {
   "metadata": {
    "ExecuteTime": {
     "end_time": "2024-10-18T18:14:09.490088Z",
     "start_time": "2024-10-18T18:14:09.472873Z"
    }
   },
   "cell_type": "code",
   "source": "pdf = PdfReader(pdf_bytes)",
   "id": "377232ff94fe87a7",
   "outputs": [],
   "execution_count": 16
  },
  {
   "metadata": {
    "ExecuteTime": {
     "end_time": "2024-10-18T18:16:45.443056Z",
     "start_time": "2024-10-18T18:16:45.402213Z"
    }
   },
   "cell_type": "code",
   "source": [
    "text = ''\n",
    "testimony_text = ''.join([text.extract_text() for text in pdf.pages]).replace('\\n', ' ').strip()"
   ],
   "id": "942e70f0ba84284",
   "outputs": [],
   "execution_count": 24
  },
  {
   "metadata": {
    "ExecuteTime": {
     "end_time": "2024-10-18T18:16:47.831152Z",
     "start_time": "2024-10-18T18:16:47.825954Z"
    }
   },
   "cell_type": "code",
   "source": "testimony_text",
   "id": "a8d5daa6bc468c38",
   "outputs": [
    {
     "data": {
      "text/plain": [
       "\"Leading the Way to Great Public Schools for Every Maine Student A l\\\\/laine  L  Education  .1 Association  Lois Kilby-Chesley President  Grace E. Leavitt Vice President  Joyce A. Blakney Treasurer  Michael Thurston NEA Director  Claire Bailey NEA Director  Rob Walker Executive Director  Senator Haskell, Representative Goode, and other esteemed members of the Joint Standing Committee  on Taxation,'  My name is John Kosinski and l am here on behalf of the Maine Education Association. The MEA is in full  support of LD 317, LD 1120, LD 1126, LD 1463, and LD 1255.  l will not pretend to be an expert on corporate tax policy, but the MEA feels strongly we must find  additional revenues to fund our public education system. Simply put, we are faced with two clear  optionsf Either we raise the revenues to fund our schools, or we force property owners to shoulder  more of the responsibility of educating our state's children. The MEA believes closing tax loopholes for  corporations is a far superior method for funding our schools, rather than relying on middle class  homeowners to continue to foot the bill.  Last Tuesday, l testified before this Committee regarding the inability for our state to reach the 55%  funding threshold establishedby the voters in-2004. I spoke about how we are now $200 million away  fromthe demands of the voters. And every time we fail to fund our schools, we are simply shifting this  cost onto localhome owners.'  On Friday, I testified before this Committee about the Essential Programs and Services funding and how  we, under the Governor's budget, face the very real threat that we will be unable to fund our public~  schools at the bare minimum necessary to provide an adequate education to our students. Numbers  from the Maine Department of Education show that we are now likely to fall behind the Essential  Programs and Services figures by $22 million for the first time since Essential Programs and Services was  putinto law. . A  There are a number of misunderstandings about the overall cost of public education in Maine. I have  pulled the numbers from the Maine Department of Education and hope this will help shed some light on  the subject.1  Currently, Maine pays $10,919 per student to educate them in our K-12 public education system. This  figure is a statewide average and includes all of the state contribution and all of the local contribution to  public schools. Of that, $4,826 comes from the state. Again, this is a statewide average and basically  reflects the amount we spent on schools divided byn the number of students. The rest of the funding,  $6,093, come directly from property owners. In other words 44% of the cost of public schools comes  from the state, the rest from local taxpayers. I think we all know that local property owners are at their  35 Community Drive Augusta,ME 04330-8005 207-6226866 800-452-8709 207~623-2129 fax'  ~  www.maine.nea.org *breaking point and need relief. The reason for the referendum in 2004 was largely due to the state  continuing to shift responsibility to the local towns to pay for schools. While we made great progress  until 2008 of the state paying more of the cost of the schools, since then we have fallen backward,  precipitously.  The other reason the MEA supports these bills is because we support increased accountability. Nearly  every day, our public schools are facing greater scrutiny and new accountability measures. Standardized  test scores, graduation rates, and annual yearly progress are all a matter of public record. Every timea  new test score is released, schools are held accountable to the results. We often argue that the  measures we may use to evaluate our schools are sometimes lacking. For example, we would argue that  standardized test scores are an insufficient and skewed measuring stick for our schools. But that does  not mean we are not supportive of greater transparency and accountability.  We are pleased to see that all of these bills are intended to bring greater accountability and scrutiny to  the corporate tax breaks our state doles out. LD 317, LD 1120, LD 1126, LKD 1463 and LD 1255 all, in  one way or another, bring more transparency to corporate tax breaks. Everyday, the MEA is here in  Augusta fighting tooth and nail for every penny that we can move to our schools and relieve the burden  on homeowners whil_e providing our schools the resources they need to be successful. We think it is  only fair that the Legislature is interrogating every single corporate tax break or subsidy to make sure  that we are getting the most bang for our buck.  lf there is a corporate tax break that is not doing what it was intended to do, we should get rid ‘of it. At  the same time, if there are corporate tax breaks that are producing benefits to the state, we should  know that too. Sadly, we feel we have little data to actually evaluate our tax breaks to corporations.  instead, we rely on anecdotes and lobbying prowess. These bills will helpfully inform policy makers so  they can make decisions based on reasoned arguments complete with objective data and analysis.  Thank you in advance for your time, and I will do my best to answer any questions you may have.\""
      ]
     },
     "execution_count": 25,
     "metadata": {},
     "output_type": "execute_result"
    }
   ],
   "execution_count": 25
  }
 ],
 "metadata": {
  "kernelspec": {
   "display_name": "ME_LEGIS",
   "language": "python",
   "name": "me_legis_testimony_interpreter"
  },
  "language_info": {
   "codemirror_mode": {
    "name": "ipython",
    "version": 2
   },
   "file_extension": ".py",
   "mimetype": "text/x-python",
   "name": "python",
   "nbconvert_exporter": "python",
   "pygments_lexer": "ipython2",
   "version": "2.7.6"
  }
 },
 "nbformat": 4,
 "nbformat_minor": 5
}
