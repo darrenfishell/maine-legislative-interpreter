{
 "cells": [
  {
   "cell_type": "code",
   "id": "initial_id",
   "metadata": {
    "collapsed": true,
    "ExecuteTime": {
     "end_time": "2025-07-09T23:07:39.478854Z",
     "start_time": "2025-07-09T23:07:39.475389Z"
    }
   },
   "source": [
    "import pypdf\n",
    "import os\n",
    "\n",
    "from pypdf import PdfReader"
   ],
   "outputs": [],
   "execution_count": 17
  },
  {
   "metadata": {
    "ExecuteTime": {
     "end_time": "2025-07-09T23:07:39.485851Z",
     "start_time": "2025-07-09T23:07:39.483740Z"
    }
   },
   "cell_type": "code",
   "source": "pdf_path = '/Users/Darren/git-clones/maine-legislative-interpreter/src/testimony_pdfs/126/2552.pdf'",
   "id": "43e232a9c8b1e9eb",
   "outputs": [],
   "execution_count": 18
  },
  {
   "metadata": {
    "ExecuteTime": {
     "end_time": "2025-07-09T23:07:39.496703Z",
     "start_time": "2025-07-09T23:07:39.493466Z"
    }
   },
   "cell_type": "code",
   "source": [
    "pdf = PdfReader(pdf_path)\n",
    "print([page for page in pdf.pages])\n",
    "    "
   ],
   "id": "54a1c0d8f33bf34",
   "outputs": [
    {
     "name": "stdout",
     "output_type": "stream",
     "text": [
      "[{'/Type': '/Page', '/Parent': IndirectObject(3, 0, 4412403312), '/MediaBox': [0, 0, 612, 792], '/Resources': {'/XObject': {'/Img1': IndirectObject(4, 0, 4412403312)}}, '/Contents': [IndirectObject(6, 0, 4412403312)]}]\n"
     ]
    }
   ],
   "execution_count": 19
  },
  {
   "metadata": {
    "ExecuteTime": {
     "end_time": "2025-07-09T23:11:26.777756Z",
     "start_time": "2025-07-09T23:11:26.766101Z"
    }
   },
   "cell_type": "code",
   "source": [
    "import fitz\n",
    "\n",
    "def verify_no_text(pdf_path):\n",
    "    doc = fitz.open(pdf_path)\n",
    "    \n",
    "    # Try every possible text extraction method\n",
    "    print(\"=== TRYING ALL EXTRACTION METHODS ===\")\n",
    "    \n",
    "    for page_num, page in enumerate(doc):\n",
    "        print(f\"\\nPage {page_num + 1}:\")\n",
    "        \n",
    "        # Method 1: Search for ANY character\n",
    "        chars_found = []\n",
    "        for char in \"abcdefghijklmnopqrstuvwxyzABCDEFGHIJKLMNOPQRSTUVWXYZ0123456789\":\n",
    "            if page.search_for(char):\n",
    "                chars_found.append(char)\n",
    "        \n",
    "        if chars_found:\n",
    "            print(f\"Characters found via search: {chars_found}\")\n",
    "        else:\n",
    "            print(\"No characters found via search\")\n",
    "        \n",
    "        # Method 2: Get text with every possible flag combination\n",
    "        all_flags = fitz.TEXT_PRESERVE_LIGATURES | fitz.TEXT_PRESERVE_WHITESPACE | fitz.TEXT_PRESERVE_IMAGES | fitz.TEXT_DEHYPHENATE | fitz.TEXT_PRESERVE_SPANS\n",
    "        \n",
    "        text = page.get_text(\"text\", flags=all_flags)\n",
    "        if text.strip():\n",
    "            print(f\"Text found: {text[:100]}...\")\n",
    "        else:\n",
    "            print(\"No text found with any flags\")\n",
    "    \n",
    "    doc.close()\n",
    "\n",
    "verify_no_text(pdf_path)"
   ],
   "id": "6641c3c4eeb1740c",
   "outputs": [
    {
     "name": "stdout",
     "output_type": "stream",
     "text": [
      "=== TRYING ALL EXTRACTION METHODS ===\n",
      "\n",
      "Page 1:\n",
      "No characters found via search\n",
      "No text found with any flags\n"
     ]
    }
   ],
   "execution_count": 24
  }
 ],
 "metadata": {
  "kernelspec": {
   "display_name": "me_legislation",
   "language": "python",
   "name": "me_legislation"
  },
  "language_info": {
   "codemirror_mode": {
    "name": "ipython",
    "version": 2
   },
   "file_extension": ".py",
   "mimetype": "text/x-python",
   "name": "python",
   "nbconvert_exporter": "python",
   "pygments_lexer": "ipython2",
   "version": "2.7.6"
  }
 },
 "nbformat": 4,
 "nbformat_minor": 5
}
