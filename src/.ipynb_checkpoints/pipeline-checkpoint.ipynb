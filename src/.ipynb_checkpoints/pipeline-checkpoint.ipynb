{
 "cells": [
  {
   "cell_type": "code",
   "execution_count": 4,
   "id": "initial_id",
   "metadata": {
    "is_executing": true
   },
   "outputs": [],
   "source": [
    "from src.me_session_wrapper import LegislativeSession\n",
    "session_130 = LegislativeSession(130)"
   ]
  },
  {
   "cell_type": "code",
   "execution_count": 5,
   "id": "865ccd5325cc34fd",
   "metadata": {},
   "outputs": [
    {
     "name": "stderr",
     "output_type": "stream",
     "text": [
      "Fetching Data: 100%|██████████| 243/243 [00:17<00:00, 13.87query/s]\n"
     ]
    }
   ],
   "source": [
    "await session_130.retrieve_bills()"
   ]
  },
  {
   "cell_type": "code",
   "execution_count": null,
   "id": "7f49445993776372",
   "metadata": {},
   "outputs": [],
   "source": [
    "for session in session_131.bills['legislature'].unique():\n",
    "    print(session)"
   ]
  },
  {
   "cell_type": "code",
   "execution_count": 2,
   "id": "2b90bf2dddf54fe2",
   "metadata": {
    "collapsed": false,
    "jupyter": {
     "outputs_hidden": false
    }
   },
   "outputs": [
    {
     "name": "stdout",
     "output_type": "stream",
     "text": [
      "Retrieving testimony for https://legislature.maine.gov/backend/breeze/data/CommitteeTestimony?%24filter=%28%28Request%2FLegislature+eq+130%29+and+%28Inactive+ne+true%29%29+and+%28not+%28startswith%28LastName%2C+%27%40%27%29+eq+true%29%29&%24orderby=LastName%2CFirstName%2COrganization&%24expand=Request&%24select=Id%2CSourceDocument%2CRequestId%2CFileType%2CFileSize%2CNamePrefix%2CFirstName%2CLastName%2CNameSuffix%2COrganization%2CPresentedDate%2CPolicyArea%2CTopic%2CCreated%2CCreatedBy%2CLastEdited%2CLastEditedBy%2CPrivate%2CInactive%2CTestimonySubmissionId%2CHearingDate%2CLDNumber%2CRequest%2CCommitteeTestimonyDocumentContents\n"
     ]
    },
    {
     "ename": "TypeError",
     "evalue": "object DataFrame can't be used in 'await' expression",
     "output_type": "error",
     "traceback": [
      "\u001B[0;31m---------------------------------------------------------------------------\u001B[0m",
      "\u001B[0;31mTypeError\u001B[0m                                 Traceback (most recent call last)",
      "Cell \u001B[0;32mIn[2], line 1\u001B[0m\n\u001B[0;32m----> 1\u001B[0m \u001B[38;5;28;01mawait\u001B[39;00m session_130\u001B[38;5;241m.\u001B[39mretrieve_testimony_metadata()\n",
      "File \u001B[0;32m~/git-clones/ds5500-capstone-project/src/me_session_wrapper.py:48\u001B[0m, in \u001B[0;36mLegislativeSession.retrieve_testimony_metadata\u001B[0;34m(self)\u001B[0m\n\u001B[1;32m     44\u001B[0m \u001B[38;5;28;01masync\u001B[39;00m \u001B[38;5;28;01mdef\u001B[39;00m \u001B[38;5;21mretrieve_testimony_metadata\u001B[39m(\u001B[38;5;28mself\u001B[39m):\n\u001B[1;32m     45\u001B[0m \u001B[38;5;250m    \u001B[39m\u001B[38;5;124;03m\"\"\"\u001B[39;00m\n\u001B[1;32m     46\u001B[0m \u001B[38;5;124;03m    Retrieve and store testimony metadata based on the bills retrieved.\u001B[39;00m\n\u001B[1;32m     47\u001B[0m \u001B[38;5;124;03m    \"\"\"\u001B[39;00m\n\u001B[0;32m---> 48\u001B[0m     \u001B[38;5;28mself\u001B[39m\u001B[38;5;241m.\u001B[39mtestimony_metadata \u001B[38;5;241m=\u001B[39m \u001B[38;5;28;01mawait\u001B[39;00m \u001B[38;5;28mself\u001B[39m\u001B[38;5;241m.\u001B[39m_get_testimony_metadata()\n",
      "\u001B[0;31mTypeError\u001B[0m: object DataFrame can't be used in 'await' expression"
     ]
    }
   ],
   "source": [
    "await session_130.retrieve_testimony_metadata()"
   ]
  },
  {
   "cell_type": "code",
   "execution_count": null,
   "id": "6caf4e0199976148",
   "metadata": {
    "collapsed": false,
    "jupyter": {
     "outputs_hidden": false
    }
   },
   "outputs": [],
   "source": [
    "[doc for doc in session.testimony_metadata['Id']]"
   ]
  },
  {
   "cell_type": "code",
   "execution_count": null,
   "id": "13535e45961582c9",
   "metadata": {
    "collapsed": false,
    "jupyter": {
     "outputs_hidden": false
    }
   },
   "outputs": [],
   "source": [
    "import requests\n",
    "r = requests.get('https://legislature.maine.gov/backend/app/services/getDocument.aspx?doctype=test&documentId=55')"
   ]
  },
  {
   "cell_type": "code",
   "execution_count": null,
   "id": "b785b3aadf9ec588",
   "metadata": {
    "collapsed": false,
    "jupyter": {
     "outputs_hidden": false
    }
   },
   "outputs": [],
   "source": [
    "from pypdf import PdfReader\n",
    "from io import BytesIO\n",
    "\n",
    "r_bytes = BytesIO(r.content)\n",
    "pdf = PdfReader(r_bytes)"
   ]
  },
  {
   "cell_type": "code",
   "execution_count": null,
   "id": "5a94153407573759",
   "metadata": {
    "collapsed": false,
    "jupyter": {
     "outputs_hidden": false
    }
   },
   "outputs": [],
   "source": [
    "doc_text = ''\n",
    "for page in pdf.pages:\n",
    "    page_text += page.extract_text()\n",
    "page_text"
   ]
  }
 ],
 "metadata": {
  "kernelspec": {
   "display_name": "ME_LEGIS",
   "language": "python",
   "name": "me_legis_testimony_interpreter"
  },
  "language_info": {
   "codemirror_mode": {
    "name": "ipython",
    "version": 3
   },
   "file_extension": ".py",
   "mimetype": "text/x-python",
   "name": "python",
   "nbconvert_exporter": "python",
   "pygments_lexer": "ipython3",
   "version": "3.11.10"
  }
 },
 "nbformat": 4,
 "nbformat_minor": 5
}
